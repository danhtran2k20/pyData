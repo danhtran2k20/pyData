{
 "cells": [
  {
   "cell_type": "markdown",
   "source": [
    "### 4_Assignment\r\n",
    "\r\n",
    "For this project you will visualize time series data using a line chart, bar chart, and box plots. You will use Pandas, Matplotlib, and Seaborn to visualize a dataset containing the number of page views each day on the freeCodeCamp.org forum from 2016-05-09 to 2019-12-03. The data visualizations will help you understand the patterns in visits and identify yearly and monthly growth.\r\n",
    "\r\n",
    "Use the data to complete the following tasks:\r\n",
    "* Use Pandas to import the data from \"fcc-forum-pageviews.csv\". Set the index to the \"date\" column.\r\n",
    "* Clean the data by filtering out days when the page views were in the top 2.5% of the dataset or bottom 2.5% of the dataset.\r\n",
    "* Create a `draw_line_plot` function that uses Matplotlib to draw a line chart similar to \"examples/Figure_1.png\". The title should be \"plt.x\". The label on the x axis should be \"Date\" and the label on the y axis should be \"Page Views\".\r\n",
    "* Create a `draw_bar_plot` function that draws a bar chart similar to \"examples/Figure_2.png\". It should show average daily page views for each month grouped by year. The legend should show month labels and have a title of \"Months\". On the chart, the label on the x axis should be \"Years\" and the label on the y axis should be \"Average Page Views\".\r\n",
    "* Create a `draw_box_plot` function that uses Searborn to draw two adjacent box plots similar to \"examples/Figure_3.png\". These box plots should show how the values are distributed within a given year or month and how it compares over time. The title of the first chart should be \"Year-wise Box Plot (Trend)\" and the title of the second chart should be \"Month-wise Box Plot (Seasonality)\". Make sure the month labels on bottom start at \"Jan\" and the x and x axis are labeled correctly.\r\n",
    "\r\n",
    "For each chart, make sure to use a copy of the data frame."
   ],
   "metadata": {}
  },
  {
   "cell_type": "code",
   "execution_count": 2,
   "source": [
    "import matplotlib.pyplot as plt\r\n",
    "import pandas as pd\r\n",
    "import seaborn as sns\r\n",
    "from pandas.plotting import register_matplotlib_converters\r\n",
    "register_matplotlib_converters()"
   ],
   "outputs": [],
   "metadata": {}
  },
  {
   "cell_type": "code",
   "execution_count": 3,
   "source": [
    "# Import data (Make sure to parse dates. Consider setting index column to 'date'.)\r\n",
    "df = pd.read_csv('fcc-forum-pageviews.csv')\r\n",
    "df = df.set_index('date')\r\n",
    "df.head()"
   ],
   "outputs": [
    {
     "output_type": "execute_result",
     "data": {
      "text/html": [
       "<div>\n",
       "<style scoped>\n",
       "    .dataframe tbody tr th:only-of-type {\n",
       "        vertical-align: middle;\n",
       "    }\n",
       "\n",
       "    .dataframe tbody tr th {\n",
       "        vertical-align: top;\n",
       "    }\n",
       "\n",
       "    .dataframe thead th {\n",
       "        text-align: right;\n",
       "    }\n",
       "</style>\n",
       "<table border=\"1\" class=\"dataframe\">\n",
       "  <thead>\n",
       "    <tr style=\"text-align: right;\">\n",
       "      <th></th>\n",
       "      <th>value</th>\n",
       "    </tr>\n",
       "    <tr>\n",
       "      <th>date</th>\n",
       "      <th></th>\n",
       "    </tr>\n",
       "  </thead>\n",
       "  <tbody>\n",
       "    <tr>\n",
       "      <th>2016-05-09</th>\n",
       "      <td>1201</td>\n",
       "    </tr>\n",
       "    <tr>\n",
       "      <th>2016-05-10</th>\n",
       "      <td>2329</td>\n",
       "    </tr>\n",
       "    <tr>\n",
       "      <th>2016-05-11</th>\n",
       "      <td>1716</td>\n",
       "    </tr>\n",
       "    <tr>\n",
       "      <th>2016-05-12</th>\n",
       "      <td>10539</td>\n",
       "    </tr>\n",
       "    <tr>\n",
       "      <th>2016-05-13</th>\n",
       "      <td>6933</td>\n",
       "    </tr>\n",
       "  </tbody>\n",
       "</table>\n",
       "</div>"
      ],
      "text/plain": [
       "            value\n",
       "date             \n",
       "2016-05-09   1201\n",
       "2016-05-10   2329\n",
       "2016-05-11   1716\n",
       "2016-05-12  10539\n",
       "2016-05-13   6933"
      ]
     },
     "metadata": {},
     "execution_count": 3
    }
   ],
   "metadata": {}
  },
  {
   "cell_type": "code",
   "execution_count": 4,
   "source": [
    "# Clean data\r\n",
    "df = df[(df[\"value\"] > df[\"value\"].quantile(.025)) & (df[\"value\"] < df[\"value\"].quantile(.975))]\r\n",
    "df.index = pd.to_datetime(df.index)\r\n",
    "df.head()"
   ],
   "outputs": [
    {
     "output_type": "execute_result",
     "data": {
      "text/html": [
       "<div>\n",
       "<style scoped>\n",
       "    .dataframe tbody tr th:only-of-type {\n",
       "        vertical-align: middle;\n",
       "    }\n",
       "\n",
       "    .dataframe tbody tr th {\n",
       "        vertical-align: top;\n",
       "    }\n",
       "\n",
       "    .dataframe thead th {\n",
       "        text-align: right;\n",
       "    }\n",
       "</style>\n",
       "<table border=\"1\" class=\"dataframe\">\n",
       "  <thead>\n",
       "    <tr style=\"text-align: right;\">\n",
       "      <th></th>\n",
       "      <th>value</th>\n",
       "    </tr>\n",
       "    <tr>\n",
       "      <th>date</th>\n",
       "      <th></th>\n",
       "    </tr>\n",
       "  </thead>\n",
       "  <tbody>\n",
       "    <tr>\n",
       "      <th>2016-05-19</th>\n",
       "      <td>19736</td>\n",
       "    </tr>\n",
       "    <tr>\n",
       "      <th>2016-05-26</th>\n",
       "      <td>18060</td>\n",
       "    </tr>\n",
       "    <tr>\n",
       "      <th>2016-05-27</th>\n",
       "      <td>19997</td>\n",
       "    </tr>\n",
       "    <tr>\n",
       "      <th>2016-05-28</th>\n",
       "      <td>19044</td>\n",
       "    </tr>\n",
       "    <tr>\n",
       "      <th>2016-05-29</th>\n",
       "      <td>20325</td>\n",
       "    </tr>\n",
       "  </tbody>\n",
       "</table>\n",
       "</div>"
      ],
      "text/plain": [
       "            value\n",
       "date             \n",
       "2016-05-19  19736\n",
       "2016-05-26  18060\n",
       "2016-05-27  19997\n",
       "2016-05-28  19044\n",
       "2016-05-29  20325"
      ]
     },
     "metadata": {},
     "execution_count": 4
    }
   ],
   "metadata": {}
  },
  {
   "cell_type": "code",
   "execution_count": 5,
   "source": [
    "# Draw line plot\r\n",
    "# https://matplotlib.org/stable/gallery/text_labels_and_annotations/date.html\r\n",
    "# https://stackoverflow.com/questions/25146121/extracting-just-month-and-year-separately-from-pandas-datetime-column\r\n",
    "# https://stackoverflow.com/questions/43538396/python-how-can-i-change-the-x-axis-interval-to-show-12-months-using-matplotlib\r\n",
    "# gca - get current axis, gcf - figure\r\n",
    "fig = plt.figure(figsize=(20,6))\r\n",
    "plt.plot(df.index,df[\"value\"],color=\"r\")\r\n",
    "plt.title(\"Daily freeCodeCamp Forum Page Views 5/2016-12/2019\", color = \"black\")\r\n",
    "plt.xlabel(\"Date\",color = \"black\")\r\n",
    "plt.ylabel(\"Page Views\",color = \"black\")\r\n",
    "plt.show()\r\n"
   ],
   "outputs": [
    {
     "output_type": "display_data",
     "data": {
      "image/png": "[encoded data removed]",
      "text/plain": [
       "<Figure size 1440x432 with 1 Axes>"
      ]
     },
     "metadata": {
      "needs_background": "light"
     }
    }
   ],
   "metadata": {}
  },
  {
   "cell_type": "code",
   "execution_count": 6,
   "source": [
    "# Save image and return fig (don't change this part)\r\n",
    "fig.savefig('line_plot.png')"
   ],
   "outputs": [],
   "metadata": {}
  },
  {
   "cell_type": "code",
   "execution_count": 46,
   "source": [
    "# df.sort_values([\"b\", \"c\"], ascending = (False, True))\r\n",
    "# Copy and modify data for monthly bar plot\r\n",
    "df_bar = df.copy()\r\n",
    "month_order = ['January', 'February', 'March', 'April', 'May', 'June', 'July', 'August', 'September', 'October', 'November', 'December']\r\n",
    "month_order_3char = [month[:3] for month in month_order]\r\n",
    "df_bar[\"year\"] = pd.DatetimeIndex(df_bar.index).year\r\n",
    "df_bar[\"month\"] = pd.DatetimeIndex(df_bar.index).month_name()\r\n",
    "# convert to month name here will complicate later process\r\n",
    "# also month now will be sort by alphabet and difficult to sort back to correct order, the plot with month name will also be mess up with correct order\r\n",
    "df_sum = df_bar.groupby([\"year\",\"month\"])[\"value\"].mean()\r\n",
    "df_sum"
   ],
   "outputs": [
    {
     "output_type": "execute_result",
     "data": {
      "text/plain": [
       "year  month    \n",
       "2016  August        31049.193548\n",
       "      December      27832.419355\n",
       "      July          24109.678571\n",
       "      June          21875.105263\n",
       "      May           19432.400000\n",
       "      November      40448.633333\n",
       "      October       27398.322581\n",
       "      September     41476.866667\n",
       "2017  April         30878.733333\n",
       "      August        47712.451613\n",
       "      December      48420.580645\n",
       "      February      31113.071429\n",
       "      January       32785.161290\n",
       "      July          65806.838710\n",
       "      June          43577.500000\n",
       "      March         29369.096774\n",
       "      May           34244.290323\n",
       "      November      57701.566667\n",
       "      October       47438.709677\n",
       "      September     47376.800000\n",
       "2018  April         62350.833333\n",
       "      August        62831.612903\n",
       "      December      80047.483871\n",
       "      February      65679.000000\n",
       "      January       58580.096774\n",
       "      July          63591.064516\n",
       "      June          70117.000000\n",
       "      March         62693.774194\n",
       "      May           56562.870968\n",
       "      November      78688.333333\n",
       "      October      111378.142857\n",
       "      September     65941.733333\n",
       "2019  April         89368.433333\n",
       "      August       102717.310345\n",
       "      December     150733.500000\n",
       "      February     105968.357143\n",
       "      January      102056.516129\n",
       "      July          97236.566667\n",
       "      June          90435.642857\n",
       "      March         91214.483871\n",
       "      May           91439.903226\n",
       "      November     143166.428571\n",
       "      October      122802.272727\n",
       "      September     97268.833333\n",
       "Name: value, dtype: float64"
      ]
     },
     "metadata": {},
     "execution_count": 46
    }
   ],
   "metadata": {}
  },
  {
   "cell_type": "code",
   "execution_count": 47,
   "source": [
    "month_order_3char"
   ],
   "outputs": [
    {
     "output_type": "execute_result",
     "data": {
      "text/plain": [
       "['Jan',\n",
       " 'Feb',\n",
       " 'Mar',\n",
       " 'Apr',\n",
       " 'May',\n",
       " 'Jun',\n",
       " 'Jul',\n",
       " 'Aug',\n",
       " 'Sep',\n",
       " 'Oct',\n",
       " 'Nov',\n",
       " 'Dec']"
      ]
     },
     "metadata": {},
     "execution_count": 47
    }
   ],
   "metadata": {}
  },
  {
   "cell_type": "code",
   "execution_count": 8,
   "source": [
    "df_bar[\"month2\"] = pd.DatetimeIndex(df_bar.index).month\r\n",
    "# convert to month name here will complicate later process\r\n",
    "df_sumNum = df_bar.groupby([\"year\",\"month2\"])[\"value\"].mean()\r\n",
    "df_sumNum"
   ],
   "outputs": [
    {
     "output_type": "execute_result",
     "data": {
      "text/plain": [
       "year  month2\n",
       "2016  5          19432.400000\n",
       "      6          21875.105263\n",
       "      7          24109.678571\n",
       "      8          31049.193548\n",
       "      9          41476.866667\n",
       "      10         27398.322581\n",
       "      11         40448.633333\n",
       "      12         27832.419355\n",
       "2017  1          32785.161290\n",
       "      2          31113.071429\n",
       "      3          29369.096774\n",
       "      4          30878.733333\n",
       "      5          34244.290323\n",
       "      6          43577.500000\n",
       "      7          65806.838710\n",
       "      8          47712.451613\n",
       "      9          47376.800000\n",
       "      10         47438.709677\n",
       "      11         57701.566667\n",
       "      12         48420.580645\n",
       "2018  1          58580.096774\n",
       "      2          65679.000000\n",
       "      3          62693.774194\n",
       "      4          62350.833333\n",
       "      5          56562.870968\n",
       "      6          70117.000000\n",
       "      7          63591.064516\n",
       "      8          62831.612903\n",
       "      9          65941.733333\n",
       "      10        111378.142857\n",
       "      11         78688.333333\n",
       "      12         80047.483871\n",
       "2019  1         102056.516129\n",
       "      2         105968.357143\n",
       "      3          91214.483871\n",
       "      4          89368.433333\n",
       "      5          91439.903226\n",
       "      6          90435.642857\n",
       "      7          97236.566667\n",
       "      8         102717.310345\n",
       "      9          97268.833333\n",
       "      10        122802.272727\n",
       "      11        143166.428571\n",
       "      12        150733.500000\n",
       "Name: value, dtype: float64"
      ]
     },
     "metadata": {},
     "execution_count": 8
    }
   ],
   "metadata": {}
  },
  {
   "cell_type": "code",
   "execution_count": 9,
   "source": [
    "df_sns = df_sum.reset_index()\r\n",
    "# df_sns.sort_values([\"year\", \"month\"], by=\"month\")\r\n",
    "# print('df_sns:\\n', df_sns)\r\n",
    "\r\n"
   ],
   "outputs": [],
   "metadata": {}
  },
  {
   "cell_type": "code",
   "execution_count": 10,
   "source": [
    "df_plt = df_sum.unstack()\r\n",
    "df_plt_NaN = df_plt[month_order]\r\n",
    "print('df_plt_NaN:\\n', df_plt_NaN)\r\n",
    "print('df_plt:\\n', df_plt)\r\n",
    "# This will also generate NaN data in missing month, not recommend"
   ],
   "outputs": [
    {
     "output_type": "stream",
     "name": "stdout",
     "text": [
      "df_plt_NaN:\n",
      " month        January       February         March         April           May  \\\n",
      "year                                                                            \n",
      "2016             NaN            NaN           NaN           NaN  19432.400000   \n",
      "2017    32785.161290   31113.071429  29369.096774  30878.733333  34244.290323   \n",
      "2018    58580.096774   65679.000000  62693.774194  62350.833333  56562.870968   \n",
      "2019   102056.516129  105968.357143  91214.483871  89368.433333  91439.903226   \n",
      "\n",
      "month          June          July         August     September        October  \\\n",
      "year                                                                            \n",
      "2016   21875.105263  24109.678571   31049.193548  41476.866667   27398.322581   \n",
      "2017   43577.500000  65806.838710   47712.451613  47376.800000   47438.709677   \n",
      "2018   70117.000000  63591.064516   62831.612903  65941.733333  111378.142857   \n",
      "2019   90435.642857  97236.566667  102717.310345  97268.833333  122802.272727   \n",
      "\n",
      "month       November       December  \n",
      "year                                 \n",
      "2016    40448.633333   27832.419355  \n",
      "2017    57701.566667   48420.580645  \n",
      "2018    78688.333333   80047.483871  \n",
      "2019   143166.428571  150733.500000  \n",
      "df_plt:\n",
      " month         April         August       December       February  \\\n",
      "year                                                               \n",
      "2016            NaN   31049.193548   27832.419355            NaN   \n",
      "2017   30878.733333   47712.451613   48420.580645   31113.071429   \n",
      "2018   62350.833333   62831.612903   80047.483871   65679.000000   \n",
      "2019   89368.433333  102717.310345  150733.500000  105968.357143   \n",
      "\n",
      "month        January          July          June         March           May  \\\n",
      "year                                                                           \n",
      "2016             NaN  24109.678571  21875.105263           NaN  19432.400000   \n",
      "2017    32785.161290  65806.838710  43577.500000  29369.096774  34244.290323   \n",
      "2018    58580.096774  63591.064516  70117.000000  62693.774194  56562.870968   \n",
      "2019   102056.516129  97236.566667  90435.642857  91214.483871  91439.903226   \n",
      "\n",
      "month       November        October     September  \n",
      "year                                               \n",
      "2016    40448.633333   27398.322581  41476.866667  \n",
      "2017    57701.566667   47438.709677  47376.800000  \n",
      "2018    78688.333333  111378.142857  65941.733333  \n",
      "2019   143166.428571  122802.272727  97268.833333  \n"
     ]
    }
   ],
   "metadata": {}
  },
  {
   "cell_type": "code",
   "execution_count": 11,
   "source": [
    "# Draw bar plot\r\n",
    "# Using matplotlib with unstack\r\n",
    "# fig = df_sum.plot(kind =\"bar\", legend = True, figsize = (15,10)).figure\r\n",
    "\r\n",
    "fig = plt.figure(figsize=(10, 10))\r\n",
    "sns.catplot(data=df_sns, kind=\"bar\",  x=\"year\",y= \"value\",hue=\"month\")"
   ],
   "outputs": [
    {
     "output_type": "execute_result",
     "data": {
      "text/plain": [
       "<seaborn.axisgrid.FacetGrid at 0x20f6ea7ae20>"
      ]
     },
     "metadata": {},
     "execution_count": 11
    },
    {
     "output_type": "display_data",
     "data": {
      "text/plain": [
       "<Figure size 720x720 with 0 Axes>"
      ]
     },
     "metadata": {}
    },
    {
     "output_type": "display_data",
     "data": {
      "image/png": "[encoded data removed]",
      "text/plain": [
       "<Figure size 450.75x360 with 1 Axes>"
      ]
     },
     "metadata": {
      "needs_background": "light"
     }
    }
   ],
   "metadata": {}
  },
  {
   "cell_type": "code",
   "execution_count": 12,
   "source": [
    "# https://stackoverflow.com/questions/48283596/multi-index-series-into-pandas-dataframe\r\n",
    "# df_sumNum.reset_index(inplace=True)\r\n",
    "# inplace true get error\r\n",
    "df_sumNum3 = df_sumNum.reset_index()\r\n",
    "# sns.catplot(data=df_sumNum3, kind=\"bar\",  x=\"year\",y= \"value\",hue=\"month2\")\r\n",
    "df_sumNum3 \r\n"
   ],
   "outputs": [
    {
     "output_type": "execute_result",
     "data": {
      "text/html": [
       "<div>\n",
       "<style scoped>\n",
       "    .dataframe tbody tr th:only-of-type {\n",
       "        vertical-align: middle;\n",
       "    }\n",
       "\n",
       "    .dataframe tbody tr th {\n",
       "        vertical-align: top;\n",
       "    }\n",
       "\n",
       "    .dataframe thead th {\n",
       "        text-align: right;\n",
       "    }\n",
       "</style>\n",
       "<table border=\"1\" class=\"dataframe\">\n",
       "  <thead>\n",
       "    <tr style=\"text-align: right;\">\n",
       "      <th></th>\n",
       "      <th>year</th>\n",
       "      <th>month2</th>\n",
       "      <th>value</th>\n",
       "    </tr>\n",
       "  </thead>\n",
       "  <tbody>\n",
       "    <tr>\n",
       "      <th>0</th>\n",
       "      <td>2016</td>\n",
       "      <td>5</td>\n",
       "      <td>19432.400000</td>\n",
       "    </tr>\n",
       "    <tr>\n",
       "      <th>1</th>\n",
       "      <td>2016</td>\n",
       "      <td>6</td>\n",
       "      <td>21875.105263</td>\n",
       "    </tr>\n",
       "    <tr>\n",
       "      <th>2</th>\n",
       "      <td>2016</td>\n",
       "      <td>7</td>\n",
       "      <td>24109.678571</td>\n",
       "    </tr>\n",
       "    <tr>\n",
       "      <th>3</th>\n",
       "      <td>2016</td>\n",
       "      <td>8</td>\n",
       "      <td>31049.193548</td>\n",
       "    </tr>\n",
       "    <tr>\n",
       "      <th>4</th>\n",
       "      <td>2016</td>\n",
       "      <td>9</td>\n",
       "      <td>41476.866667</td>\n",
       "    </tr>\n",
       "    <tr>\n",
       "      <th>5</th>\n",
       "      <td>2016</td>\n",
       "      <td>10</td>\n",
       "      <td>27398.322581</td>\n",
       "    </tr>\n",
       "    <tr>\n",
       "      <th>6</th>\n",
       "      <td>2016</td>\n",
       "      <td>11</td>\n",
       "      <td>40448.633333</td>\n",
       "    </tr>\n",
       "    <tr>\n",
       "      <th>7</th>\n",
       "      <td>2016</td>\n",
       "      <td>12</td>\n",
       "      <td>27832.419355</td>\n",
       "    </tr>\n",
       "    <tr>\n",
       "      <th>8</th>\n",
       "      <td>2017</td>\n",
       "      <td>1</td>\n",
       "      <td>32785.161290</td>\n",
       "    </tr>\n",
       "    <tr>\n",
       "      <th>9</th>\n",
       "      <td>2017</td>\n",
       "      <td>2</td>\n",
       "      <td>31113.071429</td>\n",
       "    </tr>\n",
       "    <tr>\n",
       "      <th>10</th>\n",
       "      <td>2017</td>\n",
       "      <td>3</td>\n",
       "      <td>29369.096774</td>\n",
       "    </tr>\n",
       "    <tr>\n",
       "      <th>11</th>\n",
       "      <td>2017</td>\n",
       "      <td>4</td>\n",
       "      <td>30878.733333</td>\n",
       "    </tr>\n",
       "    <tr>\n",
       "      <th>12</th>\n",
       "      <td>2017</td>\n",
       "      <td>5</td>\n",
       "      <td>34244.290323</td>\n",
       "    </tr>\n",
       "    <tr>\n",
       "      <th>13</th>\n",
       "      <td>2017</td>\n",
       "      <td>6</td>\n",
       "      <td>43577.500000</td>\n",
       "    </tr>\n",
       "    <tr>\n",
       "      <th>14</th>\n",
       "      <td>2017</td>\n",
       "      <td>7</td>\n",
       "      <td>65806.838710</td>\n",
       "    </tr>\n",
       "    <tr>\n",
       "      <th>15</th>\n",
       "      <td>2017</td>\n",
       "      <td>8</td>\n",
       "      <td>47712.451613</td>\n",
       "    </tr>\n",
       "    <tr>\n",
       "      <th>16</th>\n",
       "      <td>2017</td>\n",
       "      <td>9</td>\n",
       "      <td>47376.800000</td>\n",
       "    </tr>\n",
       "    <tr>\n",
       "      <th>17</th>\n",
       "      <td>2017</td>\n",
       "      <td>10</td>\n",
       "      <td>47438.709677</td>\n",
       "    </tr>\n",
       "    <tr>\n",
       "      <th>18</th>\n",
       "      <td>2017</td>\n",
       "      <td>11</td>\n",
       "      <td>57701.566667</td>\n",
       "    </tr>\n",
       "    <tr>\n",
       "      <th>19</th>\n",
       "      <td>2017</td>\n",
       "      <td>12</td>\n",
       "      <td>48420.580645</td>\n",
       "    </tr>\n",
       "    <tr>\n",
       "      <th>20</th>\n",
       "      <td>2018</td>\n",
       "      <td>1</td>\n",
       "      <td>58580.096774</td>\n",
       "    </tr>\n",
       "    <tr>\n",
       "      <th>21</th>\n",
       "      <td>2018</td>\n",
       "      <td>2</td>\n",
       "      <td>65679.000000</td>\n",
       "    </tr>\n",
       "    <tr>\n",
       "      <th>22</th>\n",
       "      <td>2018</td>\n",
       "      <td>3</td>\n",
       "      <td>62693.774194</td>\n",
       "    </tr>\n",
       "    <tr>\n",
       "      <th>23</th>\n",
       "      <td>2018</td>\n",
       "      <td>4</td>\n",
       "      <td>62350.833333</td>\n",
       "    </tr>\n",
       "    <tr>\n",
       "      <th>24</th>\n",
       "      <td>2018</td>\n",
       "      <td>5</td>\n",
       "      <td>56562.870968</td>\n",
       "    </tr>\n",
       "    <tr>\n",
       "      <th>25</th>\n",
       "      <td>2018</td>\n",
       "      <td>6</td>\n",
       "      <td>70117.000000</td>\n",
       "    </tr>\n",
       "    <tr>\n",
       "      <th>26</th>\n",
       "      <td>2018</td>\n",
       "      <td>7</td>\n",
       "      <td>63591.064516</td>\n",
       "    </tr>\n",
       "    <tr>\n",
       "      <th>27</th>\n",
       "      <td>2018</td>\n",
       "      <td>8</td>\n",
       "      <td>62831.612903</td>\n",
       "    </tr>\n",
       "    <tr>\n",
       "      <th>28</th>\n",
       "      <td>2018</td>\n",
       "      <td>9</td>\n",
       "      <td>65941.733333</td>\n",
       "    </tr>\n",
       "    <tr>\n",
       "      <th>29</th>\n",
       "      <td>2018</td>\n",
       "      <td>10</td>\n",
       "      <td>111378.142857</td>\n",
       "    </tr>\n",
       "    <tr>\n",
       "      <th>30</th>\n",
       "      <td>2018</td>\n",
       "      <td>11</td>\n",
       "      <td>78688.333333</td>\n",
       "    </tr>\n",
       "    <tr>\n",
       "      <th>31</th>\n",
       "      <td>2018</td>\n",
       "      <td>12</td>\n",
       "      <td>80047.483871</td>\n",
       "    </tr>\n",
       "    <tr>\n",
       "      <th>32</th>\n",
       "      <td>2019</td>\n",
       "      <td>1</td>\n",
       "      <td>102056.516129</td>\n",
       "    </tr>\n",
       "    <tr>\n",
       "      <th>33</th>\n",
       "      <td>2019</td>\n",
       "      <td>2</td>\n",
       "      <td>105968.357143</td>\n",
       "    </tr>\n",
       "    <tr>\n",
       "      <th>34</th>\n",
       "      <td>2019</td>\n",
       "      <td>3</td>\n",
       "      <td>91214.483871</td>\n",
       "    </tr>\n",
       "    <tr>\n",
       "      <th>35</th>\n",
       "      <td>2019</td>\n",
       "      <td>4</td>\n",
       "      <td>89368.433333</td>\n",
       "    </tr>\n",
       "    <tr>\n",
       "      <th>36</th>\n",
       "      <td>2019</td>\n",
       "      <td>5</td>\n",
       "      <td>91439.903226</td>\n",
       "    </tr>\n",
       "    <tr>\n",
       "      <th>37</th>\n",
       "      <td>2019</td>\n",
       "      <td>6</td>\n",
       "      <td>90435.642857</td>\n",
       "    </tr>\n",
       "    <tr>\n",
       "      <th>38</th>\n",
       "      <td>2019</td>\n",
       "      <td>7</td>\n",
       "      <td>97236.566667</td>\n",
       "    </tr>\n",
       "    <tr>\n",
       "      <th>39</th>\n",
       "      <td>2019</td>\n",
       "      <td>8</td>\n",
       "      <td>102717.310345</td>\n",
       "    </tr>\n",
       "    <tr>\n",
       "      <th>40</th>\n",
       "      <td>2019</td>\n",
       "      <td>9</td>\n",
       "      <td>97268.833333</td>\n",
       "    </tr>\n",
       "    <tr>\n",
       "      <th>41</th>\n",
       "      <td>2019</td>\n",
       "      <td>10</td>\n",
       "      <td>122802.272727</td>\n",
       "    </tr>\n",
       "    <tr>\n",
       "      <th>42</th>\n",
       "      <td>2019</td>\n",
       "      <td>11</td>\n",
       "      <td>143166.428571</td>\n",
       "    </tr>\n",
       "    <tr>\n",
       "      <th>43</th>\n",
       "      <td>2019</td>\n",
       "      <td>12</td>\n",
       "      <td>150733.500000</td>\n",
       "    </tr>\n",
       "  </tbody>\n",
       "</table>\n",
       "</div>"
      ],
      "text/plain": [
       "    year  month2          value\n",
       "0   2016       5   19432.400000\n",
       "1   2016       6   21875.105263\n",
       "2   2016       7   24109.678571\n",
       "3   2016       8   31049.193548\n",
       "4   2016       9   41476.866667\n",
       "5   2016      10   27398.322581\n",
       "6   2016      11   40448.633333\n",
       "7   2016      12   27832.419355\n",
       "8   2017       1   32785.161290\n",
       "9   2017       2   31113.071429\n",
       "10  2017       3   29369.096774\n",
       "11  2017       4   30878.733333\n",
       "12  2017       5   34244.290323\n",
       "13  2017       6   43577.500000\n",
       "14  2017       7   65806.838710\n",
       "15  2017       8   47712.451613\n",
       "16  2017       9   47376.800000\n",
       "17  2017      10   47438.709677\n",
       "18  2017      11   57701.566667\n",
       "19  2017      12   48420.580645\n",
       "20  2018       1   58580.096774\n",
       "21  2018       2   65679.000000\n",
       "22  2018       3   62693.774194\n",
       "23  2018       4   62350.833333\n",
       "24  2018       5   56562.870968\n",
       "25  2018       6   70117.000000\n",
       "26  2018       7   63591.064516\n",
       "27  2018       8   62831.612903\n",
       "28  2018       9   65941.733333\n",
       "29  2018      10  111378.142857\n",
       "30  2018      11   78688.333333\n",
       "31  2018      12   80047.483871\n",
       "32  2019       1  102056.516129\n",
       "33  2019       2  105968.357143\n",
       "34  2019       3   91214.483871\n",
       "35  2019       4   89368.433333\n",
       "36  2019       5   91439.903226\n",
       "37  2019       6   90435.642857\n",
       "38  2019       7   97236.566667\n",
       "39  2019       8  102717.310345\n",
       "40  2019       9   97268.833333\n",
       "41  2019      10  122802.272727\n",
       "42  2019      11  143166.428571\n",
       "43  2019      12  150733.500000"
      ]
     },
     "metadata": {},
     "execution_count": 12
    }
   ],
   "metadata": {}
  },
  {
   "cell_type": "code",
   "execution_count": 13,
   "source": [
    "plt.figure(figsize=(8, 8))\r\n",
    "sns.barplot(data=df_sumNum3,  x=\"year\",y= \"value\",hue=\"month2\" , palette=sns.color_palette())"
   ],
   "outputs": [
    {
     "output_type": "execute_result",
     "data": {
      "text/plain": [
       "<AxesSubplot:xlabel='year', ylabel='value'>"
      ]
     },
     "metadata": {},
     "execution_count": 13
    },
    {
     "output_type": "display_data",
     "data": {
      "image/png": "[encoded data removed]",
      "text/plain": [
       "<Figure size 576x576 with 1 Axes>"
      ]
     },
     "metadata": {
      "needs_background": "light"
     }
    }
   ],
   "metadata": {}
  },
  {
   "cell_type": "code",
   "execution_count": 14,
   "source": [
    "sns.color_palette()"
   ],
   "outputs": [
    {
     "output_type": "execute_result",
     "data": {
      "text/html": [
       "<svg  width=\"550\" height=\"55\"><rect x=\"0\" y=\"0\" width=\"55\" height=\"55\" style=\"fill:#1f77b4;stroke-width:2;stroke:rgb(255,255,255)\"/><rect x=\"55\" y=\"0\" width=\"55\" height=\"55\" style=\"fill:#ff7f0e;stroke-width:2;stroke:rgb(255,255,255)\"/><rect x=\"110\" y=\"0\" width=\"55\" height=\"55\" style=\"fill:#2ca02c;stroke-width:2;stroke:rgb(255,255,255)\"/><rect x=\"165\" y=\"0\" width=\"55\" height=\"55\" style=\"fill:#d62728;stroke-width:2;stroke:rgb(255,255,255)\"/><rect x=\"220\" y=\"0\" width=\"55\" height=\"55\" style=\"fill:#9467bd;stroke-width:2;stroke:rgb(255,255,255)\"/><rect x=\"275\" y=\"0\" width=\"55\" height=\"55\" style=\"fill:#8c564b;stroke-width:2;stroke:rgb(255,255,255)\"/><rect x=\"330\" y=\"0\" width=\"55\" height=\"55\" style=\"fill:#e377c2;stroke-width:2;stroke:rgb(255,255,255)\"/><rect x=\"385\" y=\"0\" width=\"55\" height=\"55\" style=\"fill:#7f7f7f;stroke-width:2;stroke:rgb(255,255,255)\"/><rect x=\"440\" y=\"0\" width=\"55\" height=\"55\" style=\"fill:#bcbd22;stroke-width:2;stroke:rgb(255,255,255)\"/><rect x=\"495\" y=\"0\" width=\"55\" height=\"55\" style=\"fill:#17becf;stroke-width:2;stroke:rgb(255,255,255)\"/></svg>"
      ],
      "text/plain": [
       "[(0.12156862745098039, 0.4666666666666667, 0.7058823529411765),\n",
       " (1.0, 0.4980392156862745, 0.054901960784313725),\n",
       " (0.17254901960784313, 0.6274509803921569, 0.17254901960784313),\n",
       " (0.8392156862745098, 0.15294117647058825, 0.1568627450980392),\n",
       " (0.5803921568627451, 0.403921568627451, 0.7411764705882353),\n",
       " (0.5490196078431373, 0.33725490196078434, 0.29411764705882354),\n",
       " (0.8901960784313725, 0.4666666666666667, 0.7607843137254902),\n",
       " (0.4980392156862745, 0.4980392156862745, 0.4980392156862745),\n",
       " (0.7372549019607844, 0.7411764705882353, 0.13333333333333333),\n",
       " (0.09019607843137255, 0.7450980392156863, 0.8117647058823529)]"
      ]
     },
     "metadata": {},
     "execution_count": 14
    }
   ],
   "metadata": {}
  },
  {
   "cell_type": "code",
   "execution_count": 15,
   "source": [
    "\r\n",
    "fig=df_plt.plot(kind =\"bar\", legend = True, figsize = (12,10)).figure"
   ],
   "outputs": [
    {
     "output_type": "display_data",
     "data": {
      "image/png": "[encoded data removed]",
      "text/plain": [
       "<Figure size 864x720 with 1 Axes>"
      ]
     },
     "metadata": {
      "needs_background": "light"
     }
    }
   ],
   "metadata": {}
  },
  {
   "cell_type": "code",
   "execution_count": 16,
   "source": [
    "# Save image and return fig (don't change this part)\r\n",
    "fig.savefig('bar_plot.png')"
   ],
   "outputs": [],
   "metadata": {}
  },
  {
   "cell_type": "code",
   "execution_count": 19,
   "source": [
    "# Prepare data for box plots (this part is done!)\r\n",
    "df_box = df.copy()\r\n",
    "df_box.reset_index(inplace=True)\r\n",
    "df_box['year'] = [d.year for d in df_box.date]\r\n",
    "df_box['month'] = [d.strftime('%b') for d in df_box.date]\r\n",
    "df_box\r\n"
   ],
   "outputs": [
    {
     "output_type": "execute_result",
     "data": {
      "text/html": [
       "<div>\n",
       "<style scoped>\n",
       "    .dataframe tbody tr th:only-of-type {\n",
       "        vertical-align: middle;\n",
       "    }\n",
       "\n",
       "    .dataframe tbody tr th {\n",
       "        vertical-align: top;\n",
       "    }\n",
       "\n",
       "    .dataframe thead th {\n",
       "        text-align: right;\n",
       "    }\n",
       "</style>\n",
       "<table border=\"1\" class=\"dataframe\">\n",
       "  <thead>\n",
       "    <tr style=\"text-align: right;\">\n",
       "      <th></th>\n",
       "      <th>date</th>\n",
       "      <th>value</th>\n",
       "      <th>year</th>\n",
       "      <th>month</th>\n",
       "    </tr>\n",
       "  </thead>\n",
       "  <tbody>\n",
       "    <tr>\n",
       "      <th>0</th>\n",
       "      <td>2016-05-19</td>\n",
       "      <td>19736</td>\n",
       "      <td>2016</td>\n",
       "      <td>May</td>\n",
       "    </tr>\n",
       "    <tr>\n",
       "      <th>1</th>\n",
       "      <td>2016-05-26</td>\n",
       "      <td>18060</td>\n",
       "      <td>2016</td>\n",
       "      <td>May</td>\n",
       "    </tr>\n",
       "    <tr>\n",
       "      <th>2</th>\n",
       "      <td>2016-05-27</td>\n",
       "      <td>19997</td>\n",
       "      <td>2016</td>\n",
       "      <td>May</td>\n",
       "    </tr>\n",
       "    <tr>\n",
       "      <th>3</th>\n",
       "      <td>2016-05-28</td>\n",
       "      <td>19044</td>\n",
       "      <td>2016</td>\n",
       "      <td>May</td>\n",
       "    </tr>\n",
       "    <tr>\n",
       "      <th>4</th>\n",
       "      <td>2016-05-29</td>\n",
       "      <td>20325</td>\n",
       "      <td>2016</td>\n",
       "      <td>May</td>\n",
       "    </tr>\n",
       "    <tr>\n",
       "      <th>...</th>\n",
       "      <td>...</td>\n",
       "      <td>...</td>\n",
       "      <td>...</td>\n",
       "      <td>...</td>\n",
       "    </tr>\n",
       "    <tr>\n",
       "      <th>1233</th>\n",
       "      <td>2019-11-24</td>\n",
       "      <td>138875</td>\n",
       "      <td>2019</td>\n",
       "      <td>Nov</td>\n",
       "    </tr>\n",
       "    <tr>\n",
       "      <th>1234</th>\n",
       "      <td>2019-11-29</td>\n",
       "      <td>171584</td>\n",
       "      <td>2019</td>\n",
       "      <td>Nov</td>\n",
       "    </tr>\n",
       "    <tr>\n",
       "      <th>1235</th>\n",
       "      <td>2019-11-30</td>\n",
       "      <td>141161</td>\n",
       "      <td>2019</td>\n",
       "      <td>Nov</td>\n",
       "    </tr>\n",
       "    <tr>\n",
       "      <th>1236</th>\n",
       "      <td>2019-12-01</td>\n",
       "      <td>142918</td>\n",
       "      <td>2019</td>\n",
       "      <td>Dec</td>\n",
       "    </tr>\n",
       "    <tr>\n",
       "      <th>1237</th>\n",
       "      <td>2019-12-03</td>\n",
       "      <td>158549</td>\n",
       "      <td>2019</td>\n",
       "      <td>Dec</td>\n",
       "    </tr>\n",
       "  </tbody>\n",
       "</table>\n",
       "<p>1238 rows × 4 columns</p>\n",
       "</div>"
      ],
      "text/plain": [
       "           date   value  year month\n",
       "0    2016-05-19   19736  2016   May\n",
       "1    2016-05-26   18060  2016   May\n",
       "2    2016-05-27   19997  2016   May\n",
       "3    2016-05-28   19044  2016   May\n",
       "4    2016-05-29   20325  2016   May\n",
       "...         ...     ...   ...   ...\n",
       "1233 2019-11-24  138875  2019   Nov\n",
       "1234 2019-11-29  171584  2019   Nov\n",
       "1235 2019-11-30  141161  2019   Nov\n",
       "1236 2019-12-01  142918  2019   Dec\n",
       "1237 2019-12-03  158549  2019   Dec\n",
       "\n",
       "[1238 rows x 4 columns]"
      ]
     },
     "metadata": {},
     "execution_count": 19
    }
   ],
   "metadata": {}
  },
  {
   "cell_type": "code",
   "execution_count": 25,
   "source": [
    "df_box[\"month\"].describe()"
   ],
   "outputs": [
    {
     "output_type": "execute_result",
     "data": {
      "text/plain": [
       "count     1238\n",
       "unique      12\n",
       "top        Aug\n",
       "freq       122\n",
       "Name: month, dtype: object"
      ]
     },
     "metadata": {},
     "execution_count": 25
    }
   ],
   "metadata": {}
  },
  {
   "cell_type": "code",
   "execution_count": 57,
   "source": [
    "# Draw box plots (using Seaborn)\r\n",
    "fig, axarr = plt.subplots(1, 2, figsize=(18, 6))\r\n",
    "# fig, (ax1, ax2) = plt.subplots(1, 2)\r\n",
    "# fig.set_figwidth(20)\r\n",
    "# fig.set_figheight(10)\r\n",
    "# sns.boxplot(ax=axarr[0], x=\"year\", y=\"value\", data=df_box)\r\n",
    "# sns.boxplot(ax=axarr[1], x=\"month\", y=\"value\", data=df_box, order=month_order_3char)\r\n",
    "# axarr[0].set_title(\"Year-wise Box Plot (Trend)\")\r\n",
    "# axarr[0].set_xlabel(\"Year\")\r\n",
    "# axarr[0].set_ylabel(\"Page Views\")\r\n",
    "# axarr[1].set_xlabel(\"Month\")\r\n",
    "# axarr[1].set_ylabel(\"Page Views\")\r\n",
    "# axarr[1].set_title(\"Month-wise Box Plot (Seasonality)\")\r\n",
    "# sns.boxplot(x = df_box['year'], y = df_box['value'], ax = axarr[0]).set(xlabel='Year', ylabel='Page Views', title = \"Year-wise Box Plot (Trend)\")"
   ],
   "outputs": [
    {
     "output_type": "execute_result",
     "data": {
      "text/plain": [
       "[Text(0.5, 0, 'Year'),\n",
       " Text(0, 0.5, 'Page Views'),\n",
       " Text(0.5, 1.0, 'Year-wise Box Plot (Trend)')]"
      ]
     },
     "metadata": {},
     "execution_count": 57
    },
    {
     "output_type": "display_data",
     "data": {
      "image/png": "[encoded data removed]",
      "text/plain": [
       "<Figure size 1296x432 with 2 Axes>"
      ]
     },
     "metadata": {
      "needs_background": "light"
     }
    }
   ],
   "metadata": {}
  },
  {
   "cell_type": "code",
   "execution_count": null,
   "source": [
    "# Save image and return fig (don't change this part)\r\n",
    "fig.savefig('box_plot.png')"
   ],
   "outputs": [],
   "metadata": {}
  }
 ],
 "metadata": {
  "orig_nbformat": 4,
  "language_info": {
   "name": "python",
   "version": "3.9.7",
   "mimetype": "text/x-python",
   "codemirror_mode": {
    "name": "ipython",
    "version": 3
   },
   "pygments_lexer": "ipython3",
   "nbconvert_exporter": "python",
   "file_extension": ".py"
  },
  "kernelspec": {
   "name": "python3",
   "display_name": "Python 3.9.7 64-bit"
  },
  "interpreter": {
   "hash": "fe93ddd766552dceea2d7f07abd21060b4ba8b277576c55d124449dd97658de9"
  }
 },
 "nbformat": 4,
 "nbformat_minor": 2
}