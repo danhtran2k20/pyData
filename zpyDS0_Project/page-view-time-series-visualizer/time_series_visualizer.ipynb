{
 "cells": [
  {
   "cell_type": "markdown",
   "source": [
    "### 4_Assignment\r\n",
    "\r\n",
    "For this project you will visualize time series data using a line chart, bar chart, and box plots. You will use Pandas, Matplotlib, and Seaborn to visualize a dataset containing the number of page views each day on the freeCodeCamp.org forum from 2016-05-09 to 2019-12-03. The data visualizations will help you understand the patterns in visits and identify yearly and monthly growth.\r\n",
    "\r\n",
    "Use the data to complete the following tasks:\r\n",
    "* Use Pandas to import the data from \"fcc-forum-pageviews.csv\". Set the index to the \"date\" column.\r\n",
    "* Clean the data by filtering out days when the page views were in the top 2.5% of the dataset or bottom 2.5% of the dataset.\r\n",
    "* Create a `draw_line_plot` function that uses Matplotlib to draw a line chart similar to \"examples/Figure_1.png\". The title should be \"Daily freeCodeCamp Forum Page Views 5/2016-12/2019\". The label on the x axis should be \"Date\" and the label on the y axis should be \"Page Views\".\r\n",
    "* Create a `draw_bar_plot` function that draws a bar chart similar to \"examples/Figure_2.png\". It should show average daily page views for each month grouped by year. The legend should show month labels and have a title of \"Months\". On the chart, the label on the x axis should be \"Years\" and the label on the y axis should be \"Average Page Views\".\r\n",
    "* Create a `draw_box_plot` function that uses Searborn to draw two adjacent box plots similar to \"examples/Figure_3.png\". These box plots should show how the values are distributed within a given year or month and how it compares over time. The title of the first chart should be \"Year-wise Box Plot (Trend)\" and the title of the second chart should be \"Month-wise Box Plot (Seasonality)\". Make sure the month labels on bottom start at \"Jan\" and the x and x axis are labeled correctly.\r\n",
    "\r\n",
    "For each chart, make sure to use a copy of the data frame."
   ],
   "metadata": {}
  },
  {
   "cell_type": "code",
   "execution_count": null,
   "source": [
    "import matplotlib.pyplot as plt\r\n",
    "import pandas as pd\r\n",
    "import seaborn as sns\r\n",
    "from pandas.plotting import register_matplotlib_converters\r\n",
    "register_matplotlib_converters()"
   ],
   "outputs": [],
   "metadata": {}
  },
  {
   "cell_type": "code",
   "execution_count": null,
   "source": [
    "# Import data (Make sure to parse dates. Consider setting index column to 'date'.)\r\n",
    "df = None\r\n",
    "\r\n",
    "# Clean data\r\n",
    "df = None"
   ],
   "outputs": [],
   "metadata": {}
  },
  {
   "cell_type": "code",
   "execution_count": null,
   "source": [
    "# Draw line plot\r\n",
    "\r\n",
    "\r\n",
    "\r\n",
    "\r\n",
    "\r\n",
    "# Save image and return fig (don't change this part)\r\n",
    "fig.savefig('line_plot.png')"
   ],
   "outputs": [],
   "metadata": {}
  },
  {
   "cell_type": "code",
   "execution_count": null,
   "source": [
    "# Copy and modify data for monthly bar plot\r\n",
    "df_bar = None\r\n",
    "\r\n",
    "# Draw bar plot\r\n",
    "\r\n",
    "\r\n",
    "\r\n",
    "\r\n",
    "\r\n",
    "# Save image and return fig (don't change this part)\r\n",
    "fig.savefig('bar_plot.png')"
   ],
   "outputs": [],
   "metadata": {}
  },
  {
   "cell_type": "code",
   "execution_count": null,
   "source": [
    "# Prepare data for box plots (this part is done!)\r\n",
    "df_box = df.copy()\r\n",
    "df_box.reset_index(inplace=True)\r\n",
    "df_box['year'] = [d.year for d in df_box.date]\r\n",
    "df_box['month'] = [d.strftime('%b') for d in df_box.date]\r\n",
    "\r\n",
    "# Draw box plots (using Seaborn)\r\n",
    "\r\n",
    "\r\n",
    "\r\n",
    "\r\n",
    "\r\n",
    "# Save image and return fig (don't change this part)\r\n",
    "fig.savefig('box_plot.png')"
   ],
   "outputs": [],
   "metadata": {}
  }
 ],
 "metadata": {
  "orig_nbformat": 4,
  "language_info": {
   "name": "python"
  }
 },
 "nbformat": 4,
 "nbformat_minor": 2
}