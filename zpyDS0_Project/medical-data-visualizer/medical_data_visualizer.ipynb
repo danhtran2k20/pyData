{
 "cells": [
  {
   "cell_type": "markdown",
   "source": [
    "### 3_Assignment\r\n",
    "\r\n",
    "In this project, you will visualize and make calculations from medical examination data using matplotlib, seaborn, and pandas. The dataset values were collected during medical examinations.\r\n",
    "\r\n",
    "#### Data description\r\n",
    "\r\n",
    "The rows in the dataset represent patients and the columns represent information like body measurements, results from various blood tests, and lifestyle choices. You will use the dataset to explore the relationship between cardiac disease, body measurements, blood markers, and lifestyle choices.\r\n",
    "\r\n",
    "File name: medical_examination.csv\r\n",
    "\r\n",
    "| Feature | Variable Type | Variable      | Value Type |\r\n",
    "|:-------:|:------------:|:-------------:|:----------:|\r\n",
    "| Age | Objective Feature | age | int (days) |\r\n",
    "| Height | Objective Feature | height | int (cm) |\r\n",
    "| Weight | Objective Feature | weight | float (kg) |\r\n",
    "| Gender | Objective Feature | gender | categorical code |\r\n",
    "| Systolic blood pressure | Examination Feature | ap_hi | int |\r\n",
    "| Diastolic blood pressure | Examination Feature | ap_lo | int |\r\n",
    "| Cholesterol | Examination Feature | cholesterol | 1: normal, 2: above normal, 3: well above normal |\r\n",
    "| Glucose | Examination Feature | gluc | 1: normal, 2: above normal, 3: well above normal |\r\n",
    "| Smoking | Subjective Feature | smoke | binary |\r\n",
    "| Alcohol intake | Subjective Feature | alco | binary |\r\n",
    "| Physical activity | Subjective Feature | active | binary |\r\n",
    "| Presence or absence of cardiovascular disease | Target Variable | cardio | binary |\r\n",
    "\r\n",
    "#### Tasks\r\n",
    "\r\n",
    "Create a chart similar to `examples/Figure_1.png`, where we show the counts of good and bad outcomes for the `cholesterol`, `gluc`, `alco`, `active`, and `smoke` variables for patients with cardio=1 and cardio=0 in different panels.\r\n",
    "\r\n",
    "Use the data to complete the following tasks in `medical_data_visualizer.py`:\r\n",
    "* Add an `overweight` column to the data. To determine if a person is overweight, first calculate their BMI by dividing their weight in kilograms by the square of their height in meters. If that value is > 25 then the person is overweight. Use the value 0 for NOT overweight and the value 1 for overweight.\r\n",
    "* Normalize the data by making 0 always good and 1 always bad. If the value of `cholesterol` or `gluc` is 1, make the value 0. If the value is more than 1, make the value 1.\r\n",
    "* Convert the data into long format and create a chart that shows the value counts of the categorical features using seaborn's `catplot()`. The dataset should be split by 'Cardio' so there is one chart for each `cardio` value. The chart should look like `examples/Figure_1.png`.\r\n",
    "* Clean the data. Filter out the following patient segments that represent incorrect data:\r\n",
    "  - diastolic pressure is higher than systolic (Keep the correct data with `(df['ap_lo'] <= df['ap_hi'])`)\r\n",
    "  - height is less than the 2.5th percentile (Keep the correct data with `(df['height'] >= df['height'].quantile(0.025))`)\r\n",
    "  - height is more than the 97.5th percentile\r\n",
    "  - weight is less than the 2.5th percentile\r\n",
    "  - weight is more than the 97.5th percentile\r\n",
    "* Create a correlation matrix using the dataset. Plot the correlation matrix using seaborn's `heatmap()`. Mask the upper triangle. The chart should look like `examples/Figure_2.png`."
   ],
   "metadata": {}
  },
  {
   "cell_type": "code",
   "execution_count": null,
   "source": [
    "import pandas as pd\r\n",
    "import seaborn as sns\r\n",
    "import matplotlib.pyplot as plt\r\n",
    "import numpy as np"
   ],
   "outputs": [],
   "metadata": {}
  },
  {
   "cell_type": "code",
   "execution_count": null,
   "source": [
    "# Import data\r\n",
    "df = None\r\n",
    "\r\n",
    "# Add 'overweight' column\r\n",
    "df['overweight'] = None\r\n",
    "\r\n",
    "# Normalize data by making 0 always good and 1 always bad. If the value of 'cholesterol' or 'gluc' is 1, make the value 0. If the value is more than 1, make the value 1."
   ],
   "outputs": [],
   "metadata": {}
  },
  {
   "cell_type": "code",
   "execution_count": null,
   "source": [
    "# Draw Categorical Plot\r\n",
    "# Create DataFrame for cat plot using `pd.melt` using just the values from 'cholesterol', 'gluc', 'smoke', 'alco', 'active', and 'overweight'.\r\n",
    "df_cat = None\r\n",
    "\r\n",
    "\r\n",
    "# Group and reformat the data to split it by 'cardio'. Show the counts of each feature. You will have to rename one of the columns for the catplot to work correctly.\r\n",
    "df_cat = None\r\n",
    "\r\n",
    "# Draw the catplot with 'sns.catplot()'\r\n",
    "\r\n",
    "\r\n",
    "\r\n",
    "# Do not modify the next two lines\r\n",
    "fig.savefig('catplot.png')"
   ],
   "outputs": [],
   "metadata": {}
  },
  {
   "cell_type": "code",
   "execution_count": null,
   "source": [
    "# Draw Heat Map\r\n",
    "# Clean the data\r\n",
    "df_heat = None\r\n",
    "\r\n",
    "# Calculate the correlation matrix\r\n",
    "corr = None\r\n",
    "\r\n",
    "# Generate a mask for the upper triangle\r\n",
    "mask = None\r\n",
    "\r\n",
    "\r\n",
    "\r\n",
    "# Set up the matplotlib figure\r\n",
    "fig, ax = None\r\n",
    "\r\n",
    "# Draw the heatmap with 'sns.heatmap()'\r\n",
    "\r\n",
    "\r\n",
    "\r\n",
    "# Do not modify the next two lines\r\n",
    "fig.savefig('heatmap.png')"
   ],
   "outputs": [],
   "metadata": {}
  }
 ],
 "metadata": {
  "orig_nbformat": 4,
  "language_info": {
   "name": "python"
  }
 },
 "nbformat": 4,
 "nbformat_minor": 2
}