{
 "cells": [
  {
   "cell_type": "markdown",
   "source": [
    "### 5_Assignment\r\n",
    "\r\n",
    "You will anaylize a dataset of the global average sea level change since 1880. You will use the data to predict the sea level change through year 2050.\r\n",
    "\r\n",
    "Use the data to complete the following tasks:\r\n",
    "* Use Pandas to import the data from `epa-sea-level.csv`.\r\n",
    "* Use matplotlib to create a scatter plot using the \"Year\" column as the x-axis and the \"CSIRO Adjusted Sea Level\" column as the y-axix.\r\n",
    "* Use the `linregress` function from `scipy.stats` to get the slope and y-intercept of the line of best fit. Plot the line of best fit over the top of the scatter plot. Make the line go through the year 2050 to predict the sea level rise in 2050.\r\n",
    "* Plot a new line of best fit just using the data from year 2000 through the most recent year in the dataset. Make the line also go through the year 2050 to predict the sea level rise in 2050 if the rate of rise continues as it has since the year 2000.\r\n",
    "* The x label should be \"Year\", the y label should be \"Sea Level (inches)\", and the title should be \"Rise in Sea Level\".\r\n"
   ],
   "metadata": {}
  },
  {
   "cell_type": "code",
   "execution_count": null,
   "source": [
    "import pandas as pd\r\n",
    "import matplotlib.pyplot as plt\r\n",
    "from scipy.stats import linregress"
   ],
   "outputs": [],
   "metadata": {}
  },
  {
   "cell_type": "code",
   "execution_count": null,
   "source": [
    "# Read data from file\r\n",
    "\r\n",
    "\r\n",
    "# Create scatter plot\r\n",
    "\r\n",
    "\r\n",
    "# Create first line of best fit\r\n",
    "\r\n",
    "\r\n",
    "# Create second line of best fit\r\n",
    "\r\n",
    "\r\n",
    "# Add labels and title\r\n",
    "\r\n",
    "\r\n",
    "# Save plot and return data for testing (DO NOT MODIFY)\r\n",
    "plt.savefig('sea_level_plot.png')"
   ],
   "outputs": [],
   "metadata": {}
  }
 ],
 "metadata": {
  "orig_nbformat": 4,
  "language_info": {
   "name": "python"
  }
 },
 "nbformat": 4,
 "nbformat_minor": 2
}