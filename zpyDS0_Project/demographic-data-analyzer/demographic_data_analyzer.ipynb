{
 "cells": [
  {
   "cell_type": "markdown",
   "source": [
    "# 2_Demographic Data Analyzer\r\n",
    "\r\n",
    "In this challenge you must analyze demographic data using Pandas. You are given a dataset of demographic data that was extracted from the 1994 Census database. Here is a sample of what the data looks like:\r\n",
    "\r\n",
    "|    |   age | workclass        |   fnlwgt | education   |   education-num | marital-status     | occupation        | relationship   | race   | sex    |   capital-gain |   capital-loss |   hours-per-week | native-country   | salary   |\r\n",
    "|---:|------:|:-----------------|---------:|:------------|----------------:|:-------------------|:------------------|:---------------|:-------|:-------|---------------:|---------------:|-----------------:|:-----------------|:---------|\r\n",
    "|  0 |    39 | State-gov        |    77516 | Bachelors   |              13 | Never-married      | Adm-clerical      | Not-in-family  | White  | Male   |           2174 |              0 |               40 | United-States    | <=50K    |\r\n",
    "|  1 |    50 | Self-emp-not-inc |    83311 | Bachelors   |              13 | Married-civ-spouse | Exec-managerial   | Husband        | White  | Male   |              0 |              0 |               13 | United-States    | <=50K    |\r\n",
    "|  2 |    38 | Private          |   215646 | HS-grad     |               9 | Divorced           | Handlers-cleaners | Not-in-family  | White  | Male   |              0 |              0 |               40 | United-States    | <=50K    |\r\n",
    "|  3 |    53 | Private          |   234721 | 11th        |               7 | Married-civ-spouse | Handlers-cleaners | Husband        | Black  | Male   |              0 |              0 |               40 | United-States    | <=50K    |\r\n",
    "|  4 |    28 | Private          |   338409 | Bachelors   |              13 | Married-civ-spouse | Prof-specialty    | Wife           | Black  | Female |              0 |              0 |               40 | Cuba             | <=50K    |\r\n",
    "\r\n",
    "\r\n",
    "You must use Pandas to answer the following questions:\r\n",
    "* How many people of each race are represented in this dataset? This should be a Pandas series with race names as the index labels. (`race` column)\r\n",
    "* What is the average age of men?\r\n",
    "* What is the percentage of people who have a Bachelor's degree?\r\n",
    "* What percentage of people with advanced education (`Bachelors`, `Masters`, or `Doctorate`) make more than 50K?\r\n",
    "* What percentage of people without advanced education make more than 50K?\r\n",
    "* What is the minimum number of hours a person works per week?\r\n",
    "* What percentage of the people who work the minimum number of hours per week have a salary of more than 50K?\r\n",
    "* What country has the highest percentage of people that earn >50K and what is that percentage?\r\n",
    "* Identify the most popular occupation for those who earn >50K in India. \r\n",
    "\r\n",
    "Use the starter code in the file `demographic_data_analyzer`. Update the code so all variables set to \"None\" are set to the appropriate calculation or code. Round all decimals to the nearest tenth."
   ],
   "metadata": {}
  },
  {
   "cell_type": "code",
   "execution_count": null,
   "source": [
    "import pandas as pd"
   ],
   "outputs": [],
   "metadata": {}
  },
  {
   "cell_type": "code",
   "execution_count": null,
   "source": [
    "# Read data from file\r\n",
    "df = None"
   ],
   "outputs": [],
   "metadata": {}
  },
  {
   "cell_type": "code",
   "execution_count": null,
   "source": [
    "# How many of each race are represented in this dataset? This should be a Pandas series with race names as the index labels.\r\n",
    "race_count = None"
   ],
   "outputs": [],
   "metadata": {}
  },
  {
   "cell_type": "code",
   "execution_count": null,
   "source": [
    "# What is the average age of men?\r\n",
    "average_age_men = None"
   ],
   "outputs": [],
   "metadata": {}
  },
  {
   "cell_type": "code",
   "execution_count": null,
   "source": [
    "# What is the percentage of people who have a Bachelor's degree?\r\n",
    "percentage_bachelors = None\r\n",
    "\r\n"
   ],
   "outputs": [],
   "metadata": {}
  },
  {
   "cell_type": "code",
   "execution_count": null,
   "source": [
    "# What percentage of people with advanced education (`Bachelors`, `Masters`, or `Doctorate`) make more than 50K?\r\n",
    "# What percentage of people without advanced education make more than 50K?\r\n",
    "\r\n",
    "# with and without `Bachelors`, `Masters`, or `Doctorate`\r\n",
    "higher_education = None\r\n",
    "lower_education = None\r\n",
    "\r\n",
    "# percentage with salary >50K\r\n",
    "higher_education_rich = None\r\n",
    "lower_education_rich = None\r\n",
    "\r\n",
    "# What is the minimum number of hours a person works per week (hours-per-week feature)?\r\n",
    "min_work_hours = None\r\n",
    "\r\n",
    "# What percentage of the people who work the minimum number of hours per week have a salary of >50K?\r\n",
    "num_min_workers = None\r\n",
    "\r\n",
    "rich_percentage = None\r\n",
    "\r\n",
    "# What country has the highest percentage of people that earn >50K?\r\n",
    "highest_earning_country = None\r\n",
    "highest_earning_country_percentage = None\r\n",
    "\r\n",
    "# Identify the most popular occupation for those who earn >50K in India.\r\n",
    "top_IN_occupation = None"
   ],
   "outputs": [],
   "metadata": {}
  }
 ],
 "metadata": {
  "orig_nbformat": 4,
  "language_info": {
   "name": "python"
  }
 },
 "nbformat": 4,
 "nbformat_minor": 2
}