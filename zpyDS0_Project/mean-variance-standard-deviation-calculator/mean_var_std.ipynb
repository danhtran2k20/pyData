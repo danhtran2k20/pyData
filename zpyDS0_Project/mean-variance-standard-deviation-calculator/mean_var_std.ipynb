{
 "cells": [
  {
   "cell_type": "markdown",
   "source": [
    "### 1_Assignment\r\n",
    "\r\n",
    "uses Numpy to output the mean, variance, standard deviation, max, min, and sum of the rows, columns, and elements in a 3 x 3 matrix. \r\n",
    "\r\n",
    "The input of the function should be a list containing 9 digits. The function should convert the list into a 3 x 3 Numpy array, and then return a dictionary containing the mean, variance, standard deviation, max, min, and sum along both axes and for the flattened matrix. \r\n",
    "\r\n",
    "The returned dictionary should follow this format:\r\n",
    "```py\r\n",
    "{\r\n",
    "  'mean': [axis1, axis2, flattened],\r\n",
    "  'variance': [axis1, axis2, flattened],\r\n",
    "  'standard deviation': [axis1, axis2, flattened],\r\n",
    "  'max': [axis1, axis2, flattened],\r\n",
    "  'min': [axis1, axis2, flattened],\r\n",
    "  'sum': [axis1, axis2, flattened]\r\n",
    "}\r\n",
    "```\r\n",
    "\r\n",
    "If a list containing less than 9 elements is passed into the function, it should raise a `ValueError` exception with the message: \"List must contain nine numbers.\" The values in the returned dictionary should be lists and not Numpy arrays.\r\n",
    "\r\n",
    "For example, `calculate([0,1,2,3,4,5,6,7,8])` should return:\r\n",
    "```py\r\n",
    "{\r\n",
    "  'mean': [[3.0, 4.0, 5.0], [1.0, 4.0, 7.0], 4.0], \r\n",
    "  'variance': [[6.0, 6.0, 6.0], [0.6666666666666666, 0.6666666666666666, 0.6666666666666666], 6.666666666666667], \r\n",
    "  'standard deviation': [[2.449489742783178, 2.449489742783178, 2.449489742783178], [0.816496580927726, 0.816496580927726, 0.816496580927726], 2.581988897471611],\r\n",
    "  'max': [[6, 7, 8], [2, 5, 8], 8],\r\n",
    "  'min': [[0, 1, 2], [0, 3, 6], 0],\r\n",
    "  'sum': [[9, 12, 15], [3, 12, 21], 36]\r\n",
    "}\r\n",
    "```"
   ],
   "metadata": {}
  },
  {
   "cell_type": "code",
   "execution_count": 1,
   "source": [
    "import numpy as np\r\n",
    "axis_lookup = [0,1,None]"
   ],
   "outputs": [],
   "metadata": {}
  },
  {
   "cell_type": "code",
   "execution_count": 2,
   "source": [
    "arr_input = [0,1,2,3,4,5,6,7,8]\r\n",
    "print('arr_input:', arr_input)\r\n",
    "\r\n",
    "arr_np = np.array(arr_input).reshape(3,3)\r\n",
    "arr_np"
   ],
   "outputs": [
    {
     "output_type": "stream",
     "name": "stdout",
     "text": [
      "arr_input: [0, 1, 2, 3, 4, 5, 6, 7, 8]\n"
     ]
    },
    {
     "output_type": "execute_result",
     "data": {
      "text/plain": [
       "array([[0, 1, 2],\n",
       "       [3, 4, 5],\n",
       "       [6, 7, 8]])"
      ]
     },
     "metadata": {},
     "execution_count": 2
    }
   ],
   "metadata": {}
  },
  {
   "cell_type": "code",
   "execution_count": 3,
   "source": [
    "mean_var = [np.mean(arr_np, axis=axis_ref).tolist() for axis_ref in axis_lookup]\r\n",
    "mean_var"
   ],
   "outputs": [
    {
     "output_type": "execute_result",
     "data": {
      "text/plain": [
       "[[3.0, 4.0, 5.0], [1.0, 4.0, 7.0], 4.0]"
      ]
     },
     "metadata": {},
     "execution_count": 3
    }
   ],
   "metadata": {}
  },
  {
   "cell_type": "code",
   "execution_count": 4,
   "source": [
    "variance_var = [np.var(arr_np, axis= axis_ref).tolist() for axis_ref in axis_lookup]\r\n",
    "variance_var"
   ],
   "outputs": [
    {
     "output_type": "execute_result",
     "data": {
      "text/plain": [
       "[[6.0, 6.0, 6.0],\n",
       " [0.6666666666666666, 0.6666666666666666, 0.6666666666666666],\n",
       " 6.666666666666667]"
      ]
     },
     "metadata": {},
     "execution_count": 4
    }
   ],
   "metadata": {}
  },
  {
   "cell_type": "code",
   "execution_count": 5,
   "source": [
    "stdev_var = [np.std(arr_np, axis= axis_ref).tolist() for axis_ref in axis_lookup]\r\n",
    "stdev_var"
   ],
   "outputs": [
    {
     "output_type": "execute_result",
     "data": {
      "text/plain": [
       "[[2.449489742783178, 2.449489742783178, 2.449489742783178],\n",
       " [0.816496580927726, 0.816496580927726, 0.816496580927726],\n",
       " 2.581988897471611]"
      ]
     },
     "metadata": {},
     "execution_count": 5
    }
   ],
   "metadata": {}
  },
  {
   "cell_type": "code",
   "execution_count": 6,
   "source": [
    "max_var = [np.amax(arr_np, axis= axis_ref).tolist() for axis_ref in axis_lookup]\r\n",
    "max_var "
   ],
   "outputs": [
    {
     "output_type": "execute_result",
     "data": {
      "text/plain": [
       "[[6, 7, 8], [2, 5, 8], 8]"
      ]
     },
     "metadata": {},
     "execution_count": 6
    }
   ],
   "metadata": {}
  },
  {
   "cell_type": "code",
   "execution_count": 7,
   "source": [
    "min_var = [np.amin(arr_np, axis= axis_ref).tolist() for axis_ref in axis_lookup]\r\n",
    "min_var"
   ],
   "outputs": [
    {
     "output_type": "execute_result",
     "data": {
      "text/plain": [
       "[[0, 1, 2], [0, 3, 6], 0]"
      ]
     },
     "metadata": {},
     "execution_count": 7
    }
   ],
   "metadata": {}
  },
  {
   "cell_type": "code",
   "execution_count": 8,
   "source": [
    "sum_var = [np.sum(arr_np, axis= axis_ref).tolist() for axis_ref in axis_lookup]\r\n",
    "sum_var"
   ],
   "outputs": [
    {
     "output_type": "execute_result",
     "data": {
      "text/plain": [
       "[[9, 12, 15], [3, 12, 21], 36]"
      ]
     },
     "metadata": {},
     "execution_count": 8
    }
   ],
   "metadata": {}
  }
 ],
 "metadata": {
  "orig_nbformat": 4,
  "language_info": {
   "name": "python",
   "version": "3.9.7",
   "mimetype": "text/x-python",
   "codemirror_mode": {
    "name": "ipython",
    "version": 3
   },
   "pygments_lexer": "ipython3",
   "nbconvert_exporter": "python",
   "file_extension": ".py"
  },
  "kernelspec": {
   "name": "python3",
   "display_name": "Python 3.9.7 64-bit"
  },
  "interpreter": {
   "hash": "fe93ddd766552dceea2d7f07abd21060b4ba8b277576c55d124449dd97658de9"
  }
 },
 "nbformat": 4,
 "nbformat_minor": 2
}