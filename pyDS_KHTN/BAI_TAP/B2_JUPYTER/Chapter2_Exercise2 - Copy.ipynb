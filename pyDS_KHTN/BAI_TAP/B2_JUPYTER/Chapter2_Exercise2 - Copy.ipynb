{
 "cells": [
  {
   "cell_type": "markdown",
   "metadata": {
    "colab_type": "text",
    "id": "pavdzx_KRYiK"
   },
   "source": [
    "## Chapter 2 - Exercise 2: Viết tiểu sử ngắn về một nhà khoa học mà bạn yêu thích, có kèm hình ảnh của nhà khoa học và link đến trang Wikipedia của họ "
   ]
  },
  {
   "cell_type": "markdown",
   "metadata": {
    "colab": {},
    "colab_type": "code",
    "id": "1ytwiPXIRYiN"
   },
   "source": [
    "## Thomas Alva Edison (February 11, 1847 – October 18, 1931)\n",
    "![Thomas Edison](https://cdn-images-1.medium.com/max/1000/1*s2GyMoLeSV3Epc2Gk3qBXA.png)\n",
    "[Visit Thomas Edison Wikipedia (https://en.wikipedia.org/wiki/Thomas_Edison)](https://en.wikipedia.org/wiki/Thomas_Edison)\n",
    "* <u>Born</u>: Thomas Alva Edison, February 11, 1847, Milan, Ohio, U.S.\n",
    "* Died: October 18, 1931 (aged 84), West Orange, New Jersey, U.S. \n",
    "* Burial place: Thomas Edison National Historical Park, Nationality American\n",
    "* Education: Self-educated\n",
    "* Occupation: Inventor, businessman"
   ]
  },
  {
   "cell_type": "code",
   "execution_count": null,
   "metadata": {},
   "outputs": [],
   "source": []
  }
 ],
 "metadata": {
  "colab": {
   "name": "Chapter2_Exercise2.ipynb",
   "provenance": []
  },
  "kernelspec": {
   "display_name": "Python 3",
   "language": "python",
   "name": "python3"
  },
  "language_info": {
   "codemirror_mode": {
    "name": "ipython",
    "version": 3
   },
   "file_extension": ".py",
   "mimetype": "text/x-python",
   "name": "python",
   "nbconvert_exporter": "python",
   "pygments_lexer": "ipython3",
   "version": "3.8.5"
  }
 },
 "nbformat": 4,
 "nbformat_minor": 1
}
