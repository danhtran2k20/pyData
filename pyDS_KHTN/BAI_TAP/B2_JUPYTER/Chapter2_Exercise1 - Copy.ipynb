{
 "cells": [
  {
   "cell_type": "markdown",
   "metadata": {
    "colab_type": "text",
    "id": "lgg3afWfMniV"
   },
   "source": [
    "## Chapter 2 - Exercise1 : Tạo danh sách 5 website mà bạn thường xuyên truy cập kèm theo link của chúng"
   ]
  },
  {
   "cell_type": "markdown",
   "metadata": {
    "colab": {},
    "colab_type": "code",
    "id": "RzlzDc4BMniY"
   },
   "source": [
    "1. [Udemy.com (https://www.udemy.com/)](https://www.udemy.com/)\n",
    "2. [BigData University (https://cognitiveclass.ai/)](https://cognitiveclass.ai/)\n",
    "3. [tuoitre.vn (https://tuoitre.vn/)](https://tuoitre.vn/)\n",
    "4. [google.com (https://www.google.com/)](https://www.google.com/)\n",
    "5. [vnexpress.net (https://vnexpress.net/)](https://vnexpress.net/)"
   ]
  }
 ],
 "metadata": {
  "colab": {
   "collapsed_sections": [],
   "name": "Chapter2_Exercise1.ipynb",
   "provenance": []
  },
  "kernelspec": {
   "display_name": "Python 3",
   "language": "python",
   "name": "python3"
  },
  "language_info": {
   "codemirror_mode": {
    "name": "ipython",
    "version": 3
   },
   "file_extension": ".py",
   "mimetype": "text/x-python",
   "name": "python",
   "nbconvert_exporter": "python",
   "pygments_lexer": "ipython3",
   "version": "3.7.4"
  }
 },
 "nbformat": 4,
 "nbformat_minor": 1
}
