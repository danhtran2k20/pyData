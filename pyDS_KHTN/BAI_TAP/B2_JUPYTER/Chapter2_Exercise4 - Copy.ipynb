{
 "cells": [
  {
   "cell_type": "markdown",
   "metadata": {
    "colab_type": "text",
    "id": "38AMFolaaBvu"
   },
   "source": [
    "## Chapter 2 - Exercise 4: Sử dụng Markdown để thực hiện các công thức "
   ]
  },
  {
   "cell_type": "markdown",
   "metadata": {
    "colab_type": "text",
    "id": "KKYdkmYJaBvy"
   },
   "source": [
    "### Linenear Regression"
   ]
  },
  {
   "cell_type": "markdown",
   "metadata": {
    "colab_type": "text",
    "id": "_Y2oz61OaBvz"
   },
   "source": [
    "## *a = $ \\frac{(\\sum y)(\\sum x^{2})-(\\sum x)(\\sum xy)}{n(\\sum x^{2})-(\\sum x)^{2}} $*"
   ]
  },
  {
   "cell_type": "markdown",
   "metadata": {
    "colab_type": "text",
    "id": "B4rVPyTyaBv0"
   },
   "source": [
    "## *b = $ \\frac{n(\\sum xy)-(\\sum x)(\\sum y)}{n(\\sum x^{2})-(\\sum x)^{2}} $*"
   ]
  },
  {
   "cell_type": "markdown",
   "metadata": {
    "colab_type": "text",
    "id": "XZ_V1xmpaBv0"
   },
   "source": [
    "### Decision Tree"
   ]
  },
  {
   "cell_type": "markdown",
   "metadata": {
    "colab_type": "text",
    "id": "iSBlnBKOaBv1"
   },
   "source": [
    "* Entropy using the frequency table of one attribute:"
   ]
  },
  {
   "cell_type": "markdown",
   "metadata": {
    "colab_type": "text",
    "id": "SjM56PlraBv2"
   },
   "source": [
    "# *E(S) = $ \\sum_{i=1}^{c} -p_{i}log_{2}p_{i} $*"
   ]
  },
  {
   "cell_type": "markdown",
   "metadata": {
    "colab_type": "text",
    "id": "mh-5nPITaBv3"
   },
   "source": [
    "* Entropy using the frequency table of two attributes:\t"
   ]
  },
  {
   "cell_type": "markdown",
   "metadata": {
    "colab_type": "text",
    "id": "gITwlq1-aBv4"
   },
   "source": [
    "# *E(T, X) = $ \\sum_{c\\in_{X}} P(c)E(c) $*"
   ]
  },
  {
   "cell_type": "markdown",
   "metadata": {
    "colab_type": "text",
    "id": "9T5zKMVqaBv5"
   },
   "source": [
    "* Gain\n"
   ]
  },
  {
   "cell_type": "markdown",
   "metadata": {
    "colab_type": "text",
    "id": "5OeYg_4ZaBv5"
   },
   "source": [
    "# *Gain(T, X) = $ Entropy(T) - Entropy(E,X) $*"
   ]
  }
 ],
 "metadata": {
  "colab": {
   "collapsed_sections": [],
   "name": "Chapter2_Exercise4.ipynb",
   "provenance": []
  },
  "kernelspec": {
   "display_name": "Python 3",
   "language": "python",
   "name": "python3"
  },
  "language_info": {
   "codemirror_mode": {
    "name": "ipython",
    "version": 3
   },
   "file_extension": ".py",
   "mimetype": "text/x-python",
   "name": "python",
   "nbconvert_exporter": "python",
   "pygments_lexer": "ipython3",
   "version": "3.7.4"
  }
 },
 "nbformat": 4,
 "nbformat_minor": 1
}
