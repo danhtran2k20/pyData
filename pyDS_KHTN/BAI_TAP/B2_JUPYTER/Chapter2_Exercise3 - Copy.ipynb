{
 "cells": [
  {
   "cell_type": "markdown",
   "metadata": {
    "colab_type": "text",
    "id": "P7f5Ts0WVX2y"
   },
   "source": [
    "## Chapter 2 - Exercise 3: Tạo một bảng chứa các môn học mà bạn yêu thích bao gồm các cột: stt, tên khóa học, thời lượng"
   ]
  },
  {
   "cell_type": "markdown",
   "metadata": {
    "colab": {},
    "colab_type": "code",
    "id": "YjpxgZF5VX21"
   },
   "source": [
    "|STT|Tên khóa học|Thời lượng|\n",
    "|---:|:---:|---:|\n",
    "|1|Fundamentals of Python|36|\n",
    "|2|Python for Machine Learning, Data Science & Data Visualization|36|\n",
    "|3|Maths & Statistic for Data Science|32|\n",
    "|4|Databases & SQL for Data Science|32|\n",
    "|5|Data Preprocessing & Analysis|40|\n",
    "|6|Machine Learning with Python|48|\n",
    "|7|R Programming Language for Data Science|48|\n",
    "|8|Big Data in Machine Learning|36|\n",
    "|9|Capstone Project|50|"
   ]
  },
  {
   "cell_type": "code",
   "execution_count": null,
   "metadata": {},
   "outputs": [],
   "source": []
  }
 ],
 "metadata": {
  "colab": {
   "name": "Chapter2_Exercise3.ipynb",
   "provenance": []
  },
  "kernelspec": {
   "display_name": "Python 3",
   "language": "python",
   "name": "python3"
  },
  "language_info": {
   "codemirror_mode": {
    "name": "ipython",
    "version": 3
   },
   "file_extension": ".py",
   "mimetype": "text/x-python",
   "name": "python",
   "nbconvert_exporter": "python",
   "pygments_lexer": "ipython3",
   "version": "3.8.5"
  }
 },
 "nbformat": 4,
 "nbformat_minor": 1
}
