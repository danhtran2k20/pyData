{
 "cells": [
  {
   "cell_type": "code",
   "execution_count": 1,
   "source": [
    "import csv"
   ],
   "outputs": [],
   "metadata": {}
  },
  {
   "cell_type": "code",
   "execution_count": 2,
   "source": [
    "# Đồng nhất họ tên cho dễ nhìn\r\n",
    "\r\n",
    "print(\"%70s\" %\"DANH SACH SAN PHAM\")\r\n",
    "print(\"%-6s %-5s %-30s %-30s %-35s %10s\" %(\"STT\", \"MA SP\", \"TEN SP\", \"URL\" , \"HINH SP\" , \"GIA\"))\r\n",
    "file = open(\"san_pham.csv\", 'r', encoding='utf-8')\r\n",
    "\r\n",
    "for STT, row in enumerate(csv.reader(file)):\r\n",
    "    print(\"%-6s %-5s %-30s %-30s %-35s %10s\" %(STT+1, row[0],row[1],row[2],row[3],row[4]))"
   ],
   "outputs": [
    {
     "output_type": "stream",
     "name": "stdout",
     "text": [
      "                                                    DANH SACH SAN PHAM\n",
      "STT    MA SP TEN SP                         URL                            HINH SP                                    GIA\n",
      "1      SP1   Bắp Hấp FM                     bap-hap-fm                     Family-Mart-Mar-05-06-2.jpg               6000\n",
      "2      SP2   Cá Viên Cốm Xanh Mayo          ca-vien-com-xanh-mayo          familymart-Oct-W2-2.jpg                  12000\n",
      "3      SP3   Cá Viên Tôm                    ca-vien-tom                    FamilyMart-Sep-W2-4-768x768.gif          12000\n",
      "4      SP4   Cánh Gà Chiên                  canh-ga-chien                  1CanhGaChien.jpg                         25000\n",
      "5      SP5   Pizza Phô Mai Chiên            pizza-pho-mai-chien            1Piza.jpg                                14000\n",
      "6      SP6   Set Khoai Tây Nghiền           set-khoai-tay-nghien           familymart-Sep-W3-2.png                   8000\n",
      "7      SP7   Takoyaki Set                   takoyaki-set                   Family-Mart-Oct-02-03-2.jpg              22000\n",
      "8      SP8   Bò Viên                        bo-vien                        Bò-Viên-TVS.jpg                           6000\n",
      "9      SP9   Chả Cá Bọc Bắp Non             cha-ca-boc-bap-non             FM-180413-chacabapnon.jpg                 5000\n",
      "10     SP10  Chả Cá Bọc Trứng Cút           cha-ca-boc-trung-cut           FM-180508-chacaboctrungcut-s.jpg          6000\n",
      "11     SP11  Chả Tôm                        cha-tom                        FamilyMart-July-W3-2.png                  6000\n",
      "12     SP12  Đậu Hũ Bọc Hải Sản             dau-hu-boc-hai-san             pimgpsh_fullsize_distr1.png               5000\n",
      "13     SP13  Khoai Tây Surimi               khoai-tay-surimi               Khoai-Tay-Surimi.jpg                      6000\n",
      "14     SP14  Mực Viên                       muc-vien                       Family-Mart-Nov-03-01.jpg                 8000\n",
      "15     SP15  Thanh Chả Heo                  thanh-cha-heo                  6.jpg                                     9000\n",
      "16     SP16  Viên Măng Rau Củ               vien-mang-rau-cu               FamilyMart-May-W3-4-2.jpg                 5000\n",
      "17     SP17  Viên Mực Rau Củ                vien-muc-rau-cu                Family-Mart-Mar-04-02.jpg                 6000\n",
      "18     SP18  Xúc Xích HotPot                xuc-xich-hotpot                22.jpg                                   10000\n",
      "19     SP19  Trà Sữa Táo Xanh               tra_sua_tao_xanh               tra_sua_tao_xanh.jpg                     35000\n",
      "20     SP20  Trà Sữa Trân Châu Đường Đen    tra-sua-tran-chau-duong-den    tra_sua_duong_den_1.jpg                  37000\n",
      "21     SP21  Trà Sữa Dâu                    tra-sua-dau                    traa_sua_sau.jpg                         37000\n",
      "22     SP22  Trà Sữa Đào                    tra-sua-dao                    tra_sua_dao.jpg                          35000\n",
      "23     SP23  Trà Sữa Mật Ong                tra-sua-mat-ong                tra_sua_mat_ong.jpg                      37000\n",
      "24     SP24  Trà Sữa Dưa Lưới               tra-sua-dua-luoi               tra_sua_dua_luoi.jpg                     35000\n",
      "25     SP25  Trà Sữa Kiwi                   tra-sua-kiwi                   tra_sua_kiwi.jpg                         35000\n",
      "26     SP26  Trà Sữa Khoai Môn              tra-sua-khoai-mon              tra_sua_khoa_mon.jpg                     37000\n",
      "27     SP27  Trà Sữa Truyền Thống           tra-sua-truyen-thong           tra_sua_tuyen_thong.jpg                  30000\n",
      "28     SP28  Trà Sữa Hoa Hướng Dương        tra-sua-hoa-huong-duong        tra_sua_hoa_huong_duong.jpg              42000\n",
      "29     SP29  Hồng Trà Sữa                   hong-tra-sua                   hong_tra_sua.jpg                         30000\n",
      "30     SP30  Trà Sữa Gạo                    tra-sua-gao                    tra_sua_gao_gDfHuVp.jpg                  37000\n",
      "31     SP31  Trà Xanh 888                   tra-xanh-888                   tra_sua_888.jpg                          27000\n",
      "32     SP32  Bá Tước Sủi Bọt                ba-tuoc-sui-bot                ba_tuoc_sui_bot.jpg                      27000\n",
      "33     SP33  Ôlong Sủi Bọt                  olong-sui-bot                  oLong_sui_bot.jpg                        27000\n",
      "34     SP34  Lục Trà Sủi Bọt                luc-tra-sui-bot                luc_tra_sui_bot.jpg                      27000\n",
      "35     SP35  Hồng Trà Sủi Bọt               hong-tra-sui-bot               hong_tra_sua_zgUaRwf.jpg                 27000\n",
      "36     SP36  Bá Tước Sữa                    ba-tuoc-sua                    ba_tuoc_sua.jpg                          37000\n",
      "37     SP37  Ôlong Sữa                      olong-sua                      olong_sua.jpg                            37000\n",
      "38     SP38  Trà Xanh Sữa                   tra-xanh-sua                   tra_xanh_sua.jpg                         37000\n",
      "39     SP39  Lục Trà Tắc Tươi               luc-tra-tac-tuoi               luc_tra_tac_tuoi.jpg                     29000\n",
      "40     SP40  Ôlong Tắc Tươi                 olong-tac-tuoi                 oLong_tac_tuoi.jpg                       29000\n",
      "41     SP41  Ôlong Dâu                      olong-dau                      olong_dau.jpg                            29000\n",
      "42     SP42  Ôlong Chanh Tươi               olong-chanh-tuoi               olong_chanh_tuoi.jpg                     29000\n",
      "43     SP43  Lục trà đào                    luc-tra-dao                    luc_tra_dao.jpg                          37000\n",
      "44     SP44  Lục Trà Dưa Lưới               luc-tra-dua-luoi               tra_sua_dua_luoi_dAvTyXv.jpg             25000\n",
      "45     SP45  Lục Trà Táo Xanh               luc-tra-tao-xanh               luc_tra_tao_xanh.jpg                     25000\n",
      "46     SP46  Lục Trà Kiwi                   luc-tra-kiwi                   luc_tra_kiwi.jpg                         25000\n",
      "47     SP47  Lục trà mật ong                luc-tra-mat-ong                luc_tra_mat_ong.jpg                      30000\n",
      "48     SP48  Lục Trà Tắc Chanh Dây          luc-tra-tac-chanh-day          luc_tra_tac_chanh_day.jpg                35000\n",
      "49     SP49  Lục Trà Dâu                    luc-tra-dau                    luc_tra_dau.jpg                          29000\n",
      "50     SP50  Lục Trà Chanh Tươi             luc-tra-chanh-tuoi             luc_tra_chanh_tuoi.jpg                   29000\n",
      "51     SP51  Matcha Macchiato               matcha-macchiato               Matcha_Macchiato.jpg                     55000\n",
      "52     SP52  Matcha Đậu Đỏ                  matcha-dau-do                  Matcha_dau_do.jpg                        49000\n",
      "53     SP53  Lục Trà Bọt Sữa                luc-tra-bot-sua                luc_tra_bot_sua.jpg                      45000\n",
      "54     SP54  Hồng Trà Bọt Sữa               hong-tra-bot-sua               hong_tra_bot_sua.jpg                     35000\n",
      "55     SP55  Nước Ép Chanh Dây              nuoc-ep-chanh-day              nuoc_ep_chai_day.jpg                      3700\n",
      "56     SP56  Nước ép cam                    nuoc-ep-cam                    nuoc_ep_cam.jpg                          37000\n",
      "57     SP57  Nước ép táo                    nuoc-ep-tao                    nuoc_ep_tao.jpg                          42000\n",
      "58     SP58  Nước ép bưởi                   nuoc-ep-buoi                   nuoc_ep_buoi.jpg                         37000\n",
      "59     SP59  Nước lô hội mật ong chanh      nuoc-lo-hoi-mat-ong-chanh      nuoc_ep_lohoi_mat_ong_chanh.jpg          37000\n",
      "60     SP60  Cà phê sữa                     ca-phe-sua                     ca_phe_sua.jpg                           37000\n",
      "61     SP61  Cà phê đen                     ca-phe-den                     ca_phe_den.jpg                           37000\n",
      "62     SP62  Hạt 3Q Ngọc Trai               hat-3q-ngoc-trai               hat_3q_ngoc_trai.jpg                     10000\n",
      "63     SP63  Đào Miếng                      dao-mieng                      dao_mieng.jpg                            10000\n",
      "64     SP64  Kem Sữa                        kem-sua                        kem_sua.jpg                              10000\n",
      "65     SP65  Hạt thuỷ tinh Yogurt           hat-thuy-tinh-yogurt           hat_3q_ngoc_trai_D8H3aeu.jpg             10000\n",
      "66     SP66  Bánh plan trứng                banh-plan-trung                banh_plan_trung.jpg                       7000\n",
      "67     SP67  Đậu đỏ                         dau-do                         dau_do.jpg                               10000\n",
      "68     SP68  Hạt lô hội                     hat-lo-hoi                     hat_lo_hoi.jpg                            7000\n",
      "69     SP69  Hạt trái cây                   hat-trai-cay                   hat_trai_cay.jpg                          7000\n",
      "70     SP70  Hạt Cà Phê                     hat-ca-phe                     hat_ca_phe.jpg                            7000\n",
      "71     SP71  Sương Sáo                      suong-sao                      suong_sao.jpg                             7000\n",
      "72     SP72  Hạt Trân Châu                  hat-tran-chau                  hat_tran_chau.jpg                         7000\n",
      "73     SP73  Sinh tố                        sinh-to                        sinhto.jpg                               15000\n"
     ]
    }
   ],
   "metadata": {
    "scrolled": true
   }
  },
  {
   "cell_type": "code",
   "execution_count": 3,
   "source": [
    "# ĐỌC NỘI DUNG TỪ FILE CSV VÀ XỬ LÝ DỮ LIỆU\r\n",
    "\r\n",
    "# Đồng nhất họ tên cho dễ nhìn\r\n",
    "\r\n",
    "ds_khach_hang = []\r\n",
    "f = open('files/ds_khach_hang.csv', encoding='utf-8')\r\n",
    "for dong in csv.reader(f):\r\n",
    "    dong[0] = dong[0].title()  # Cập nhật phần tử trong list\r\n",
    "    print(dong)\r\n",
    "    ds_khach_hang.append(dong)\r\n",
    "print(ds_khach_hang)\r\n",
    "f.close()"
   ],
   "outputs": [
    {
     "output_type": "stream",
     "name": "stdout",
     "text": [
      "['\\ufeffNguyễn Văn A', '11/05/1998', '0909090909', 'TPHCM']\n",
      "['Trần Thị C', '11/05/1998', '0933123456', 'TPHCM']\n",
      "['Lê Văn B', '11/05/1998', '0942666999', 'TPHCM']\n",
      "['Ngô Thị D', '11/05/1998', '0902123987', 'TPHCM']\n",
      "[['\\ufeffNguyễn Văn A', '11/05/1998', '0909090909', 'TPHCM'], ['Trần Thị C', '11/05/1998', '0933123456', 'TPHCM'], ['Lê Văn B', '11/05/1998', '0942666999', 'TPHCM'], ['Ngô Thị D', '11/05/1998', '0902123987', 'TPHCM']]\n"
     ]
    }
   ],
   "metadata": {
    "scrolled": true
   }
  },
  {
   "cell_type": "code",
   "execution_count": 4,
   "source": [
    "# GHI NỘI DỤNG ĐÃ ĐƯỢC XỬ LÝ SANG FILE CSV KHÁC\r\n",
    "\r\n",
    "# Trước khi ghi dữ liệu sang file csv khác, cần chuyển dữ liệu về dạng:\r\n",
    "# [  [], [], [], []  ]\r\n",
    "\r\n",
    "f = open('files/ds_khach_hang_edited.csv', 'w', encoding='utf-8', newline='')\r\n",
    "for khach_hang in ds_khach_hang:\r\n",
    "    csv.writer(f).writerow(khach_hang)\r\n",
    "f.close()"
   ],
   "outputs": [],
   "metadata": {}
  },
  {
   "cell_type": "code",
   "execution_count": 5,
   "source": [
    "# TÍNH ĐIỂM TRUNG BÌNH CỦA HỌC SINH\n",
    "\n",
    "# Đọc và Xử lý dữ liệu\n",
    "\n",
    "ds_hoc_sinh = []\n",
    "\n",
    "f = open('files/hoc_sinh.csv', encoding='utf-8')\n",
    "for dong in csv.reader(f):\n",
    "    dtb = (float(dong[1]) + float(dong[2]) + float(dong[3])) / 3\n",
    "    dong.append(round(dtb, 1))  # round(dtb, 1)\n",
    "    ds_hoc_sinh.append(dong)\n",
    "print(ds_hoc_sinh)\n",
    "f.close()"
   ],
   "outputs": [
    {
     "output_type": "error",
     "ename": "FileNotFoundError",
     "evalue": "[Errno 2] No such file or directory: 'files/hoc_sinh.csv'",
     "traceback": [
      "\u001b[1;31m---------------------------------------------------------------------------\u001b[0m",
      "\u001b[1;31mFileNotFoundError\u001b[0m                         Traceback (most recent call last)",
      "\u001b[1;32m~\\AppData\\Local\\Temp/ipykernel_14964/644128902.py\u001b[0m in \u001b[0;36m<module>\u001b[1;34m\u001b[0m\n\u001b[0;32m      5\u001b[0m \u001b[0mds_hoc_sinh\u001b[0m \u001b[1;33m=\u001b[0m \u001b[1;33m[\u001b[0m\u001b[1;33m]\u001b[0m\u001b[1;33m\u001b[0m\u001b[1;33m\u001b[0m\u001b[0m\n\u001b[0;32m      6\u001b[0m \u001b[1;33m\u001b[0m\u001b[0m\n\u001b[1;32m----> 7\u001b[1;33m \u001b[0mf\u001b[0m \u001b[1;33m=\u001b[0m \u001b[0mopen\u001b[0m\u001b[1;33m(\u001b[0m\u001b[1;34m'files/hoc_sinh.csv'\u001b[0m\u001b[1;33m,\u001b[0m \u001b[0mencoding\u001b[0m\u001b[1;33m=\u001b[0m\u001b[1;34m'utf-8'\u001b[0m\u001b[1;33m)\u001b[0m\u001b[1;33m\u001b[0m\u001b[1;33m\u001b[0m\u001b[0m\n\u001b[0m\u001b[0;32m      8\u001b[0m \u001b[1;32mfor\u001b[0m \u001b[0mdong\u001b[0m \u001b[1;32min\u001b[0m \u001b[0mcsv\u001b[0m\u001b[1;33m.\u001b[0m\u001b[0mreader\u001b[0m\u001b[1;33m(\u001b[0m\u001b[0mf\u001b[0m\u001b[1;33m)\u001b[0m\u001b[1;33m:\u001b[0m\u001b[1;33m\u001b[0m\u001b[1;33m\u001b[0m\u001b[0m\n\u001b[0;32m      9\u001b[0m     \u001b[0mdtb\u001b[0m \u001b[1;33m=\u001b[0m \u001b[1;33m(\u001b[0m\u001b[0mfloat\u001b[0m\u001b[1;33m(\u001b[0m\u001b[0mdong\u001b[0m\u001b[1;33m[\u001b[0m\u001b[1;36m1\u001b[0m\u001b[1;33m]\u001b[0m\u001b[1;33m)\u001b[0m \u001b[1;33m+\u001b[0m \u001b[0mfloat\u001b[0m\u001b[1;33m(\u001b[0m\u001b[0mdong\u001b[0m\u001b[1;33m[\u001b[0m\u001b[1;36m2\u001b[0m\u001b[1;33m]\u001b[0m\u001b[1;33m)\u001b[0m \u001b[1;33m+\u001b[0m \u001b[0mfloat\u001b[0m\u001b[1;33m(\u001b[0m\u001b[0mdong\u001b[0m\u001b[1;33m[\u001b[0m\u001b[1;36m3\u001b[0m\u001b[1;33m]\u001b[0m\u001b[1;33m)\u001b[0m\u001b[1;33m)\u001b[0m \u001b[1;33m/\u001b[0m \u001b[1;36m3\u001b[0m\u001b[1;33m\u001b[0m\u001b[1;33m\u001b[0m\u001b[0m\n",
      "\u001b[1;31mFileNotFoundError\u001b[0m: [Errno 2] No such file or directory: 'files/hoc_sinh.csv'"
     ]
    }
   ],
   "metadata": {}
  },
  {
   "cell_type": "code",
   "execution_count": null,
   "source": [
    "f = open('files/ds_hoc_sinh_edited.csv', 'w', encoding='utf-8', newline='')\n",
    "for hoc_sinh in ds_hoc_sinh:\n",
    "    csv.writer(f).writerow(hoc_sinh)\n",
    "f.close()"
   ],
   "outputs": [],
   "metadata": {}
  },
  {
   "cell_type": "code",
   "execution_count": null,
   "source": [],
   "outputs": [],
   "metadata": {}
  }
 ],
 "metadata": {
  "kernelspec": {
   "name": "python3",
   "display_name": "Python 3.9.7 64-bit"
  },
  "language_info": {
   "codemirror_mode": {
    "name": "ipython",
    "version": 3
   },
   "file_extension": ".py",
   "mimetype": "text/x-python",
   "name": "python",
   "nbconvert_exporter": "python",
   "pygments_lexer": "ipython3",
   "version": "3.9.7"
  },
  "interpreter": {
   "hash": "fe93ddd766552dceea2d7f07abd21060b4ba8b277576c55d124449dd97658de9"
  }
 },
 "nbformat": 4,
 "nbformat_minor": 2
}