{
 "cells": [
  {
   "cell_type": "code",
   "execution_count": 2,
   "metadata": {},
   "outputs": [
    {
     "name": "stdout",
     "output_type": "stream",
     "text": [
      "Nhập số lượng: 10\n",
      "Nhập đơn giá: 10000\n",
      "Thành tiền = 10 * 10000 = 100000\n"
     ]
    }
   ],
   "source": [
    "# Bài 2.1\n",
    "\n",
    "so_luong = int(input(\"Nhập số lượng: \"))\n",
    "don_gia = int(input(\"Nhập đơn giá: \"))\n",
    "\n",
    "thanh_tien = so_luong * don_gia\n",
    "\n",
    "print(\"Thành tiền = %i * %i = %i\" % (so_luong, don_gia, thanh_tien))"
   ]
  },
  {
   "cell_type": "code",
   "execution_count": 4,
   "metadata": {},
   "outputs": [
    {
     "name": "stdout",
     "output_type": "stream",
     "text": [
      "Nhập số lượng: 10\n",
      "Nhập đơn giá: 50000\n",
      "Thành tiền = 10 * 50,000 = 500,000\n"
     ]
    }
   ],
   "source": [
    "# Bài 2.1 (Hướng dẫn thêm)\n",
    "\n",
    "so_luong = int(input(\"Nhập số lượng: \"))\n",
    "don_gia = int(input(\"Nhập đơn giá: \"))\n",
    "\n",
    "thanh_tien = so_luong * don_gia\n",
    "\n",
    "print(\"Thành tiền = %i * %s = %s\" % (so_luong, \"{:,}\".format(don_gia), \"{:,}\".format(thanh_tien)))\n",
    "\n",
    "# \"{:,}\".format(don_gia)\n",
    "# \"{:,}\".format(thanh_tien)"
   ]
  },
  {
   "cell_type": "code",
   "execution_count": 6,
   "metadata": {},
   "outputs": [
    {
     "name": "stdout",
     "output_type": "stream",
     "text": [
      "Nhập độ C: 27\n",
      "27.00 độ C = 80.60 độ F\n"
     ]
    }
   ],
   "source": [
    "# Bài 2.2\n",
    "\n",
    "do_c = float(input(\"Nhập độ C: \"))\n",
    "do_f = 9 / 5 * do_c + 32\n",
    "print(\"%.2f độ C = %.2f độ F\" % (do_c, do_f))"
   ]
  },
  {
   "cell_type": "code",
   "execution_count": null,
   "metadata": {},
   "outputs": [],
   "source": []
  }
 ],
 "metadata": {
  "kernelspec": {
   "display_name": "Python 3",
   "language": "python",
   "name": "python3"
  },
  "language_info": {
   "codemirror_mode": {
    "name": "ipython",
    "version": 3
   },
   "file_extension": ".py",
   "mimetype": "text/x-python",
   "name": "python",
   "nbconvert_exporter": "python",
   "pygments_lexer": "ipython3",
   "version": "3.6.8"
  }
 },
 "nbformat": 4,
 "nbformat_minor": 2
}
