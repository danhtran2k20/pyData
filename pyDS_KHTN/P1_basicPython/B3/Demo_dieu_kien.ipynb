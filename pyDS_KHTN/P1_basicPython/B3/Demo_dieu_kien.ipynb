{
 "cells": [
  {
   "cell_type": "code",
   "execution_count": 1,
   "metadata": {},
   "outputs": [
    {
     "name": "stdout",
     "output_type": "stream",
     "text": [
      "Chúc mừng, bạn đã thi đậu\n"
     ]
    }
   ],
   "source": [
    "# Cấu trúc if\n",
    "\n",
    "toan = 9\n",
    "ly = 8\n",
    "hoa = 5\n",
    "\n",
    "if toan >= 5 and ly >= 5 and hoa >= 5:\n",
    "    print(\"Chúc mừng, bạn đã thi đậu\")\n",
    "\n",
    "if toan < 5 or ly < 5 or hoa < 5:\n",
    "    print(\"Rất tiếc, bạn đã thi rớt\")"
   ]
  },
  {
   "cell_type": "code",
   "execution_count": 2,
   "metadata": {},
   "outputs": [
    {
     "name": "stdout",
     "output_type": "stream",
     "text": [
      "Chúc mừng, bạn đã thi đậu\n"
     ]
    }
   ],
   "source": [
    "# Cấu trúc if...else...\n",
    "\n",
    "if toan >= 5 and ly >= 5 and hoa >= 5:\n",
    "    print(\"Chúc mừng, bạn đã thi đậu\")\n",
    "\n",
    "else:\n",
    "    print(\"Rất tiếc, bạn đã thi rớt\")"
   ]
  },
  {
   "cell_type": "code",
   "execution_count": 8,
   "metadata": {},
   "outputs": [
    {
     "name": "stdout",
     "output_type": "stream",
     "text": [
      "Nhập số lượng: 4\n",
      "Nhập đơn giá: 20000\n",
      "------------------------------\n",
      "Thành tiền: 80,000\n",
      "Tiền giảm (10%): 0\n",
      "TIỀN PHẢI TRẢ: 80,000\n"
     ]
    }
   ],
   "source": [
    "# Tính tiền hàng\n",
    "# Giảm giá 10% thành tiền nếu số lượng >= 5\n",
    "\n",
    "# Ví dụ:\n",
    "# so_luong = 5\n",
    "# don_gia = 40000\n",
    "# thanh_tien = 200000\n",
    "# tien_giam = 20000\n",
    "# tien_phai_tra = 180000\n",
    "\n",
    "\n",
    "so_luong = int(input(\"Nhập số lượng: \"))\n",
    "don_gia = int(input(\"Nhập đơn giá: \"))\n",
    "thanh_tien = so_luong * don_gia\n",
    "print(\"-\" * 30)\n",
    "if so_luong >= 5:\n",
    "    tien_giam = thanh_tien * 0.02  # 10%\n",
    "    tien_phai_tra = thanh_tien - tien_giam  # 90% = 100% - 10%\n",
    "    print(\"Thành tiền:\", \"{:,}\".format(thanh_tien))\n",
    "    print(\"Tiền giảm (10%):\", \"{:,}\".format(tien_giam))\n",
    "    print(\"TIỀN PHẢI TRẢ:\", \"{:,}\".format(tien_phai_tra))\n",
    "else:\n",
    "    print(\"Thành tiền:\", \"{:,}\".format(thanh_tien))\n",
    "    print(\"Tiền giảm (10%): 0\")\n",
    "    print(\"TIỀN PHẢI TRẢ:\", \"{:,}\".format(thanh_tien))"
   ]
  },
  {
   "cell_type": "code",
   "execution_count": 12,
   "metadata": {},
   "outputs": [
    {
     "name": "stdout",
     "output_type": "stream",
     "text": [
      "Nhập số lượng: 5\n",
      "Nhập đơn giá: 40000\n",
      "------------------------------\n",
      "Thành tiền: 200,000\n",
      "Tiền giảm (10%): 4,000.0\n",
      "TIỀN PHẢI TRẢ: 196,000.0\n"
     ]
    }
   ],
   "source": [
    "# Tính tiền hàng\n",
    "# Giảm giá 10% thành tiền nếu số lượng >= 5\n",
    "\n",
    "# Ví dụ:\n",
    "# so_luong = 5\n",
    "# don_gia = 40000\n",
    "# thanh_tien = 200000\n",
    "# tien_giam = 20000\n",
    "# tien_phai_tra = 180000\n",
    "\n",
    "\n",
    "so_luong = int(input(\"Nhập số lượng: \"))\n",
    "don_gia = int(input(\"Nhập đơn giá: \"))\n",
    "thanh_tien = so_luong * don_gia\n",
    "print(\"-\" * 30)\n",
    "if so_luong >= 5:\n",
    "    tien_giam = thanh_tien * 0.02  # 10%\n",
    "    tien_phai_tra = thanh_tien - tien_giam  # 90% = 100% - 10%\n",
    "    print(\"Thành tiền: %s\" % \"{:,}\".format(thanh_tien))\n",
    "    print(\"Tiền giảm (10%%): %s\" % \"{:,}\".format(tien_giam))\n",
    "    print(\"TIỀN PHẢI TRẢ: %s\" % \"{:,}\".format(tien_phai_tra))\n",
    "else:\n",
    "    print(\"Thành tiền:\", \"{:,}\".format(thanh_tien))\n",
    "    print(\"Tiền giảm (10%): 0\")\n",
    "    print(\"TIỀN PHẢI TRẢ:\", \"{:,}\".format(thanh_tien))"
   ]
  },
  {
   "cell_type": "code",
   "execution_count": 15,
   "metadata": {},
   "outputs": [
    {
     "name": "stdout",
     "output_type": "stream",
     "text": [
      "Nhập điểm trung bình: 8\n",
      "Giỏi\n"
     ]
    }
   ],
   "source": [
    "# Cấu trúc if... elif... else...\n",
    "\n",
    "dtb = float(input(\"Nhập điểm trung bình: \"))\n",
    "\n",
    "if 0 <= dtb <= 10:\n",
    "    if dtb < 5:\n",
    "        print(\"Yếu / Kém\")\n",
    "    elif dtb < 6:\n",
    "        print(\"Trung bình\")\n",
    "    elif dtb < 7:\n",
    "        print(\"Trung bình - Khá\")\n",
    "    elif dtb < 8:\n",
    "        print(\"Khá\")\n",
    "    elif dtb < 9:\n",
    "        print(\"Giỏi\")\n",
    "    elif dtb <= 10:\n",
    "        print(\"Xuất sắc\")\n",
    "else:\n",
    "    print(\"Điểm không hợp lệ.\")"
   ]
  },
  {
   "cell_type": "code",
   "execution_count": 17,
   "metadata": {},
   "outputs": [
    {
     "name": "stdout",
     "output_type": "stream",
     "text": [
      "Nhập điểm trung bình: 4\n",
      "Yếu / Kém\n",
      "Trung bình\n",
      "Trung bình - Khá\n",
      "Khá\n",
      "Giỏi\n",
      "Xuất sắc\n"
     ]
    }
   ],
   "source": [
    "# Trường hợp này không hợp lý đối với bài toán đang xét\n",
    "# dtb = float(input(\"Nhập điểm trung bình: \"))  # 7\n",
    "\n",
    "# if 0 <= dtb <= 10:\n",
    "#     if dtb < 5:\n",
    "#         print(\"Yếu / Kém\")\n",
    "#     if dtb < 6:\n",
    "#         print(\"Trung bình\")\n",
    "#     if dtb < 7:\n",
    "#         print(\"Trung bình - Khá\")\n",
    "#     if dtb < 8:\n",
    "#         print(\"Khá\")\n",
    "#     if dtb < 9:\n",
    "#         print(\"Giỏi\")\n",
    "#     if dtb <= 10:\n",
    "#         print(\"Xuất sắc\")\n",
    "# else:\n",
    "#     print(\"Điểm không hợp lệ.\")"
   ]
  },
  {
   "cell_type": "code",
   "execution_count": null,
   "metadata": {},
   "outputs": [],
   "source": [
    "# Viết chương trình giải phương trình bậc nhất: ax + b = 0\n",
    "# Nếu a khác 0            => Phương trình có 1 nghiệm x = -b/a\n",
    "# Nếu a = 0 và b = 0      => Phương trình có vô số nghiệm\n",
    "# Nếu a = 0 và b khác 0   => Phương trình vô nghiệm\n",
    "\n"
   ]
  },
  {
   "cell_type": "code",
   "execution_count": null,
   "metadata": {},
   "outputs": [],
   "source": [
    "# Viết chương trình xét năm nhập vào có là năm nhuần không?\n",
    "# Gợi ý:\n",
    "# - Năm nhuần là năm chia hết 4 và không chia hết cho 100\n",
    "# - Hoặc năm chia hết cho 400 cũng là năm nhuần\n",
    "\n"
   ]
  }
 ],
 "metadata": {
  "kernelspec": {
   "display_name": "Python 3",
   "language": "python",
   "name": "python3"
  },
  "language_info": {
   "codemirror_mode": {
    "name": "ipython",
    "version": 3
   },
   "file_extension": ".py",
   "mimetype": "text/x-python",
   "name": "python",
   "nbconvert_exporter": "python",
   "pygments_lexer": "ipython3",
   "version": "3.6.8"
  }
 },
 "nbformat": 4,
 "nbformat_minor": 2
}
