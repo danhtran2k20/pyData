{
 "cells": [
  {
   "cell_type": "code",
   "execution_count": 2,
   "metadata": {},
   "outputs": [
    {
     "name": "stdout",
     "output_type": "stream",
     "text": [
      "Nhập b: 0\n"
     ]
    },
    {
     "ename": "ZeroDivisionError",
     "evalue": "division by zero",
     "output_type": "error",
     "traceback": [
      "\u001b[1;31m---------------------------------------------------------------------------\u001b[0m",
      "\u001b[1;31mZeroDivisionError\u001b[0m                         Traceback (most recent call last)",
      "\u001b[1;32m<ipython-input-2-d059a68cdd8d>\u001b[0m in \u001b[0;36m<module>\u001b[1;34m\u001b[0m\n\u001b[0;32m      1\u001b[0m \u001b[0ma\u001b[0m \u001b[1;33m=\u001b[0m \u001b[1;36m12\u001b[0m\u001b[1;33m\u001b[0m\u001b[1;33m\u001b[0m\u001b[0m\n\u001b[0;32m      2\u001b[0m \u001b[0mb\u001b[0m \u001b[1;33m=\u001b[0m \u001b[0mint\u001b[0m\u001b[1;33m(\u001b[0m\u001b[0minput\u001b[0m\u001b[1;33m(\u001b[0m\u001b[1;34m\"Nhập b: \"\u001b[0m\u001b[1;33m)\u001b[0m\u001b[1;33m)\u001b[0m\u001b[1;33m\u001b[0m\u001b[1;33m\u001b[0m\u001b[0m\n\u001b[1;32m----> 3\u001b[1;33m \u001b[0mthuong\u001b[0m \u001b[1;33m=\u001b[0m \u001b[0ma\u001b[0m \u001b[1;33m/\u001b[0m \u001b[0mb\u001b[0m\u001b[1;33m\u001b[0m\u001b[1;33m\u001b[0m\u001b[0m\n\u001b[0m\u001b[0;32m      4\u001b[0m \u001b[0mprint\u001b[0m\u001b[1;33m(\u001b[0m\u001b[1;34m\"Thương = %i / %i = %.1f\"\u001b[0m \u001b[1;33m%\u001b[0m \u001b[1;33m(\u001b[0m\u001b[0ma\u001b[0m\u001b[1;33m,\u001b[0m \u001b[0mb\u001b[0m\u001b[1;33m,\u001b[0m \u001b[0ma\u001b[0m\u001b[1;33m/\u001b[0m\u001b[0mb\u001b[0m\u001b[1;33m)\u001b[0m\u001b[1;33m)\u001b[0m\u001b[1;33m\u001b[0m\u001b[1;33m\u001b[0m\u001b[0m\n",
      "\u001b[1;31mZeroDivisionError\u001b[0m: division by zero"
     ]
    }
   ],
   "source": [
    "a = 12\n",
    "b = int(input(\"Nhập b: \"))\n",
    "thuong = a / b\n",
    "print(\"Thương = %i / %i = %.1f\" % (a, b, a/b))"
   ]
  },
  {
   "cell_type": "code",
   "execution_count": 17,
   "metadata": {},
   "outputs": [
    {
     "name": "stdout",
     "output_type": "stream",
     "text": [
      "Nhập b: 0\n",
      "Error: Lỗi chia cho 0. Vui lòng nhập số khác 0.\n"
     ]
    }
   ],
   "source": [
    "try:\n",
    "    a = 12\n",
    "    b = int(input(\"Nhập b: \"))\n",
    "    thuong = a / b\n",
    "    print(\"Thương = %i / %i = %.1f\" % (a, b, a/b))\n",
    "except ZeroDivisionError as loi_1:\n",
    "    print(\"Error: Lỗi chia cho 0. Vui lòng nhập số khác 0.\")\n",
    "except ValueError:\n",
    "    print(\"Error: Vui lòng nhập giá trị là số (khác 0).\")\n",
    "except Exception as ex_chung:  # Luôn đứng sau các except khác\n",
    "    print(\"Nhãn lỗi:\", type(ex_chung).__name__)\n",
    "    print(\"Mô tả lỗi:\", ex_chung)"
   ]
  },
  {
   "cell_type": "code",
   "execution_count": 18,
   "metadata": {},
   "outputs": [
    {
     "name": "stdout",
     "output_type": "stream",
     "text": [
      "Nhập b: 0\n",
      "Error: Lỗi chia cho 0. Vui lòng nhập số khác 0.\n"
     ]
    }
   ],
   "source": [
    "try:\n",
    "    a = 12\n",
    "    b = int(input(\"Nhập b: \"))\n",
    "    thuong = a / b\n",
    "except ZeroDivisionError as loi_1:\n",
    "    print(\"Error: Lỗi chia cho 0. Vui lòng nhập số khác 0.\")\n",
    "except ValueError:\n",
    "    print(\"Error: Vui lòng nhập giá trị là số (khác 0).\")\n",
    "except Exception as ex_chung:  # Luôn đứng sau các except khác\n",
    "    print(\"Nhãn lỗi:\", type(ex_chung).__name__)\n",
    "    print(\"Mô tả lỗi:\", ex_chung)\n",
    "else:\n",
    "    print(\"Thương = %i / %i = %.1f\" % (a, b, a/b))"
   ]
  },
  {
   "cell_type": "code",
   "execution_count": 20,
   "metadata": {},
   "outputs": [
    {
     "name": "stdout",
     "output_type": "stream",
     "text": [
      "Nhập b: fdgd\n",
      "Error: Chương trình đang xảy ra lỗi.\n"
     ]
    }
   ],
   "source": [
    "try:\n",
    "    a = 12\n",
    "    b = int(input(\"Nhập b: \"))\n",
    "    thuong = a / b\n",
    "except (ZeroDivisionError, ValueError):  # gộp lỗi\n",
    "    print(\"Error: Chương trình đang xảy ra lỗi.\")\n",
    "except Exception as ex_chung:  # Luôn đứng sau các except khác\n",
    "    print(\"Nhãn lỗi:\", type(ex_chung).__name__)\n",
    "    print(\"Mô tả lỗi:\", ex_chung)\n",
    "else:\n",
    "    print(\"Thương = %i / %i = %.1f\" % (a, b, a/b))"
   ]
  },
  {
   "cell_type": "code",
   "execution_count": 22,
   "metadata": {},
   "outputs": [
    {
     "name": "stdout",
     "output_type": "stream",
     "text": [
      "Nhập b: 0\n",
      "Error: Lỗi chia cho 0. Vui lòng nhập số khác 0.\n",
      "Tổng = 12 + 0 = 12\n"
     ]
    }
   ],
   "source": [
    "try:\n",
    "    a = 12\n",
    "    b = int(input(\"Nhập b: \"))\n",
    "    thuong = a / b\n",
    "except ZeroDivisionError as loi_1:\n",
    "    print(\"Error: Lỗi chia cho 0. Vui lòng nhập số khác 0.\")\n",
    "except ValueError:\n",
    "    print(\"Error: Vui lòng nhập giá trị là số (khác 0).\")\n",
    "except Exception as ex_chung:  # Luôn đứng sau các except khác\n",
    "    print(\"Nhãn lỗi:\", type(ex_chung).__name__)\n",
    "    print(\"Mô tả lỗi:\", ex_chung)\n",
    "else:\n",
    "    print(\"Thương = %i / %i = %.1f\" % (a, b, a/b))\n",
    "finally:\n",
    "    print(\"Tổng = %i + %i = %i\" % (a, b, a+b))"
   ]
  },
  {
   "cell_type": "code",
   "execution_count": 61,
   "metadata": {},
   "outputs": [
    {
     "name": "stdout",
     "output_type": "stream",
     "text": [
      "Nhập b: 2\n",
      "Thương = 12 / 2 = 6.0\n",
      "Tổng = 12 + 2 = 14\n",
      "Hiệu = 12 - 2 = 10\n",
      "Tích = 12 * 2 = 24\n"
     ]
    }
   ],
   "source": [
    "try:\n",
    "    a = 12\n",
    "    b = input(\"Nhập b: \").strip()\n",
    "    \n",
    "    # Kiểm tra lỗi có thể xảy ra\n",
    "    if b == \"0\":\n",
    "        raise ZeroDivisionError(\"Lỗi chia cho 0. Vui lòng nhập số khác 0.\")\n",
    "    elif b.isdigit() == False:\n",
    "        raise ValueError(\"Vui lòng nhập số (khác 0)\")\n",
    "        \n",
    "    # Nếu không có lỗi nào trong các lỗi trên thì chuyển biến b về kiểu số và thực hiện tính toán\n",
    "    b = int(b)\n",
    "    thuong = a / b\n",
    "except ZeroDivisionError as loi_1:\n",
    "    print(\"Error:\", loi_1)\n",
    "except ValueError as loi_2:\n",
    "    print(\"Error:\", loi_2)\n",
    "except Exception as ex_chung:  # Luôn đứng sau các except khác\n",
    "    print(\"Nhãn lỗi:\", type(ex_chung).__name__)\n",
    "    print(\"Mô tả lỗi:\", ex_chung)\n",
    "else:\n",
    "    print(\"Thương = %i / %i = %.1f\" % (a, b, a/b))\n",
    "finally:\n",
    "    if str(b).isdigit() == False: # Nếu biến b nhập vào không phải là số thì KHÔNG thực hiện tính toán được => pass\n",
    "        pass\n",
    "    else:  # Nếu biến b là số thì thực hiện tính toán bình thường\n",
    "        b = int(b)\n",
    "        print(\"Tổng = %i + %i = %i\" % (a, b, a+b))\n",
    "        print(\"Hiệu = %i - %i = %i\" % (a, b, a-b))\n",
    "        print(\"Tích = %i * %i = %i\" % (a, b, a*b))"
   ]
  },
  {
   "cell_type": "code",
   "execution_count": 64,
   "metadata": {},
   "outputs": [
    {
     "name": "stdout",
     "output_type": "stream",
     "text": [
      "Nhập b: 3\n",
      "Thương = 12 / 3 = 4.0\n",
      "Tổng = 12 + 3 = 15\n",
      "Hiệu = 12 - 3 = 9\n",
      "Tích = 12 * 3 = 36\n"
     ]
    }
   ],
   "source": [
    "class LoiChiaChoKhong(ZeroDivisionError):\n",
    "    def __init__(self, _thong_bao):\n",
    "        self.thong_bao = _thong_bao\n",
    "        \n",
    "class LoiGiaTri(ValueError):\n",
    "    def __init__(self, _thong_bao):\n",
    "        self.thong_bao = _thong_bao\n",
    "        \n",
    "        \n",
    "try:\n",
    "    a = 12\n",
    "    b = input(\"Nhập b: \").strip()\n",
    "    \n",
    "    # Kiểm tra lỗi có thể xảy ra\n",
    "    if b == \"0\":\n",
    "        raise LoiChiaChoKhong(\"Lỗi chia cho 0. Vui lòng nhập số khác 0.\")\n",
    "    elif b.isdigit() == False:\n",
    "        raise LoiGiaTri(\"Vui lòng nhập số (khác 0)\")\n",
    "        \n",
    "    # Nếu không có lỗi nào trong các lỗi trên thì chuyển biến b về kiểu số và thực hiện tính toán\n",
    "    b = int(b)\n",
    "    thuong = a / b\n",
    "except LoiChiaChoKhong as loi_1:\n",
    "    print(\"Error:\", loi_1)\n",
    "except LoiGiaTri as loi_2:\n",
    "    print(\"Error:\", loi_2)\n",
    "except Exception as ex_chung:  # Luôn đứng sau các except khác\n",
    "    print(\"Nhãn lỗi:\", type(ex_chung).__name__)\n",
    "    print(\"Mô tả lỗi:\", ex_chung)\n",
    "else:\n",
    "    print(\"Thương = %i / %i = %.1f\" % (a, b, a/b))\n",
    "finally:\n",
    "    if str(b).isdigit() == False: # Nếu biến b nhập vào không phải là số thì KHÔNG thực hiện tính toán được => pass\n",
    "        pass\n",
    "    else:  # Nếu biến b là số thì thực hiện tính toán bình thường\n",
    "        b = int(b)\n",
    "        print(\"Tổng = %i + %i = %i\" % (a, b, a+b))\n",
    "        print(\"Hiệu = %i - %i = %i\" % (a, b, a-b))\n",
    "        print(\"Tích = %i * %i = %i\" % (a, b, a*b))"
   ]
  },
  {
   "cell_type": "code",
   "execution_count": null,
   "metadata": {},
   "outputs": [],
   "source": []
  }
 ],
 "metadata": {
  "kernelspec": {
   "display_name": "Python 3",
   "language": "python",
   "name": "python3"
  },
  "language_info": {
   "codemirror_mode": {
    "name": "ipython",
    "version": 3
   },
   "file_extension": ".py",
   "mimetype": "text/x-python",
   "name": "python",
   "nbconvert_exporter": "python",
   "pygments_lexer": "ipython3",
   "version": "3.6.8"
  }
 },
 "nbformat": 4,
 "nbformat_minor": 2
}
