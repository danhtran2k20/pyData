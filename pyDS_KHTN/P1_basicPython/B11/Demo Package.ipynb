{
 "cells": [
  {
   "cell_type": "code",
   "execution_count": 2,
   "metadata": {},
   "outputs": [
    {
     "name": "stdout",
     "output_type": "stream",
     "text": [
      "Đây là hàm trong module cha 1\n"
     ]
    }
   ],
   "source": [
    "import thu_muc_cha.module_cha as md_cha\n",
    "md_cha.func_module_cha_1()"
   ]
  },
  {
   "cell_type": "code",
   "execution_count": 3,
   "metadata": {},
   "outputs": [
    {
     "name": "stdout",
     "output_type": "stream",
     "text": [
      "Đây là hàm trong module cha 2\n"
     ]
    }
   ],
   "source": [
    "from thu_muc_cha.module_cha import func_module_cha_2\n",
    "func_module_cha_2()"
   ]
  },
  {
   "cell_type": "code",
   "execution_count": 4,
   "metadata": {},
   "outputs": [
    {
     "name": "stdout",
     "output_type": "stream",
     "text": [
      "Đây là hàm trong module cha 3\n"
     ]
    }
   ],
   "source": [
    "from thu_muc_cha import module_cha\n",
    "module_cha.func_module_cha_3()"
   ]
  },
  {
   "cell_type": "code",
   "execution_count": 5,
   "metadata": {},
   "outputs": [
    {
     "name": "stdout",
     "output_type": "stream",
     "text": [
      "Đây là hàm trong module con 1\n"
     ]
    }
   ],
   "source": [
    "import thu_muc_cha.thu_muc_con.module_con as md_con\n",
    "md_con.func_module_con_1()"
   ]
  },
  {
   "cell_type": "code",
   "execution_count": 6,
   "metadata": {},
   "outputs": [
    {
     "name": "stdout",
     "output_type": "stream",
     "text": [
      "Đây là hàm trong module cha 2\n"
     ]
    }
   ],
   "source": [
    "from thu_muc_cha.thu_muc_con.module_con import func_module_con_2\n",
    "func_module_cha_2()"
   ]
  },
  {
   "cell_type": "code",
   "execution_count": 7,
   "metadata": {},
   "outputs": [
    {
     "name": "stdout",
     "output_type": "stream",
     "text": [
      "Đây là hàm trong module con 3\n"
     ]
    }
   ],
   "source": [
    "from thu_muc_cha.thu_muc_con import module_con\n",
    "module_con.func_module_con_3()"
   ]
  },
  {
   "cell_type": "code",
   "execution_count": null,
   "metadata": {},
   "outputs": [],
   "source": [
    "# https://docs.python.org/3.6/library/"
   ]
  }
 ],
 "metadata": {
  "kernelspec": {
   "display_name": "Python 3",
   "language": "python",
   "name": "python3"
  },
  "language_info": {
   "codemirror_mode": {
    "name": "ipython",
    "version": 3
   },
   "file_extension": ".py",
   "mimetype": "text/x-python",
   "name": "python",
   "nbconvert_exporter": "python",
   "pygments_lexer": "ipython3",
   "version": "3.6.8"
  }
 },
 "nbformat": 4,
 "nbformat_minor": 2
}
