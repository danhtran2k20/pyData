{
 "cells": [
  {
   "cell_type": "code",
   "execution_count": 2,
   "metadata": {},
   "outputs": [],
   "source": [
    "ho_ten = \"Nguyễn Văn A\"  # str\n",
    "tuoi = 15                # int\n",
    "dtb = 9.5342466          # float"
   ]
  },
  {
   "cell_type": "code",
   "execution_count": 18,
   "metadata": {},
   "outputs": [
    {
     "name": "stdout",
     "output_type": "stream",
     "text": [
      "Tên tôi là: Nguyễn Văn A\n",
      "Tuổi: 15\n",
      "Điểm trung bình: 9.5\n"
     ]
    }
   ],
   "source": [
    "# ví dụ 1\n",
    "print(\"Tên tôi là: %s\" % ho_ten)\n",
    "print(\"Tuổi: %i\" % tuoi)\n",
    "print(\"Điểm trung bình: %.1f\" % dtb)"
   ]
  },
  {
   "cell_type": "code",
   "execution_count": 20,
   "metadata": {},
   "outputs": [
    {
     "name": "stdout",
     "output_type": "stream",
     "text": [
      "Tên tôi là: Nguyễn Văn A \n",
      "Tuổi: 15 \n",
      "Điểm trung bình: 9.5\n"
     ]
    }
   ],
   "source": [
    "# Ví dụ 2\n",
    "print(\"Tên tôi là: %s \\nTuổi: %i \\nĐiểm trung bình: %.1f\" % (ho_ten, tuoi, dtb))"
   ]
  },
  {
   "cell_type": "code",
   "execution_count": 21,
   "metadata": {},
   "outputs": [
    {
     "name": "stdout",
     "output_type": "stream",
     "text": [
      "Tên tôi là: Nguyễn Văn A\n",
      "Tuổi: 15\n",
      "Điểm trung bình: 9.5\n"
     ]
    }
   ],
   "source": [
    "# Ví dụ 3\n",
    "print(\"Tên tôi là: \" + ho_ten + \"\\nTuổi: \" + str(tuoi) + \"\\nĐiểm trung bình: \" + str(round(dtb, 1)))"
   ]
  },
  {
   "cell_type": "code",
   "execution_count": 22,
   "metadata": {},
   "outputs": [
    {
     "name": "stdout",
     "output_type": "stream",
     "text": [
      "Tên tôi là: Nguyễn Văn A \n",
      "Tuổi: 15 \n",
      "Điểm trung bình: 9.5\n"
     ]
    }
   ],
   "source": [
    "# Ví dụ 4\n",
    "print(\"Tên tôi là:\", ho_ten, \"\\nTuổi:\", tuoi, \"\\nĐiểm trung bình:\", round(dtb, 1))"
   ]
  },
  {
   "cell_type": "code",
   "execution_count": 23,
   "metadata": {},
   "outputs": [
    {
     "name": "stdout",
     "output_type": "stream",
     "text": [
      "Tên tôi là: Nguyễn Văn A \n",
      "Tuổi: 15 \n",
      "Điểm trung bình: 9.5\n"
     ]
    }
   ],
   "source": [
    "# Ví dụ 5\n",
    "print(\"Tên tôi là: {} \\nTuổi: {} \\nĐiểm trung bình: {}\".format(ho_ten, tuoi, round(dtb, 1)))"
   ]
  },
  {
   "cell_type": "code",
   "execution_count": 24,
   "metadata": {},
   "outputs": [
    {
     "name": "stdout",
     "output_type": "stream",
     "text": [
      "Tên tôi là: Nguyễn Văn A \n",
      "Tuổi: 15 \n",
      "Điểm trung bình: 9.5\n"
     ]
    }
   ],
   "source": [
    "# Ví dụ 6\n",
    "print(f\"Tên tôi là: {ho_ten} \\nTuổi: {tuoi} \\nĐiểm trung bình: {round(dtb, 1)}\")"
   ]
  },
  {
   "cell_type": "code",
   "execution_count": null,
   "metadata": {},
   "outputs": [],
   "source": [
    "round(dtb, 1)"
   ]
  }
 ],
 "metadata": {
  "kernelspec": {
   "display_name": "Python 3",
   "language": "python",
   "name": "python3"
  },
  "language_info": {
   "codemirror_mode": {
    "name": "ipython",
    "version": 3
   },
   "file_extension": ".py",
   "mimetype": "text/x-python",
   "name": "python",
   "nbconvert_exporter": "python",
   "pygments_lexer": "ipython3",
   "version": "3.6.8"
  }
 },
 "nbformat": 4,
 "nbformat_minor": 2
}
