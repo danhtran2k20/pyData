{
 "cells": [
  {
   "cell_type": "code",
   "execution_count": 1,
   "metadata": {},
   "outputs": [],
   "source": [
    "# Biến có thể đại diện cho kiểu chuỗi, kiểu số (số nguyên, số thực)\n",
    "hoten = \"Nguyễn Văn A\"\n",
    "tuoi = 15\n",
    "dtb = 9.5342466\n",
    "\n",
    "# hoten_2 = \"Nguyễn Thị B\""
   ]
  },
  {
   "cell_type": "code",
   "execution_count": 2,
   "metadata": {
    "scrolled": true
   },
   "outputs": [
    {
     "name": "stdout",
     "output_type": "stream",
     "text": [
      "Nguyễn Văn A\n",
      "15\n",
      "9.5342466\n"
     ]
    }
   ],
   "source": [
    "# Chuỗi (String)  =>  str\n",
    "# Số nguyên (Integer)  =>  int\n",
    "# Số thực (Floating Point)  =>  float\n",
    "\n",
    "print(hoten)\n",
    "print(tuoi)\n",
    "print(dtb)"
   ]
  },
  {
   "cell_type": "code",
   "execution_count": 6,
   "metadata": {},
   "outputs": [
    {
     "name": "stdout",
     "output_type": "stream",
     "text": [
      "<class 'str'>\n",
      "<class 'int'>\n",
      "<class 'float'>\n"
     ]
    }
   ],
   "source": [
    "print(type(hoten))\n",
    "print(type(tuoi))\n",
    "print(type(dtb))"
   ]
  },
  {
   "cell_type": "code",
   "execution_count": 9,
   "metadata": {},
   "outputs": [
    {
     "name": "stdout",
     "output_type": "stream",
     "text": [
      "10\n"
     ]
    }
   ],
   "source": [
    "# ten_bien = gia_tri\n",
    "# ten_bien_1, ten_bien_2, ten_bien_3,... = gia_tri_1, gia_tri_2, gia_tri_3,...\n",
    "a, b, c = 10, 15, 20\n",
    "print(a)"
   ]
  },
  {
   "cell_type": "code",
   "execution_count": 12,
   "metadata": {},
   "outputs": [
    {
     "name": "stdout",
     "output_type": "stream",
     "text": [
      "(3+4j)\n",
      "3.0\n",
      "4.0\n"
     ]
    }
   ],
   "source": [
    "# Số phức\n",
    "v1 = 3 + 4j\n",
    "print(v1)\n",
    "\n",
    "print(v1.real)\n",
    "print(v1.imag)"
   ]
  },
  {
   "cell_type": "code",
   "execution_count": 15,
   "metadata": {},
   "outputs": [
    {
     "name": "stdout",
     "output_type": "stream",
     "text": [
      "0o144\n",
      "0x64\n"
     ]
    }
   ],
   "source": [
    "a = 100\n",
    "oc = oct(a)  # octal\n",
    "print(oc)\n",
    "\n",
    "he = hex(a)  # hexa\n",
    "print(he)"
   ]
  },
  {
   "cell_type": "code",
   "execution_count": 18,
   "metadata": {},
   "outputs": [
    {
     "name": "stdout",
     "output_type": "stream",
     "text": [
      "True\n",
      "False\n",
      "True\n"
     ]
    }
   ],
   "source": [
    "# Kiểu luận lý (Boolean)\n",
    "kq = True\n",
    "print(kq)\n",
    "\n",
    "kq_2 = not kq\n",
    "print(kq_2)\n",
    "\n",
    "kq_3 = not kq_2\n",
    "print(kq_3)"
   ]
  },
  {
   "cell_type": "code",
   "execution_count": 24,
   "metadata": {},
   "outputs": [
    {
     "name": "stdout",
     "output_type": "stream",
     "text": [
      "Tên tôi là: \"ABC\"\n",
      "TPHCM\n"
     ]
    }
   ],
   "source": [
    "ho_ten = 'Tên tôi là: \"ABC\"'\n",
    "dia_chi = 'TPHCM'\n",
    "print(ho_ten)\n",
    "print(dia_chi)"
   ]
  },
  {
   "cell_type": "code",
   "execution_count": 40,
   "metadata": {
    "scrolled": true
   },
   "outputs": [
    {
     "name": "stdout",
     "output_type": "stream",
     "text": [
      "HELLO PYTHON\n",
      "12\n",
      "H\n",
      "E\n",
      "N\n",
      "LLO \n",
      "O PYTHON\n"
     ]
    }
   ],
   "source": [
    "chuoi = \"HELLO PYTHON\"\n",
    "print(chuoi)\n",
    "print(len(chuoi))\n",
    "print(chuoi[0])\n",
    "print(chuoi[1])\n",
    "print(chuoi[len(chuoi) - 1])\n",
    "print(chuoi[2:6])\n",
    "print(chuoi[4:])"
   ]
  },
  {
   "cell_type": "code",
   "execution_count": 44,
   "metadata": {},
   "outputs": [
    {
     "name": "stdout",
     "output_type": "stream",
     "text": [
      "Trung Tâm Tin Học\n"
     ]
    }
   ],
   "source": [
    "chuoi_1 = \"Trung Tâm\"\n",
    "chuoi_2 = \"Tin Học\"\n",
    "chuoi = chuoi_1 + \" \" + chuoi_2\n",
    "print(chuoi)"
   ]
  },
  {
   "cell_type": "code",
   "execution_count": 47,
   "metadata": {
    "scrolled": true
   },
   "outputs": [
    {
     "name": "stdout",
     "output_type": "stream",
     "text": [
      "1110\n"
     ]
    }
   ],
   "source": [
    "chuoi_3 = \"11\"\n",
    "chuoi_4 = \"10\"\n",
    "print(chuoi_3 + chuoi_4)"
   ]
  },
  {
   "cell_type": "code",
   "execution_count": 49,
   "metadata": {},
   "outputs": [
    {
     "name": "stdout",
     "output_type": "stream",
     "text": [
      "********************\n",
      "abcabcabcabcabcabcabcabcabcabc\n"
     ]
    }
   ],
   "source": [
    "print(\"*\" * 20)\n",
    "print(\"abc\" * 10)"
   ]
  },
  {
   "cell_type": "code",
   "execution_count": null,
   "metadata": {},
   "outputs": [],
   "source": []
  }
 ],
 "metadata": {
  "kernelspec": {
   "display_name": "Python 3",
   "language": "python",
   "name": "python3"
  },
  "language_info": {
   "codemirror_mode": {
    "name": "ipython",
    "version": 3
   },
   "file_extension": ".py",
   "mimetype": "text/x-python",
   "name": "python",
   "nbconvert_exporter": "python",
   "pygments_lexer": "ipython3",
   "version": "3.6.8"
  }
 },
 "nbformat": 4,
 "nbformat_minor": 2
}
