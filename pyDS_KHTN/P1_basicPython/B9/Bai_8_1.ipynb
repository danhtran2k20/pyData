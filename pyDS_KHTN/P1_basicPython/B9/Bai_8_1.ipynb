{
 "cells": [
  {
   "cell_type": "code",
   "execution_count": 3,
   "metadata": {},
   "outputs": [
    {
     "name": "stdout",
     "output_type": "stream",
     "text": [
      "Nhập năm: 2020\n",
      "Năm 2020 có năm âm lịch là năm Canh Tý\n"
     ]
    }
   ],
   "source": [
    "# Xây dựng hàm\n",
    "def tinh_can(nam, danh_sach):\n",
    "    can = nam % 10\n",
    "    return danh_sach[can]\n",
    "\n",
    "\n",
    "def tinh_chi(nam, danh_sach):\n",
    "    chi = nam % 12\n",
    "    return danh_sach[chi]\n",
    "\n",
    "\n",
    "# Gọi hàm\n",
    "list_can = [\"Canh\", \"Tân\", \"Nhâm\", \"Quý\", \"Giáp\", \"Ất\", \"Bính\", \"Đinh\", \"Mậu\", \"Kỷ\"]\n",
    "list_chi = [\"Thân\", \"Dậu\", \"Tuất\", \"Hợi\", \"Tý\", \"Sửu\", \"Dần\", \"Mão\", \"Thìn\", \"Tỵ\", \"Ngọ\", \"mùi\"]\n",
    "nam = int(input(\"Nhập năm: \"))\n",
    "can = tinh_can(nam, list_can)\n",
    "chi = tinh_chi(nam, list_chi)\n",
    "print(\"Năm\", nam, \"có năm âm lịch là năm\", can, chi)"
   ]
  },
  {
   "cell_type": "code",
   "execution_count": null,
   "metadata": {},
   "outputs": [],
   "source": []
  }
 ],
 "metadata": {
  "kernelspec": {
   "display_name": "Python 3",
   "language": "python",
   "name": "python3"
  },
  "language_info": {
   "codemirror_mode": {
    "name": "ipython",
    "version": 3
   },
   "file_extension": ".py",
   "mimetype": "text/x-python",
   "name": "python",
   "nbconvert_exporter": "python",
   "pygments_lexer": "ipython3",
   "version": "3.6.8"
  }
 },
 "nbformat": 4,
 "nbformat_minor": 2
}
