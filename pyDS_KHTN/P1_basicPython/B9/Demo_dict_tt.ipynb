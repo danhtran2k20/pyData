{
 "cells": [
  {
   "cell_type": "code",
   "execution_count": 10,
   "metadata": {},
   "outputs": [
    {
     "name": "stdout",
     "output_type": "stream",
     "text": [
      "Bạn đoán từ 'mountain' có nghĩa là gì?núi   \n",
      "Bạn đã đoán đúng.\n"
     ]
    }
   ],
   "source": [
    "# Hiển thị một từ tiếng anh ngẫu nhiên trong dictionary tu_dien\n",
    "# Cho phép người dùng nhập vào nghĩa tiếng việt\n",
    "import random\n",
    "tu_dien = {\"man\": \"đàn ông\", \"woman\": \"đàn bà\",\n",
    "           \"house\": \"nhà\", \"sun\": \"mặt trời\", \"moon\": \"mặt trăng\",\n",
    "           \"earth\": \"trái đất\", \"mountain\": \"núi\"}\n",
    "\n",
    "# Lấy danh sách key (từ tiếng anh)\n",
    "ds_key = list(tu_dien.keys())\n",
    "\n",
    "# Tìm index (ngẫu nhiên)\n",
    "index_ngau_nhien = random.randrange(len(ds_key))\n",
    "\n",
    "# Hiển thị từ tiếng anh ngẫu nhiên\n",
    "tu_tieng_anh = ds_key[index_ngau_nhien]\n",
    "\n",
    "# Hiển thị câu hỏi\n",
    "nhap_tu = input(\"Bạn đoán từ '\" + tu_tieng_anh + \"' có nghĩa là gì? \").strip()\n",
    "\n",
    "# Từ tiếng việt\n",
    "tu_tieng_viet = tu_dien[tu_tieng_anh]\n",
    "\n",
    "if nhap_tu == tu_tieng_viet:\n",
    "    print(\"Bạn đã đoán đúng.\")\n",
    "else:\n",
    "    print(\"Bạn đã đoán sai. Nghĩa đúng phải là: %s\" % tu_tieng_viet)"
   ]
  },
  {
   "cell_type": "code",
   "execution_count": null,
   "metadata": {},
   "outputs": [],
   "source": []
  }
 ],
 "metadata": {
  "kernelspec": {
   "display_name": "Python 3",
   "language": "python",
   "name": "python3"
  },
  "language_info": {
   "codemirror_mode": {
    "name": "ipython",
    "version": 3
   },
   "file_extension": ".py",
   "mimetype": "text/x-python",
   "name": "python",
   "nbconvert_exporter": "python",
   "pygments_lexer": "ipython3",
   "version": "3.6.8"
  }
 },
 "nbformat": 4,
 "nbformat_minor": 2
}
