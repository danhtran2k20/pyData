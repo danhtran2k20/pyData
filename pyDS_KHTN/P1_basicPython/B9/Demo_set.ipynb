{
 "cells": [
  {
   "cell_type": "code",
   "execution_count": 7,
   "metadata": {},
   "outputs": [
    {
     "name": "stdout",
     "output_type": "stream",
     "text": [
      "{1, 2, 3, 5, 8, 9}\n",
      "<class 'set'>\n"
     ]
    }
   ],
   "source": [
    "set_nums = {5, 2, 8, 3, 9, 1}\n",
    "print(set_nums)\n",
    "print(type(set_nums))"
   ]
  },
  {
   "cell_type": "code",
   "execution_count": 9,
   "metadata": {},
   "outputs": [
    {
     "name": "stdout",
     "output_type": "stream",
     "text": [
      "{'one', 'two', 'four', 'five', 'three'}\n",
      "<class 'set'>\n"
     ]
    }
   ],
   "source": [
    "set_strings = {\"one\", \"two\", \"three\", \"four\", \"five\"}\n",
    "print(set_strings)\n",
    "print(type(set_strings))\n",
    "\n",
    "# {'one', 'two', 'four', 'five', 'three'}\n",
    "# {'one', 'two', 'four', 'five', 'three'}\n",
    "# {'one', 'two', 'four', 'five', 'three'}"
   ]
  },
  {
   "cell_type": "code",
   "execution_count": 10,
   "metadata": {},
   "outputs": [
    {
     "name": "stdout",
     "output_type": "stream",
     "text": [
      "{'one', 'two', 'four', 'five', 'three'}\n",
      "<class 'set'>\n"
     ]
    }
   ],
   "source": [
    "set_strings = {\"one\", \"two\", \"three\", \"four\", \"five\", \"two\"}\n",
    "print(set_strings)\n",
    "print(type(set_strings))"
   ]
  },
  {
   "cell_type": "code",
   "execution_count": 11,
   "metadata": {},
   "outputs": [],
   "source": [
    "set_nums = set()"
   ]
  },
  {
   "cell_type": "code",
   "execution_count": 14,
   "metadata": {
    "scrolled": true
   },
   "outputs": [
    {
     "name": "stdout",
     "output_type": "stream",
     "text": [
      "set()\n",
      "{'duck', 'fish', 'dog', 'cat'}\n"
     ]
    }
   ],
   "source": [
    "set_animals = set()\n",
    "print(set_animals)\n",
    "set_animals.add(\"cat\")\n",
    "set_animals.add(\"duck\")\n",
    "set_animals.add(\"fish\")\n",
    "set_animals.add(\"dog\")\n",
    "print(set_animals)\n",
    "\n",
    "# {'duck', 'fish', 'dog', 'cat'}"
   ]
  },
  {
   "cell_type": "code",
   "execution_count": 19,
   "metadata": {},
   "outputs": [
    {
     "name": "stdout",
     "output_type": "stream",
     "text": [
      "{'duck', 'fish', 'dog', 'cat'}\n",
      "{'duck', 'fish', 'cat'}\n"
     ]
    }
   ],
   "source": [
    "set_string = {'duck', 'fish', 'dog', 'cat'}\n",
    "print(set_string)\n",
    "\n",
    "# set_string.discard('abc')\n",
    "set_string.remove('dog')\n",
    "\n",
    "print(set_string)"
   ]
  },
  {
   "cell_type": "code",
   "execution_count": 21,
   "metadata": {},
   "outputs": [
    {
     "name": "stdout",
     "output_type": "stream",
     "text": [
      "{'duck', 'fish', 'dog', 'cat'}\n",
      "['fish', 'duck', 'dog', 'cat']\n"
     ]
    }
   ],
   "source": [
    "set_string = {'duck', 'fish', 'dog', 'cat'}\n",
    "print(set_string)\n",
    "\n",
    "print(sorted(set_string, reverse=True))"
   ]
  },
  {
   "cell_type": "code",
   "execution_count": null,
   "metadata": {},
   "outputs": [],
   "source": []
  }
 ],
 "metadata": {
  "kernelspec": {
   "display_name": "Python 3",
   "language": "python",
   "name": "python3"
  },
  "language_info": {
   "codemirror_mode": {
    "name": "ipython",
    "version": 3
   },
   "file_extension": ".py",
   "mimetype": "text/x-python",
   "name": "python",
   "nbconvert_exporter": "python",
   "pygments_lexer": "ipython3",
   "version": "3.6.8"
  }
 },
 "nbformat": 4,
 "nbformat_minor": 2
}
