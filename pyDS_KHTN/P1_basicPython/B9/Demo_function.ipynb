{
 "cells": [
  {
   "cell_type": "code",
   "execution_count": 2,
   "metadata": {},
   "outputs": [
    {
     "name": "stdout",
     "output_type": "stream",
     "text": [
      "Điểm trung bình hs1: 8.666666666666666\n",
      "Điểm trung bình hs2: 7.666666666666667\n"
     ]
    }
   ],
   "source": [
    "hk1 = 10\n",
    "hk2 = 8\n",
    "\n",
    "dtb = (hk1 + hk2 * 2) / 3\n",
    "print(\"Điểm trung bình hs1:\", dtb)\n",
    "\n",
    "\n",
    "\n",
    "hk1 = 7\n",
    "hk2 = 8\n",
    "\n",
    "dtb = (hk1 + hk2 * 2) / 3\n",
    "print(\"Điểm trung bình hs2:\", dtb)"
   ]
  },
  {
   "cell_type": "code",
   "execution_count": 12,
   "metadata": {},
   "outputs": [
    {
     "name": "stdout",
     "output_type": "stream",
     "text": [
      "Điểm trung bình: 7.333333333333333\n",
      "Điểm trung bình: 8.333333333333334\n"
     ]
    }
   ],
   "source": [
    "# Xây dụng hàm\n",
    "def tinh_diem_tb(hk_1, hk_2):\n",
    "    dtb = (hk_1 + hk_2 * 2) / 3\n",
    "    print(\"Điểm trung bình:\", dtb)\n",
    "\n",
    "\n",
    "# Gọi hàm\n",
    "tinh_diem_tb(6, 8)\n",
    "tinh_diem_tb(9, 8)"
   ]
  },
  {
   "cell_type": "code",
   "execution_count": 10,
   "metadata": {},
   "outputs": [
    {
     "name": "stdout",
     "output_type": "stream",
     "text": [
      "Điểm trung bình: 7.333333333333333\n"
     ]
    }
   ],
   "source": [
    "# Xây dụng hàm\n",
    "def tinh_diem_tb(hk_1, hk_2):\n",
    "    dtb = (hk_1 + hk_2 * 2) / 3\n",
    "    return dtb\n",
    "\n",
    "\n",
    "# Gọi hàm\n",
    "print(\"Điểm trung bình:\", tinh_diem_tb(6, 8))\n",
    "# tinh_diem_tb(9, 8)"
   ]
  },
  {
   "cell_type": "code",
   "execution_count": 13,
   "metadata": {},
   "outputs": [
    {
     "name": "stdout",
     "output_type": "stream",
     "text": [
      "Chỉ số BMI: 20.761245674740486\n"
     ]
    }
   ],
   "source": [
    "def tinh_bmi(can_nang, chieu_cao):\n",
    "    bmi = can_nang / chieu_cao ** 2\n",
    "    print(\"Chỉ số BMI:\", bmi)\n",
    "    return\n",
    "\n",
    "# Gọi hàm\n",
    "tinh_bmi(60, 1.7)"
   ]
  },
  {
   "cell_type": "code",
   "execution_count": 15,
   "metadata": {},
   "outputs": [
    {
     "name": "stdout",
     "output_type": "stream",
     "text": [
      "Chỉ số BMI: 20.761245674740486\n"
     ]
    }
   ],
   "source": [
    "def tinh_bmi(can_nang, chieu_cao):\n",
    "    bmi = can_nang / chieu_cao ** 2\n",
    "    return bmi\n",
    "\n",
    "# Gọi hàm\n",
    "print(\"Chỉ số BMI:\", tinh_bmi(60, 1.7))"
   ]
  },
  {
   "cell_type": "code",
   "execution_count": 18,
   "metadata": {},
   "outputs": [
    {
     "name": "stdout",
     "output_type": "stream",
     "text": [
      "Phương trình có 1 nghiệm x = -2.0\n",
      "Phương trình có vô số nghiệm.\n",
      "Phương trình vô nghiệm.\n"
     ]
    }
   ],
   "source": [
    "# Xây dựng hàm tính phương trình bậc 1\n",
    "# ax + b = 0\n",
    "\n",
    "# Xây dựng hàm\n",
    "def tinh_phuong_trinh_bac_1(a, b):\n",
    "    if a != 0:\n",
    "        x = -b / a\n",
    "        print(\"Phương trình có 1 nghiệm x =\", x)\n",
    "    else:\n",
    "        if b == 0:\n",
    "            print(\"Phương trình có vô số nghiệm.\")\n",
    "        else:\n",
    "            print(\"Phương trình vô nghiệm.\")\n",
    "            \n",
    "# Gọi hàm\n",
    "tinh_phuong_trinh_bac_1(1, 2)\n",
    "tinh_phuong_trinh_bac_1(0, 0)\n",
    "tinh_phuong_trinh_bac_1(0, 1)"
   ]
  },
  {
   "cell_type": "code",
   "execution_count": 20,
   "metadata": {},
   "outputs": [
    {
     "name": "stdout",
     "output_type": "stream",
     "text": [
      "Phương trình có 1 nghiệm x =-2.0\n",
      "Phương trình có vô số nghiệm.\n",
      "Phương trình vô nghiệm.\n"
     ]
    }
   ],
   "source": [
    "# Xây dựng hàm tính phương trình bậc 1\n",
    "# ax + b = 0\n",
    "\n",
    "# Xây dựng hàm\n",
    "def tinh_phuong_trinh_bac_1(a, b):\n",
    "    if a != 0:\n",
    "        x = -b / a\n",
    "        chuoi_kq = \"Phương trình có 1 nghiệm x =\" + str(x)\n",
    "    else:\n",
    "        if b == 0:\n",
    "            chuoi_kq = \"Phương trình có vô số nghiệm.\"\n",
    "        else:\n",
    "            chuoi_kq = \"Phương trình vô nghiệm.\"\n",
    "    return chuoi_kq\n",
    "            \n",
    "# Gọi hàm\n",
    "print(tinh_phuong_trinh_bac_1(1, 2))\n",
    "print(tinh_phuong_trinh_bac_1(0, 0))\n",
    "print(tinh_phuong_trinh_bac_1(0, 1))"
   ]
  },
  {
   "cell_type": "code",
   "execution_count": 6,
   "metadata": {},
   "outputs": [
    {
     "name": "stdout",
     "output_type": "stream",
     "text": [
      "Điểm trung bình: 7.666666666666667\n",
      "Kết quả: Đậu\n"
     ]
    }
   ],
   "source": [
    "# Xây dụng hàm\n",
    "# dtb >= 5  =>  đậu\n",
    "# dtb < 5  =>  rớt\n",
    "\n",
    "def tinh_diem_tb_va_xuat_kq(hk_1, hk_2):\n",
    "    dtb = (hk_1 + hk_2 * 2) / 3\n",
    "    \n",
    "    if dtb >= 5:\n",
    "        chuoi_kq = \"Đậu\"\n",
    "    else:\n",
    "        chuoi_kq = \"Rớt\"\n",
    "    return dtb, chuoi_kq  # tuple\n",
    "\n",
    "# Gọi hàm\n",
    "# kq = tinh_diem_tb_va_xuat_kq(6, 8)\n",
    "# print(\"Điểm trung bình:\", kq[0])\n",
    "# print(\"Kết quả:\", kq[1])\n",
    "\n",
    "\n",
    "a, b = tinh_diem_tb_va_xuat_kq(7, 8)   # a, b = (7.666666666666667, 'Đậu')\n",
    "print(\"Điểm trung bình:\", a)\n",
    "print(\"Kết quả:\", b)"
   ]
  },
  {
   "cell_type": "code",
   "execution_count": null,
   "metadata": {},
   "outputs": [],
   "source": []
  }
 ],
 "metadata": {
  "kernelspec": {
   "display_name": "Python 3",
   "language": "python",
   "name": "python3"
  },
  "language_info": {
   "codemirror_mode": {
    "name": "ipython",
    "version": 3
   },
   "file_extension": ".py",
   "mimetype": "text/x-python",
   "name": "python",
   "nbconvert_exporter": "python",
   "pygments_lexer": "ipython3",
   "version": "3.6.8"
  }
 },
 "nbformat": 4,
 "nbformat_minor": 2
}
