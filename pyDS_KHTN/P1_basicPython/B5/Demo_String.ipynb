{
 "cells": [
  {
   "cell_type": "code",
   "execution_count": 1,
   "metadata": {},
   "outputs": [
    {
     "name": "stdout",
     "output_type": "stream",
     "text": [
      "Trung tâm tin học\n"
     ]
    }
   ],
   "source": [
    "chuoi = \"trung tâm tin học\"\n",
    "print(chuoi.capitalize())"
   ]
  },
  {
   "cell_type": "code",
   "execution_count": 2,
   "metadata": {},
   "outputs": [
    {
     "name": "stdout",
     "output_type": "stream",
     "text": [
      "Trung tâm tin học\n"
     ]
    }
   ],
   "source": [
    "chuoi = \"trung Tâm tin học\"\n",
    "print(chuoi.capitalize())"
   ]
  },
  {
   "cell_type": "code",
   "execution_count": 3,
   "metadata": {},
   "outputs": [
    {
     "name": "stdout",
     "output_type": "stream",
     "text": [
      "TRUNG TÂM TIN HỌC\n"
     ]
    }
   ],
   "source": [
    "chuoi = \"trung tâm tin học\"\n",
    "print(chuoi.upper())"
   ]
  },
  {
   "cell_type": "code",
   "execution_count": 4,
   "metadata": {},
   "outputs": [
    {
     "name": "stdout",
     "output_type": "stream",
     "text": [
      "trung tâm tin học\n"
     ]
    }
   ],
   "source": [
    "chuoi = \"TRUNG TÂM TIN HỌC\"\n",
    "print(chuoi.lower())"
   ]
  },
  {
   "cell_type": "code",
   "execution_count": 8,
   "metadata": {},
   "outputs": [
    {
     "name": "stdout",
     "output_type": "stream",
     "text": [
      "17\n",
      "------TRUNG TÂM TIN HỌC-------\n",
      "TRUNG TÂM TIN HỌC-------------\n",
      "-------------TRUNG TÂM TIN HỌC\n"
     ]
    }
   ],
   "source": [
    "chuoi = \"TRUNG TÂM TIN HỌC\"\n",
    "print(len(chuoi))\n",
    "print(chuoi.center(30, '-'))\n",
    "print(chuoi.ljust(30, '-'))\n",
    "print(chuoi.rjust(30, '-'))"
   ]
  },
  {
   "cell_type": "code",
   "execution_count": 9,
   "metadata": {},
   "outputs": [
    {
     "name": "stdout",
     "output_type": "stream",
     "text": [
      "17\n",
      "TRUNG TÂM TIN HỌC\n"
     ]
    }
   ],
   "source": [
    "chuoi = \"TRUNG TÂM TIN HỌC\"\n",
    "print(len(chuoi))\n",
    "print(chuoi.center(10, '-'))"
   ]
  },
  {
   "cell_type": "code",
   "execution_count": 12,
   "metadata": {},
   "outputs": [
    {
     "name": "stdout",
     "output_type": "stream",
     "text": [
      "1\n"
     ]
    }
   ],
   "source": [
    "chuoi = \"TRUNG TÂM TIN HỌC\"\n",
    "print(chuoi.count('TIN'))"
   ]
  },
  {
   "cell_type": "code",
   "execution_count": 16,
   "metadata": {},
   "outputs": [
    {
     "name": "stdout",
     "output_type": "stream",
     "text": [
      "Nhập chuỗi cần tìm: Z\n",
      "-1\n",
      "Không tìm thấy chuỗi 'Z'\n"
     ]
    }
   ],
   "source": [
    "chuoi = \"TRUNG TÂM TIN HỌC\"\n",
    "tim = input(\"Nhập chuỗi cần tìm: \")\n",
    "kq = chuoi.find(tim)\n",
    "print(kq)\n",
    "if kq == -1:\n",
    "    print(\"Không tìm thấy chuỗi '\" + tim + \"'\")\n",
    "else:\n",
    "    print(\"Tìm thấy chuỗi '\" + tim + \"' tại vị trí \" + str(kq))"
   ]
  },
  {
   "cell_type": "code",
   "execution_count": 21,
   "metadata": {
    "scrolled": true
   },
   "outputs": [
    {
     "name": "stdout",
     "output_type": "stream",
     "text": [
      "a     Hello Python    \n",
      "Hello Python\n"
     ]
    }
   ],
   "source": [
    "chuoi = \"a     Hello Python    \"\n",
    "print(chuoi)\n",
    "# print(chuoi.strip())\n",
    "print(chuoi.strip('a').strip())"
   ]
  },
  {
   "cell_type": "code",
   "execution_count": 22,
   "metadata": {},
   "outputs": [
    {
     "name": "stdout",
     "output_type": "stream",
     "text": [
      "['TRUNG', 'TÂM', 'TIN', 'HỌC']\n"
     ]
    }
   ],
   "source": [
    "chuoi = \"TRUNG TÂM TIN HỌC\"\n",
    "print(chuoi.split())"
   ]
  },
  {
   "cell_type": "code",
   "execution_count": 23,
   "metadata": {},
   "outputs": [
    {
     "name": "stdout",
     "output_type": "stream",
     "text": [
      "['TRU', 'G TÂM TI', ' HỌC']\n"
     ]
    }
   ],
   "source": [
    "chuoi = \"TRUNG TÂM TIN HỌC\"\n",
    "print(chuoi.split('N'))"
   ]
  },
  {
   "cell_type": "code",
   "execution_count": 24,
   "metadata": {},
   "outputs": [
    {
     "name": "stdout",
     "output_type": "stream",
     "text": [
      "['TRU', 'G TÂM TIN HỌC']\n"
     ]
    }
   ],
   "source": [
    "chuoi = \"TRUNG TÂM TIN HỌC\"\n",
    "print(chuoi.split('N', 1))"
   ]
  },
  {
   "cell_type": "code",
   "execution_count": null,
   "metadata": {},
   "outputs": [],
   "source": []
  }
 ],
 "metadata": {
  "kernelspec": {
   "display_name": "Python 3",
   "language": "python",
   "name": "python3"
  },
  "language_info": {
   "codemirror_mode": {
    "name": "ipython",
    "version": 3
   },
   "file_extension": ".py",
   "mimetype": "text/x-python",
   "name": "python",
   "nbconvert_exporter": "python",
   "pygments_lexer": "ipython3",
   "version": "3.6.8"
  }
 },
 "nbformat": 4,
 "nbformat_minor": 2
}
