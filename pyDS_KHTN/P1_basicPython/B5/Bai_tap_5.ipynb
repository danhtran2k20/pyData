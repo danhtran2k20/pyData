{
 "cells": [
  {
   "cell_type": "code",
   "execution_count": 1,
   "source": [
    "# Bài 5.1\r\n",
    "\r\n",
    "# Sử dụng while\r\n",
    "n = int(input(\"Nhập số: \"))\r\n",
    "while n > 0:\r\n",
    "    print(n)\r\n",
    "    n -= 1\r\n",
    "else:\r\n",
    "    print(\"Start!!!\")"
   ],
   "outputs": [
    {
     "output_type": "stream",
     "name": "stdout",
     "text": [
      "Nhập số: 10\n",
      "10\n",
      "9\n",
      "8\n",
      "7\n",
      "6\n",
      "5\n",
      "4\n",
      "3\n",
      "2\n",
      "1\n",
      "Start!!!\n"
     ]
    }
   ],
   "metadata": {}
  },
  {
   "cell_type": "code",
   "execution_count": 2,
   "source": [
    "# Bài 5.1\r\n",
    "\r\n",
    "# Sử dụng for\r\n",
    "n = int(input(\"Nhập số: \"))\r\n",
    "for i in range(n, 0, -1):\r\n",
    "    print(i)\r\n",
    "else:\r\n",
    "    print(\"Start!!!\")"
   ],
   "outputs": [
    {
     "output_type": "stream",
     "name": "stdout",
     "text": [
      "Nhập số: 10\n",
      "10\n",
      "9\n",
      "8\n",
      "7\n",
      "6\n",
      "5\n",
      "4\n",
      "3\n",
      "2\n",
      "1\n",
      "Start!!!\n"
     ]
    }
   ],
   "metadata": {}
  },
  {
   "cell_type": "code",
   "execution_count": 4,
   "source": [
    "# Bài 5.4\r\n",
    "# Cách 1\r\n",
    "n = int(input(\"Nhập số cần xét: \"))\r\n",
    "count = 0\r\n",
    "for i in range(1, n + 1):\r\n",
    "    if n % i == 0:\r\n",
    "        count += 1\r\n",
    "else:\r\n",
    "    if count == 2:\r\n",
    "        print(\"Số %i là số nguyên tố\" % n)\r\n",
    "    else:\r\n",
    "        print(\"Số %i không là số nguyên tố\" % n)"
   ],
   "outputs": [
    {
     "output_type": "stream",
     "name": "stdout",
     "text": [
      "Nhập số cần xét: 6\n",
      "Số 6 không là số nguyên tố\n"
     ]
    }
   ],
   "metadata": {}
  },
  {
   "cell_type": "code",
   "execution_count": 8,
   "source": [
    "# Bài 5.4\r\n",
    "# Cách 2\r\n",
    "\r\n",
    "n = int(input(\"Nhập số cần xét: \"))\r\n",
    "if n < 2:\r\n",
    "    print(\"Số %i không là số nguyên tố\" % n)\r\n",
    "else:\r\n",
    "    for i in range(2, n):\r\n",
    "        if n % i == 0:\r\n",
    "            print(\"Số %i không là số nguyên tố\" % n)\r\n",
    "            break\r\n",
    "    else:\r\n",
    "        print(\"Số %i là số nguyên tố\" % n)"
   ],
   "outputs": [
    {
     "output_type": "stream",
     "name": "stdout",
     "text": [
      "Nhập số cần xét: 1\n",
      "Số 1 không là số nguyên tố\n"
     ]
    }
   ],
   "metadata": {}
  },
  {
   "cell_type": "code",
   "execution_count": 7,
   "source": [
    "# Bài 5.5\r\n",
    "\r\n",
    "n = int(input(\"Nhập số: \"))\r\n",
    "\r\n",
    "A = 0\r\n",
    "chuoi_A = ''\r\n",
    "\r\n",
    "B = 0\r\n",
    "chuoi_B = ''\r\n",
    "\r\n",
    "E = 0\r\n",
    "chuoi_E = ''\r\n",
    "\r\n",
    "i = 1\r\n",
    "while i <= n:\r\n",
    "    # Tính A: tổng các số lẻ nhỏ hơn hay bằng n\r\n",
    "    if i % 2 != 0:\r\n",
    "        A += i  # A = A + i\r\n",
    "        chuoi_A += str(i) + \" + \" # chuoi_A = chuoi_A + str(i) + \" + \"\r\n",
    "        \r\n",
    "    # Tính B\r\n",
    "    if i % 2 == 0:\r\n",
    "        B += i\r\n",
    "        chuoi_B += str(i) + \" + \"\r\n",
    "    \r\n",
    "    # Tính C\r\n",
    "    \r\n",
    "    # Tính D\r\n",
    "    \r\n",
    "    # Tính E\r\n",
    "    if i >= 2:\r\n",
    "        for j in range(2, i):\r\n",
    "            if i % j == 0:\r\n",
    "                break\r\n",
    "        else:\r\n",
    "            E += i\r\n",
    "            chuoi_E += str(i) + \" + \"\r\n",
    "        \r\n",
    "    # Bước nhảy của while\r\n",
    "    i += 1\r\n",
    "else:\r\n",
    "    print(\"A =\", chuoi_A, \"=\", A)\r\n",
    "    print(\"B =\", chuoi_B, \"=\", B)\r\n",
    "    print(\"E =\", chuoi_E, \"=\", E)"
   ],
   "outputs": [
    {
     "output_type": "stream",
     "name": "stdout",
     "text": [
      "A = 1 + 3 + 5 + 7 + 9 +  = 25\n",
      "B = 2 + 4 + 6 + 8 +  = 20\n",
      "E = 2 + 3 + 5 + 7 +  = 17\n"
     ]
    }
   ],
   "metadata": {}
  },
  {
   "cell_type": "code",
   "execution_count": null,
   "source": [],
   "outputs": [],
   "metadata": {}
  }
 ],
 "metadata": {
  "kernelspec": {
   "name": "python3",
   "display_name": "Python 3.9.7 64-bit"
  },
  "language_info": {
   "codemirror_mode": {
    "name": "ipython",
    "version": 3
   },
   "file_extension": ".py",
   "mimetype": "text/x-python",
   "name": "python",
   "nbconvert_exporter": "python",
   "pygments_lexer": "ipython3",
   "version": "3.9.7"
  },
  "interpreter": {
   "hash": "fe93ddd766552dceea2d7f07abd21060b4ba8b277576c55d124449dd97658de9"
  }
 },
 "nbformat": 4,
 "nbformat_minor": 2
}