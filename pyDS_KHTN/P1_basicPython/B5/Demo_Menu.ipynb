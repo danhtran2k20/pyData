{
 "cells": [
  {
   "cell_type": "code",
   "execution_count": 1,
   "metadata": {},
   "outputs": [
    {
     "name": "stdout",
     "output_type": "stream",
     "text": [
      "Bạn muốn làm gì?\n",
      "1. Chức năng 1\n",
      "2. Chức năng 2\n",
      "3. Chức năng 3\n",
      "Mời bạn chọn: 1\n",
      "\n",
      "Bạn đang chọn chức năng 1\n",
      "\n",
      "Bạn có muốn tiếp tục nữa không? (y/n)\n",
      "Mời bạn chọn: y\n",
      "Bạn muốn làm gì?\n",
      "1. Chức năng 1\n",
      "2. Chức năng 2\n",
      "3. Chức năng 3\n",
      "Mời bạn chọn: 2\n",
      "\n",
      "Bạn đang chọn chức năng 2\n",
      "\n",
      "Bạn có muốn tiếp tục nữa không? (y/n)\n",
      "Mời bạn chọn: n\n"
     ]
    }
   ],
   "source": [
    "dieu_kien = True\n",
    "while dieu_kien:\n",
    "    # ĐIỀU KIỆN 1\n",
    "    chuc_nang = int(input(\"Bạn muốn làm gì?\\n1. Chức năng 1\\n2. Chức năng 2\\n3. Chức năng 3\\nMời bạn chọn: \"))\n",
    "    if chuc_nang == 1:\n",
    "        print(\"\\nBạn đang chọn chức năng 1\")\n",
    "    elif chuc_nang == 2:\n",
    "        print(\"\\nBạn đang chọn chức năng 2\")\n",
    "    elif chuc_nang == 3:\n",
    "        print(\"\\nBạn đang chọn chức năng 3\")\n",
    "    else:\n",
    "        print(\"\\nChỉ được chọn 1, 2 hoặc 3.\")\n",
    "    \n",
    "    # ĐIỆN KIỆN 2\n",
    "    tiep_tuc = input(\"\\nBạn có muốn tiếp tục nữa không? (y/n)\\nMời bạn chọn: \")\n",
    "    if tiep_tuc == \"y\" or tiep_tuc == \"Y\":\n",
    "        dieu_kien = True\n",
    "    else:\n",
    "        dieu_kien = False"
   ]
  },
  {
   "cell_type": "code",
   "execution_count": null,
   "metadata": {},
   "outputs": [],
   "source": []
  }
 ],
 "metadata": {
  "kernelspec": {
   "display_name": "Python 3",
   "language": "python",
   "name": "python3"
  },
  "language_info": {
   "codemirror_mode": {
    "name": "ipython",
    "version": 3
   },
   "file_extension": ".py",
   "mimetype": "text/x-python",
   "name": "python",
   "nbconvert_exporter": "python",
   "pygments_lexer": "ipython3",
   "version": "3.6.8"
  }
 },
 "nbformat": 4,
 "nbformat_minor": 2
}
