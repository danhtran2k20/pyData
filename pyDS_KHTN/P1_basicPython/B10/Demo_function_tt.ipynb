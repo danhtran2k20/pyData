{
 "cells": [
  {
   "cell_type": "code",
   "execution_count": 1,
   "metadata": {},
   "outputs": [
    {
     "name": "stdout",
     "output_type": "stream",
     "text": [
      "Giá trị ban đầu: 10\n",
      "Kết quả trong hàm: 100\n",
      "Giá trị ban đầu: 10\n"
     ]
    }
   ],
   "source": [
    "# Tham trị\n",
    "# Xây dựng hàm\n",
    "def tinh_binh_phuong(so):\n",
    "    so = so ** 2\n",
    "    print(\"Kết quả trong hàm:\", so)\n",
    "    return\n",
    "\n",
    "\n",
    "# Gọi hàm\n",
    "n = 10\n",
    "print(\"Giá trị ban đầu:\", n)\n",
    "\n",
    "tinh_binh_phuong(n)\n",
    "\n",
    "print(\"Giá trị ban đầu:\", n)"
   ]
  },
  {
   "cell_type": "code",
   "execution_count": 2,
   "metadata": {},
   "outputs": [
    {
     "name": "stdout",
     "output_type": "stream",
     "text": [
      "Giá trị ban đầu: [3, 7, 2, 4]\n",
      "Giá trị trong hàm: [3, 7, 2, 4, 100, 200]\n",
      "Giá trị ban đầu: [3, 7, 2, 4, 100, 200]\n"
     ]
    }
   ],
   "source": [
    "def change_list(list_so):\n",
    "    list_so.append(100)\n",
    "    list_so.append(200)\n",
    "    print(\"Giá trị trong hàm:\", list_so)\n",
    "    return\n",
    "\n",
    "\n",
    "ds_so = [3, 7, 2, 4]\n",
    "print(\"Giá trị ban đầu:\", ds_so)\n",
    "\n",
    "change_list(ds_so)\n",
    "\n",
    "print(\"Giá trị ban đầu:\", ds_so)"
   ]
  },
  {
   "cell_type": "code",
   "execution_count": 4,
   "metadata": {},
   "outputs": [
    {
     "name": "stdout",
     "output_type": "stream",
     "text": [
      "Chào mừng bạn Lan đến với ngôn ngữ Python\n",
      "Chào mừng bạn Mai đến với ngôn ngữ Python\n",
      "Chào mừng bạn Trúc đến với ngôn ngữ Python\n",
      "Chào mừng bạn Đào đến với ngôn ngữ Python\n",
      "Chào mừng bạn Nam đến với ngôn ngữ Python\n"
     ]
    }
   ],
   "source": [
    "def in_loi_chao(loi_chao, mon_hoc, *danh_sach_ten):\n",
    "    for ten in danh_sach_ten:\n",
    "        print(loi_chao, \"bạn\", ten, \"đến với ngôn ngữ\", mon_hoc)\n",
    "\n",
    "\n",
    "in_loi_chao(\"Chào mừng\", \"Python\", \"Lan\", \"Mai\", \"Trúc\", \"Đào\", \"Nam\")\n"
   ]
  },
  {
   "cell_type": "code",
   "execution_count": 5,
   "metadata": {},
   "outputs": [],
   "source": [
    "def tinh_diem_tb(hk1, hk2):\n",
    "    dtb = (hk1 + hk2 * 2) / 3\n",
    "    return dtb"
   ]
  },
  {
   "cell_type": "code",
   "execution_count": 6,
   "metadata": {},
   "outputs": [
    {
     "data": {
      "text/plain": [
       "7.666666666666667"
      ]
     },
     "execution_count": 6,
     "metadata": {},
     "output_type": "execute_result"
    }
   ],
   "source": [
    "def tinh_diem_tb(hk1, hk2):\n",
    "    return (hk1 + hk2 * 2) / 3\n",
    "\n",
    "tinh_diem_tb(7, 8)"
   ]
  },
  {
   "cell_type": "code",
   "execution_count": 8,
   "metadata": {},
   "outputs": [
    {
     "name": "stdout",
     "output_type": "stream",
     "text": [
      "8.666666666666666\n"
     ]
    }
   ],
   "source": [
    "tinh_dtb = lambda hk1, hk2: (hk1 + hk2 * 2) / 3\n",
    "print(tinh_dtb(8, 9))"
   ]
  },
  {
   "cell_type": "code",
   "execution_count": 9,
   "metadata": {},
   "outputs": [
    {
     "data": {
      "text/plain": [
       "18.93700290367378"
      ]
     },
     "execution_count": 9,
     "metadata": {},
     "output_type": "execute_result"
    }
   ],
   "source": [
    "tinh_bmi = lambda can_nang, chieu_cao: can_nang / chieu_cao ** 2\n",
    "tinh_bmi(60, 1.78)"
   ]
  },
  {
   "cell_type": "code",
   "execution_count": 12,
   "metadata": {},
   "outputs": [
    {
     "name": "stdout",
     "output_type": "stream",
     "text": [
      "[1, 2, 3, 4, 5]\n",
      "[1, 4, 9, 16, 25]\n"
     ]
    }
   ],
   "source": [
    "list_1 = [1, 2, 3, 4, 5]\n",
    "print(list_1)\n",
    "list_2 = []\n",
    "for so in list_1:\n",
    "    binh_phuong = so ** 2\n",
    "    list_2.append(binh_phuong)\n",
    "print(list_2)"
   ]
  },
  {
   "cell_type": "code",
   "execution_count": 14,
   "metadata": {},
   "outputs": [
    {
     "name": "stdout",
     "output_type": "stream",
     "text": [
      "[1, 2, 3, 4, 5]\n",
      "[1, 4, 9, 16, 25]\n"
     ]
    }
   ],
   "source": [
    "list_1 = [1, 2, 3, 4, 5]\n",
    "print(list_1)\n",
    "list_2 = list(map(lambda so: so ** 2, list_1))\n",
    "print(list_2)"
   ]
  },
  {
   "cell_type": "code",
   "execution_count": 15,
   "metadata": {},
   "outputs": [
    {
     "name": "stdout",
     "output_type": "stream",
     "text": [
      "[1, 2, 3, 4, 5]\n",
      "[1, 4, 9, 16, 25]\n"
     ]
    }
   ],
   "source": [
    "def tinh_binh_phuong(so):\n",
    "    return so ** 2\n",
    "\n",
    "list_1 = [1, 2, 3, 4, 5]\n",
    "print(list_1)\n",
    "list_2 = list(map(tinh_binh_phuong, list_1))\n",
    "print(list_2)"
   ]
  },
  {
   "cell_type": "code",
   "execution_count": 16,
   "metadata": {},
   "outputs": [
    {
     "name": "stdout",
     "output_type": "stream",
     "text": [
      "[7, 9, 11, 13, 15]\n"
     ]
    }
   ],
   "source": [
    "list_1 = [1, 2, 3, 4, 5]\n",
    "list_3 = [6, 7, 8, 9, 10]\n",
    "\n",
    "list_4 = list(map(lambda gtri_1, gtri_2: gtri_1 + gtri_2, list_1, list_3))\n",
    "print(list_4)"
   ]
  },
  {
   "cell_type": "code",
   "execution_count": 17,
   "metadata": {},
   "outputs": [
    {
     "name": "stdout",
     "output_type": "stream",
     "text": [
      "[7, 9, 11]\n"
     ]
    }
   ],
   "source": [
    "list_1 = [1, 2, 3, 4, 5]\n",
    "list_3 = [6, 7, 8]\n",
    "\n",
    "list_4 = list(map(lambda gtri_1, gtri_2: gtri_1 + gtri_2, list_1, list_3))\n",
    "print(list_4)"
   ]
  },
  {
   "cell_type": "code",
   "execution_count": 18,
   "metadata": {},
   "outputs": [
    {
     "name": "stdout",
     "output_type": "stream",
     "text": [
      "[7, 9, 11]\n"
     ]
    }
   ],
   "source": [
    "list_1 = [1, 2, 3, 4, 5]\n",
    "list_3 = (6, 7, 8)\n",
    "\n",
    "list_4 = list(map(lambda gtri_1, gtri_2: gtri_1 + gtri_2, list_1, list_3))\n",
    "print(list_4)"
   ]
  },
  {
   "cell_type": "code",
   "execution_count": 21,
   "metadata": {},
   "outputs": [
    {
     "ename": "TypeError",
     "evalue": "unsupported operand type(s) for +: 'int' and 'str'",
     "output_type": "error",
     "traceback": [
      "\u001b[1;31m---------------------------------------------------------------------------\u001b[0m",
      "\u001b[1;31mTypeError\u001b[0m                                 Traceback (most recent call last)",
      "\u001b[1;32m<ipython-input-21-b2eff08172b1>\u001b[0m in \u001b[0;36m<module>\u001b[1;34m\u001b[0m\n\u001b[0;32m      2\u001b[0m \u001b[0mdict_1\u001b[0m \u001b[1;33m=\u001b[0m \u001b[1;33m{\u001b[0m\u001b[1;34m\"one\"\u001b[0m\u001b[1;33m:\u001b[0m \u001b[1;36m6\u001b[0m\u001b[1;33m,\u001b[0m \u001b[1;34m\"two\"\u001b[0m\u001b[1;33m:\u001b[0m \u001b[1;36m7\u001b[0m\u001b[1;33m,\u001b[0m \u001b[1;34m\"three\"\u001b[0m\u001b[1;33m:\u001b[0m \u001b[1;36m8\u001b[0m\u001b[1;33m}\u001b[0m\u001b[1;33m\u001b[0m\u001b[1;33m\u001b[0m\u001b[0m\n\u001b[0;32m      3\u001b[0m \u001b[1;33m\u001b[0m\u001b[0m\n\u001b[1;32m----> 4\u001b[1;33m \u001b[0mlist_4\u001b[0m \u001b[1;33m=\u001b[0m \u001b[0mlist\u001b[0m\u001b[1;33m(\u001b[0m\u001b[0mmap\u001b[0m\u001b[1;33m(\u001b[0m\u001b[1;32mlambda\u001b[0m \u001b[0mgtri_1\u001b[0m\u001b[1;33m,\u001b[0m \u001b[0mgtri_2\u001b[0m\u001b[1;33m:\u001b[0m \u001b[0mgtri_1\u001b[0m \u001b[1;33m+\u001b[0m \u001b[0mgtri_2\u001b[0m\u001b[1;33m,\u001b[0m \u001b[0mlist_1\u001b[0m\u001b[1;33m,\u001b[0m \u001b[0mdict_1\u001b[0m\u001b[1;33m)\u001b[0m\u001b[1;33m)\u001b[0m\u001b[1;33m\u001b[0m\u001b[1;33m\u001b[0m\u001b[0m\n\u001b[0m\u001b[0;32m      5\u001b[0m \u001b[0mprint\u001b[0m\u001b[1;33m(\u001b[0m\u001b[0mlist_4\u001b[0m\u001b[1;33m)\u001b[0m\u001b[1;33m\u001b[0m\u001b[1;33m\u001b[0m\u001b[0m\n",
      "\u001b[1;32m<ipython-input-21-b2eff08172b1>\u001b[0m in \u001b[0;36m<lambda>\u001b[1;34m(gtri_1, gtri_2)\u001b[0m\n\u001b[0;32m      2\u001b[0m \u001b[0mdict_1\u001b[0m \u001b[1;33m=\u001b[0m \u001b[1;33m{\u001b[0m\u001b[1;34m\"one\"\u001b[0m\u001b[1;33m:\u001b[0m \u001b[1;36m6\u001b[0m\u001b[1;33m,\u001b[0m \u001b[1;34m\"two\"\u001b[0m\u001b[1;33m:\u001b[0m \u001b[1;36m7\u001b[0m\u001b[1;33m,\u001b[0m \u001b[1;34m\"three\"\u001b[0m\u001b[1;33m:\u001b[0m \u001b[1;36m8\u001b[0m\u001b[1;33m}\u001b[0m\u001b[1;33m\u001b[0m\u001b[1;33m\u001b[0m\u001b[0m\n\u001b[0;32m      3\u001b[0m \u001b[1;33m\u001b[0m\u001b[0m\n\u001b[1;32m----> 4\u001b[1;33m \u001b[0mlist_4\u001b[0m \u001b[1;33m=\u001b[0m \u001b[0mlist\u001b[0m\u001b[1;33m(\u001b[0m\u001b[0mmap\u001b[0m\u001b[1;33m(\u001b[0m\u001b[1;32mlambda\u001b[0m \u001b[0mgtri_1\u001b[0m\u001b[1;33m,\u001b[0m \u001b[0mgtri_2\u001b[0m\u001b[1;33m:\u001b[0m \u001b[0mgtri_1\u001b[0m \u001b[1;33m+\u001b[0m \u001b[0mgtri_2\u001b[0m\u001b[1;33m,\u001b[0m \u001b[0mlist_1\u001b[0m\u001b[1;33m,\u001b[0m \u001b[0mdict_1\u001b[0m\u001b[1;33m)\u001b[0m\u001b[1;33m)\u001b[0m\u001b[1;33m\u001b[0m\u001b[1;33m\u001b[0m\u001b[0m\n\u001b[0m\u001b[0;32m      5\u001b[0m \u001b[0mprint\u001b[0m\u001b[1;33m(\u001b[0m\u001b[0mlist_4\u001b[0m\u001b[1;33m)\u001b[0m\u001b[1;33m\u001b[0m\u001b[1;33m\u001b[0m\u001b[0m\n",
      "\u001b[1;31mTypeError\u001b[0m: unsupported operand type(s) for +: 'int' and 'str'"
     ]
    }
   ],
   "source": [
    "list_1 = [1, 2, 3, 4, 5]\n",
    "dict_1 = {\"one\": 6, \"two\": 7, \"three\": 8}\n",
    "\n",
    "list_4 = list(map(lambda gtri_1, gtri_2: gtri_1 + gtri_2, list_1, dict_1))\n",
    "print(list_4)"
   ]
  },
  {
   "cell_type": "code",
   "execution_count": 22,
   "metadata": {},
   "outputs": [
    {
     "name": "stdout",
     "output_type": "stream",
     "text": [
      "[2, 4, 6]\n"
     ]
    }
   ],
   "source": [
    "list_1 = [1, 2, 3, 4, 5]\n",
    "dict_1 = {1: \"one\", 2: \"two\", 3: \"three\"}\n",
    "\n",
    "list_4 = list(map(lambda gtri_1, gtri_2: gtri_1 + gtri_2, list_1, dict_1))\n",
    "print(list_4)"
   ]
  },
  {
   "cell_type": "code",
   "execution_count": 23,
   "metadata": {},
   "outputs": [
    {
     "name": "stdout",
     "output_type": "stream",
     "text": [
      "[2, 4, 6]\n"
     ]
    }
   ],
   "source": [
    "from operator import add\n",
    "\n",
    "list_1 = [1, 2, 3, 4, 5]\n",
    "dict_1 = {1: \"one\", 2: \"two\", 3: \"three\"}\n",
    "\n",
    "list_4 = list(map(add, list_1, dict_1))\n",
    "print(list_4)"
   ]
  },
  {
   "cell_type": "code",
   "execution_count": 25,
   "metadata": {},
   "outputs": [
    {
     "name": "stdout",
     "output_type": "stream",
     "text": [
      "[0, 0, 0]\n"
     ]
    }
   ],
   "source": [
    "from operator import sub\n",
    "\n",
    "list_1 = [1, 2, 3, 4, 5]\n",
    "dict_1 = {1: \"one\", 2: \"two\", 3: \"three\"}\n",
    "\n",
    "list_4 = list(map(sub, list_1, dict_1))\n",
    "print(list_4)"
   ]
  },
  {
   "cell_type": "code",
   "execution_count": 26,
   "metadata": {},
   "outputs": [
    {
     "name": "stdout",
     "output_type": "stream",
     "text": [
      "[1, 4, 9]\n"
     ]
    }
   ],
   "source": [
    "from operator import mul\n",
    "\n",
    "list_1 = [1, 2, 3, 4, 5]\n",
    "dict_1 = {1: \"one\", 2: \"two\", 3: \"three\"}\n",
    "\n",
    "list_4 = list(map(mul, list_1, dict_1))\n",
    "print(list_4)"
   ]
  },
  {
   "cell_type": "code",
   "execution_count": 27,
   "metadata": {},
   "outputs": [
    {
     "name": "stdout",
     "output_type": "stream",
     "text": [
      "[1.0, 1.0, 1.0]\n"
     ]
    }
   ],
   "source": [
    "from operator import truediv\n",
    "\n",
    "list_1 = [1, 2, 3, 4, 5]\n",
    "dict_1 = {1: \"one\", 2: \"two\", 3: \"three\"}\n",
    "\n",
    "list_4 = list(map(truediv, list_1, dict_1))\n",
    "print(list_4)"
   ]
  },
  {
   "cell_type": "code",
   "execution_count": 31,
   "metadata": {},
   "outputs": [
    {
     "name": "stdout",
     "output_type": "stream",
     "text": [
      "['h', 'e', 'l', 'l', 'o', ' ', 'a', 'b', 'a', 'b', 'a', 'b', 'a', 'b', 'a']\n",
      "e\n"
     ]
    }
   ],
   "source": [
    "chuoi = \"hello ababababa\"\n",
    "list_ki_tu = list(chuoi)\n",
    "print(list_ki_tu)\n",
    "print(chuoi[1])"
   ]
  },
  {
   "cell_type": "code",
   "execution_count": null,
   "metadata": {},
   "outputs": [],
   "source": []
  }
 ],
 "metadata": {
  "kernelspec": {
   "display_name": "Python 3",
   "language": "python",
   "name": "python3"
  },
  "language_info": {
   "codemirror_mode": {
    "name": "ipython",
    "version": 3
   },
   "file_extension": ".py",
   "mimetype": "text/x-python",
   "name": "python",
   "nbconvert_exporter": "python",
   "pygments_lexer": "ipython3",
   "version": "3.6.8"
  }
 },
 "nbformat": 4,
 "nbformat_minor": 2
}
