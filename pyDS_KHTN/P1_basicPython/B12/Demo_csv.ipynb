{
 "cells": [
  {
   "cell_type": "code",
   "execution_count": 1,
   "metadata": {},
   "outputs": [],
   "source": [
    "import csv"
   ]
  },
  {
   "cell_type": "code",
   "execution_count": 9,
   "metadata": {
    "scrolled": true
   },
   "outputs": [
    {
     "name": "stdout",
     "output_type": "stream",
     "text": [
      "['\\ufeffnguyễn Văn A', '11/05/1998', '0909090909', 'TPHCM']\n",
      "['trần thị C', '11/05/1998', '0933123456', 'TPHCM']\n",
      "['Lê văn B', '11/05/1998', '0942666999', 'TPHCM']\n",
      "['Ngô thị D', '11/05/1998', '0902123987', 'TPHCM']\n"
     ]
    }
   ],
   "source": [
    "# Đồng nhất họ tên cho dễ nhìn\n",
    "\n",
    "f = open('files/ds_khach_hang.csv', encoding='utf-8')\n",
    "for dong in csv.reader(f):\n",
    "    print(dong)\n",
    "    \n",
    "f.close()"
   ]
  },
  {
   "cell_type": "code",
   "execution_count": 10,
   "metadata": {
    "scrolled": true
   },
   "outputs": [
    {
     "name": "stdout",
     "output_type": "stream",
     "text": [
      "['\\ufeffNguyễn Văn A', '11/05/1998', '0909090909', 'TPHCM']\n",
      "['Trần Thị C', '11/05/1998', '0933123456', 'TPHCM']\n",
      "['Lê Văn B', '11/05/1998', '0942666999', 'TPHCM']\n",
      "['Ngô Thị D', '11/05/1998', '0902123987', 'TPHCM']\n",
      "[['\\ufeffNguyễn Văn A', '11/05/1998', '0909090909', 'TPHCM'], ['Trần Thị C', '11/05/1998', '0933123456', 'TPHCM'], ['Lê Văn B', '11/05/1998', '0942666999', 'TPHCM'], ['Ngô Thị D', '11/05/1998', '0902123987', 'TPHCM']]\n"
     ]
    }
   ],
   "source": [
    "# ĐỌC NỘI DUNG TỪ FILE CSV VÀ XỬ LÝ DỮ LIỆU\n",
    "\n",
    "# Đồng nhất họ tên cho dễ nhìn\n",
    "\n",
    "ds_khach_hang = []\n",
    "f = open('files/ds_khach_hang.csv', encoding='utf-8')\n",
    "for dong in csv.reader(f):\n",
    "    dong[0] = dong[0].title()  # Cập nhật phần tử trong list\n",
    "    print(dong)\n",
    "    ds_khach_hang.append(dong)\n",
    "print(ds_khach_hang)\n",
    "f.close()"
   ]
  },
  {
   "cell_type": "code",
   "execution_count": 11,
   "metadata": {},
   "outputs": [],
   "source": [
    "# GHI NỘI DỤNG ĐÃ ĐƯỢC XỬ LÝ SANG FILE CSV KHÁC\n",
    "\n",
    "# Trước khi ghi dữ liệu sang file csv khác, cần chuyển dữ liệu về dạng:\n",
    "# [  [], [], [], []  ]\n",
    "\n",
    "f = open('files/ds_khach_hang_edited.csv', 'w', encoding='utf-8', newline='')\n",
    "for khach_hang in ds_khach_hang:\n",
    "    csv.writer(f).writerow(khach_hang)\n",
    "f.close()"
   ]
  },
  {
   "cell_type": "code",
   "execution_count": 16,
   "metadata": {},
   "outputs": [
    {
     "name": "stdout",
     "output_type": "stream",
     "text": [
      "[['\\ufeffLê Văn Bảo', '10', '8.5', '9.0', 9.2], ['Trần Minh Ngọc', '6.5', '7.0', '10', 7.8], ['Lê Thị Minh Tâm', '8.0', '5.5', '9.5', 7.7], ['Nguyễn Kim Tuyến', '6.0', '7.5', '9.0', 7.5], ['Ngô Văn Sáng', '5.0', '9.0', '8.5', 7.5]]\n"
     ]
    }
   ],
   "source": [
    "# TÍNH ĐIỂM TRUNG BÌNH CỦA HỌC SINH\n",
    "\n",
    "# Đọc và Xử lý dữ liệu\n",
    "\n",
    "ds_hoc_sinh = []\n",
    "\n",
    "f = open('files/hoc_sinh.csv', encoding='utf-8')\n",
    "for dong in csv.reader(f):\n",
    "    dtb = (float(dong[1]) + float(dong[2]) + float(dong[3])) / 3\n",
    "    dong.append(round(dtb, 1))  # round(dtb, 1)\n",
    "    ds_hoc_sinh.append(dong)\n",
    "print(ds_hoc_sinh)\n",
    "f.close()"
   ]
  },
  {
   "cell_type": "code",
   "execution_count": 17,
   "metadata": {},
   "outputs": [],
   "source": [
    "f = open('files/ds_hoc_sinh_edited.csv', 'w', encoding='utf-8', newline='')\n",
    "for hoc_sinh in ds_hoc_sinh:\n",
    "    csv.writer(f).writerow(hoc_sinh)\n",
    "f.close()"
   ]
  },
  {
   "cell_type": "code",
   "execution_count": null,
   "metadata": {},
   "outputs": [],
   "source": []
  }
 ],
 "metadata": {
  "kernelspec": {
   "display_name": "Python 3",
   "language": "python",
   "name": "python3"
  },
  "language_info": {
   "codemirror_mode": {
    "name": "ipython",
    "version": 3
   },
   "file_extension": ".py",
   "mimetype": "text/x-python",
   "name": "python",
   "nbconvert_exporter": "python",
   "pygments_lexer": "ipython3",
   "version": "3.6.8"
  }
 },
 "nbformat": 4,
 "nbformat_minor": 2
}
