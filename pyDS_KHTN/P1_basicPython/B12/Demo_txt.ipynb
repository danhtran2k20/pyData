{
 "cells": [
  {
   "cell_type": "code",
   "execution_count": 7,
   "metadata": {},
   "outputs": [
    {
     "name": "stdout",
     "output_type": "stream",
     "text": [
      "ï»¿Hom nay la buoi hoc cuoi cung cua lop python CB\n",
      "\n",
      "HÃ´m nay lÃ  Thá»© tÆ°\n"
     ]
    }
   ],
   "source": [
    "f = open('files\\\\bai_tho.txt', 'r')  # f = open('files/bai_tho.txt', 'r')\n",
    "print(f.read())\n",
    "f.close()"
   ]
  },
  {
   "cell_type": "code",
   "execution_count": 9,
   "metadata": {},
   "outputs": [
    {
     "name": "stdout",
     "output_type": "stream",
     "text": [
      "﻿Hom nay la buoi hoc cuoi cung cua lop python CB\n",
      "Hôm nay là Thứ tư\n"
     ]
    }
   ],
   "source": [
    "f = open('files\\\\bai_tho.txt', 'r', encoding='utf-8')\n",
    "print(f.read())\n",
    "f.close()"
   ]
  },
  {
   "cell_type": "code",
   "execution_count": 13,
   "metadata": {},
   "outputs": [],
   "source": [
    "f = open('files/bai_tho_1.txt', 'a', encoding='utf-8')\n",
    "noi_dung = \"\\nABC DEF\"\n",
    "f.write(noi_dung)\n",
    "f.close()"
   ]
  },
  {
   "cell_type": "code",
   "execution_count": 29,
   "metadata": {},
   "outputs": [
    {
     "name": "stdout",
     "output_type": "stream",
     "text": [
      "ï»¿Hom nay la buoi hoc cuoi cung cua lop python CB\n",
      "ï»¿Hom nay la buoi hoc cuoi cung cua lop python CB\n"
     ]
    }
   ],
   "source": [
    "f = open('files\\\\bai_tho.txt', 'r')\n",
    "print(f.read())\n",
    "f.seek(0, 0)\n",
    "print(f.read())\n",
    "f.close()"
   ]
  },
  {
   "cell_type": "code",
   "execution_count": null,
   "metadata": {},
   "outputs": [],
   "source": []
  },
  {
   "cell_type": "code",
   "execution_count": null,
   "metadata": {},
   "outputs": [],
   "source": []
  }
 ],
 "metadata": {
  "kernelspec": {
   "display_name": "Python 3",
   "language": "python",
   "name": "python3"
  },
  "language_info": {
   "codemirror_mode": {
    "name": "ipython",
    "version": 3
   },
   "file_extension": ".py",
   "mimetype": "text/x-python",
   "name": "python",
   "nbconvert_exporter": "python",
   "pygments_lexer": "ipython3",
   "version": "3.6.8"
  }
 },
 "nbformat": 4,
 "nbformat_minor": 2
}
