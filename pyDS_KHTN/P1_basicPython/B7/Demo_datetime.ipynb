{
 "cells": [
  {
   "cell_type": "code",
   "execution_count": 28,
   "metadata": {},
   "outputs": [],
   "source": [
    "import time\n",
    "from datetime import datetime\n",
    "import calendar"
   ]
  },
  {
   "cell_type": "code",
   "execution_count": 4,
   "metadata": {},
   "outputs": [
    {
     "name": "stdout",
     "output_type": "stream",
     "text": [
      "1597233550.681104\n"
     ]
    }
   ],
   "source": [
    "print(time.time())\n",
    "\n",
    "# 1597233525.035637\n",
    "# 1597233541.5665824\n",
    "# 1597233550.681104"
   ]
  },
  {
   "cell_type": "code",
   "execution_count": 9,
   "metadata": {},
   "outputs": [
    {
     "name": "stdout",
     "output_type": "stream",
     "text": [
      "time.struct_time(tm_year=2020, tm_mon=8, tm_mday=12, tm_hour=19, tm_min=10, tm_sec=56, tm_wday=2, tm_yday=225, tm_isdst=0)\n",
      "2020\n",
      "2020\n",
      "12-8-2020 19:10:56\n"
     ]
    }
   ],
   "source": [
    "dt = time.localtime(time.time())\n",
    "\n",
    "print(dt)\n",
    "nam = dt[0]\n",
    "print(nam)\n",
    "\n",
    "\n",
    "nam = dt.tm_year\n",
    "print(nam)\n",
    "\n",
    "print(\"%i-%i-%i %i:%i:%i\" % (dt.tm_mday, dt.tm_mon, dt.tm_year, dt.tm_hour, dt.tm_min, dt.tm_sec))"
   ]
  },
  {
   "cell_type": "code",
   "execution_count": 10,
   "metadata": {},
   "outputs": [
    {
     "name": "stdout",
     "output_type": "stream",
     "text": [
      "Wed Aug 12 19:16:49 2020\n"
     ]
    }
   ],
   "source": [
    "print(time.asctime(time.localtime(time.time())))"
   ]
  },
  {
   "cell_type": "code",
   "execution_count": 12,
   "metadata": {},
   "outputs": [
    {
     "name": "stdout",
     "output_type": "stream",
     "text": [
      "Nhập n: 10\n",
      "10\n",
      "9\n",
      "8\n",
      "7\n",
      "6\n",
      "5\n",
      "4\n",
      "3\n",
      "2\n",
      "1\n",
      "Start!!!\n"
     ]
    }
   ],
   "source": [
    "n = int(input(\"Nhập n: \"))\n",
    "for i in range(n, 0, -1):\n",
    "    print(i)\n",
    "    time.sleep(1)\n",
    "else:\n",
    "    print(\"Start!!!\")"
   ]
  },
  {
   "cell_type": "code",
   "execution_count": 14,
   "metadata": {},
   "outputs": [
    {
     "name": "stdout",
     "output_type": "stream",
     "text": [
      "2020-08-12 19:24:31.498089\n"
     ]
    }
   ],
   "source": [
    "ngay_hien_hanh = datetime.now()\n",
    "print(ngay_hien_hanh)"
   ]
  },
  {
   "cell_type": "code",
   "execution_count": 20,
   "metadata": {},
   "outputs": [
    {
     "name": "stdout",
     "output_type": "stream",
     "text": [
      "2020-08-12 19:30:35.123456\n"
     ]
    }
   ],
   "source": [
    "dt = datetime(2020, 8, 12, 19, 30, 35, 123456)\n",
    "print(dt)"
   ]
  },
  {
   "cell_type": "code",
   "execution_count": 27,
   "metadata": {},
   "outputs": [
    {
     "name": "stdout",
     "output_type": "stream",
     "text": [
      "12-08-2020 19:24:31\n",
      "12-Aug-2020\n"
     ]
    }
   ],
   "source": [
    "ngay_hien_hanh_dinh_dang = ngay_hien_hanh.strftime(\"%d-%m-%Y %H:%M:%S\")\n",
    "print(ngay_hien_hanh_dinh_dang)\n",
    "\n",
    "\n",
    "dt_dinh_dang = dt.strftime(\"%d-%b-%Y\")\n",
    "print(dt_dinh_dang)"
   ]
  },
  {
   "cell_type": "code",
   "execution_count": 30,
   "metadata": {},
   "outputs": [
    {
     "name": "stdout",
     "output_type": "stream",
     "text": [
      "False\n"
     ]
    }
   ],
   "source": [
    "nam_nhuan = calendar.isleap(2019)\n",
    "print(nam_nhuan)"
   ]
  },
  {
   "cell_type": "code",
   "execution_count": 31,
   "metadata": {},
   "outputs": [
    {
     "name": "stdout",
     "output_type": "stream",
     "text": [
      "True\n"
     ]
    }
   ],
   "source": [
    "nam_nhuan = calendar.isleap(2020)\n",
    "print(nam_nhuan)"
   ]
  },
  {
   "cell_type": "code",
   "execution_count": 33,
   "metadata": {},
   "outputs": [
    {
     "name": "stdout",
     "output_type": "stream",
     "text": [
      "[[0, 0, 0, 0, 0, 1, 2], [3, 4, 5, 6, 7, 8, 9], [10, 11, 12, 13, 14, 15, 16], [17, 18, 19, 20, 21, 22, 23], [24, 25, 26, 27, 28, 29, 30], [31, 0, 0, 0, 0, 0, 0]]\n"
     ]
    }
   ],
   "source": [
    "print(calendar.monthcalendar(2020, 8))"
   ]
  },
  {
   "cell_type": "code",
   "execution_count": 34,
   "metadata": {},
   "outputs": [
    {
     "name": "stdout",
     "output_type": "stream",
     "text": [
      "2\n"
     ]
    }
   ],
   "source": [
    "print(calendar.weekday(2020, 8, 12))"
   ]
  },
  {
   "cell_type": "code",
   "execution_count": 37,
   "metadata": {},
   "outputs": [
    {
     "name": "stdout",
     "output_type": "stream",
     "text": [
      "(5, 31)\n",
      "Tháng 8 có 31 ngày\n"
     ]
    }
   ],
   "source": [
    "nam = 2020\n",
    "thang = 8\n",
    "a = calendar.monthrange(nam, thang)\n",
    "print(a)\n",
    "print(\"Tháng %i có %i ngày\" % (thang, a[1]))"
   ]
  },
  {
   "cell_type": "code",
   "execution_count": 44,
   "metadata": {},
   "outputs": [
    {
     "name": "stdout",
     "output_type": "stream",
     "text": [
      "Nhập tháng: 2\n",
      "Nhập năm: 2020\n",
      "Tháng 2 năm 2020 có 29 ngày\n",
      "Năm 2020 là năm nhuận\n",
      "Thứ của ngày cuối cùng trong tháng 2 năm 2020 là Thứ bảy\n"
     ]
    }
   ],
   "source": [
    "# thang = ?\n",
    "# nam = ?\n",
    "\n",
    "# 1. Tháng <thang> năm <nam> có <bao nhiêu> ngày?\n",
    "# 2. Năm <nam> có phải là năm nhuận không?\n",
    "# 3. Thứ của ngày cuối cùng trong tháng <thang>/<nam> là <thứ mấy>?\n",
    "\n",
    "thang = int(input(\"Nhập tháng: \"))\n",
    "nam = int(input(\"Nhập năm: \"))\n",
    "\n",
    "# 1\n",
    "so_ngay = calendar.monthrange(nam, thang)[1]\n",
    "print(\"Tháng %i năm %i có %i ngày\" % (thang, nam, so_ngay))\n",
    "\n",
    "# 2\n",
    "if calendar.isleap(nam):\n",
    "    print(\"Năm %i là năm nhuận\" %nam)\n",
    "else:\n",
    "    print(\"Năm %i không là năm nhuận\" %nam)\n",
    "    \n",
    "# 3\n",
    "thu = calendar.weekday(nam, thang, so_ngay)\n",
    "if thu == 0:\n",
    "    chuoi_thu = \"Thứ hai\"\n",
    "elif thu == 1:\n",
    "    chuoi_thu = \"Thứ ba\"\n",
    "elif thu == 2:\n",
    "    chuoi_thu = \"Thứ tư\"\n",
    "elif thu == 3:\n",
    "    chuoi_thu = \"Thứ năm\"\n",
    "elif thu == 4:\n",
    "    chuoi_thu = \"Thứ sáu\"\n",
    "elif thu == 5:\n",
    "    chuoi_thu = \"Thứ bảy\"\n",
    "else:\n",
    "    chuoi_thu = \"Chủ nhật\"\n",
    "print(\"Thứ của ngày cuối cùng trong tháng %i năm %i là %s\" % (thang, nam, chuoi_thu))"
   ]
  },
  {
   "cell_type": "code",
   "execution_count": 45,
   "metadata": {},
   "outputs": [
    {
     "name": "stdout",
     "output_type": "stream",
     "text": [
      "Nhập tháng: 8\n",
      "Nhập năm: 2020\n",
      "    August 2020\n",
      "Mo Tu We Th Fr Sa Su\n",
      "                1  2\n",
      " 3  4  5  6  7  8  9\n",
      "10 11 12 13 14 15 16\n",
      "17 18 19 20 21 22 23\n",
      "24 25 26 27 28 29 30\n",
      "31\n",
      "\n"
     ]
    }
   ],
   "source": [
    "thang = int(input(\"Nhập tháng: \"))\n",
    "nam = int(input(\"Nhập năm: \"))\n",
    "\n",
    "lich = calendar.month(nam, thang)\n",
    "print(lich)"
   ]
  },
  {
   "cell_type": "code",
   "execution_count": 48,
   "metadata": {},
   "outputs": [
    {
     "name": "stdout",
     "output_type": "stream",
     "text": [
      "Ngày tháng dạng số: 1597238883.2381086\n",
      "Ngày tháng dạng chuẩn: 2020-08-12 20:28:03.238109\n",
      "Ngày tháng hiện hành: 2020-08-12 20:28:03.239108\n"
     ]
    }
   ],
   "source": [
    "ngay_thang_dang_so = time.time()\n",
    "print(\"Ngày tháng dạng số:\", ngay_thang_dang_so)\n",
    "ngay_thang_dang_chuan = datetime.fromtimestamp(ngay_thang_dang_so)\n",
    "print(\"Ngày tháng dạng chuẩn:\", ngay_thang_dang_chuan)\n",
    "print(\"Ngày tháng hiện hành:\", datetime.now())"
   ]
  },
  {
   "cell_type": "code",
   "execution_count": null,
   "metadata": {},
   "outputs": [],
   "source": []
  }
 ],
 "metadata": {
  "kernelspec": {
   "display_name": "Python 3",
   "language": "python",
   "name": "python3"
  },
  "language_info": {
   "codemirror_mode": {
    "name": "ipython",
    "version": 3
   },
   "file_extension": ".py",
   "mimetype": "text/x-python",
   "name": "python",
   "nbconvert_exporter": "python",
   "pygments_lexer": "ipython3",
   "version": "3.6.8"
  }
 },
 "nbformat": 4,
 "nbformat_minor": 2
}
