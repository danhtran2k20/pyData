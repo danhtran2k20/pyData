{
 "cells": [
  {
   "cell_type": "code",
   "execution_count": 4,
   "metadata": {
    "scrolled": true
   },
   "outputs": [
    {
     "name": "stdout",
     "output_type": "stream",
     "text": [
      "[4, 5, 7, -1, [22, 33]]\n",
      "4\n",
      "33\n"
     ]
    }
   ],
   "source": [
    "list_1 = [4, 5, 7, -1, [22, 33]]\n",
    "print(list_1)\n",
    "print(list_1[0])\n",
    "print(list_1[4][1])"
   ]
  },
  {
   "cell_type": "code",
   "execution_count": 5,
   "metadata": {},
   "outputs": [
    {
     "name": "stdout",
     "output_type": "stream",
     "text": [
      "List gốc: [3, 5, 9, 2, 5]\n",
      "List sau khi cập nhật: [3, 5, 9, 200, 5]\n"
     ]
    }
   ],
   "source": [
    "list_2 = [3, 5, 9, 2, 5]\n",
    "print(\"List gốc:\", list_2)\n",
    "\n",
    "list_2[3] = 200  # Thao tác thay đổi giá trị của phần tử trong list\n",
    "\n",
    "print(\"List sau khi cập nhật:\", list_2)"
   ]
  },
  {
   "cell_type": "code",
   "execution_count": 8,
   "metadata": {},
   "outputs": [
    {
     "name": "stdout",
     "output_type": "stream",
     "text": [
      "[3, 5, 9, 2, 5]\n",
      "[3, 9, 2, 5]\n"
     ]
    }
   ],
   "source": [
    "list_3 = [3, 5, 9, 2, 5]\n",
    "print(list_3)\n",
    "\n",
    "del(list_3[1])\n",
    "\n",
    "print(list_3)"
   ]
  },
  {
   "cell_type": "code",
   "execution_count": 9,
   "metadata": {},
   "outputs": [
    {
     "name": "stdout",
     "output_type": "stream",
     "text": [
      "[4, 5, 6, 1, 2, 3, 7, 8, 9]\n"
     ]
    }
   ],
   "source": [
    "list_1 = [1, 2, 3]\n",
    "list_2 = [4, 5, 6]\n",
    "list_3 = [7, 8, 9]\n",
    "list_4 = list_2 + list_1 + list_3\n",
    "print(list_4)"
   ]
  },
  {
   "cell_type": "code",
   "execution_count": 10,
   "metadata": {},
   "outputs": [
    {
     "data": {
      "text/plain": [
       "[1, 2, 3, 1, 2, 3, 1, 2, 3]"
      ]
     },
     "execution_count": 10,
     "metadata": {},
     "output_type": "execute_result"
    }
   ],
   "source": [
    "list_1 * 3"
   ]
  },
  {
   "cell_type": "code",
   "execution_count": 16,
   "metadata": {},
   "outputs": [
    {
     "name": "stdout",
     "output_type": "stream",
     "text": [
      "Tổng: 45\n"
     ]
    }
   ],
   "source": [
    "list_5 = [4, 5, 6, 1, 2, 3, 7, 8, 9]\n",
    "tong = 0\n",
    "for num in list_5:\n",
    "    tong = tong + num\n",
    "else:\n",
    "    print(\"Tổng:\", tong)"
   ]
  },
  {
   "cell_type": "code",
   "execution_count": 17,
   "metadata": {},
   "outputs": [
    {
     "name": "stdout",
     "output_type": "stream",
     "text": [
      "Tổng: 45\n"
     ]
    }
   ],
   "source": [
    "print(\"Tổng:\", sum(list_5))"
   ]
  },
  {
   "cell_type": "code",
   "execution_count": 19,
   "metadata": {},
   "outputs": [
    {
     "name": "stdout",
     "output_type": "stream",
     "text": [
      "9\n",
      "9\n"
     ]
    }
   ],
   "source": [
    "list_6 = [4, 5, 6, 1, 2, 3, 7, 8, 9]\n",
    "print(list_6[len(list_6) - 1])\n",
    "print(list_6[-1])"
   ]
  },
  {
   "cell_type": "code",
   "execution_count": 20,
   "metadata": {},
   "outputs": [
    {
     "name": "stdout",
     "output_type": "stream",
     "text": [
      "9\n",
      "1\n"
     ]
    }
   ],
   "source": [
    "print(max(list_6))\n",
    "print(min(list_6))"
   ]
  },
  {
   "cell_type": "code",
   "execution_count": 22,
   "metadata": {},
   "outputs": [
    {
     "name": "stdout",
     "output_type": "stream",
     "text": [
      "<class 'tuple'>\n",
      "9\n",
      "1\n"
     ]
    }
   ],
   "source": [
    "list_7 = 4, 5, 6, 1, 2, 3, 7, 8, 9\n",
    "print(type(list_7))\n",
    "print(max(list_7))\n",
    "print(min(list_7))"
   ]
  },
  {
   "cell_type": "code",
   "execution_count": 23,
   "metadata": {},
   "outputs": [
    {
     "name": "stdout",
     "output_type": "stream",
     "text": [
      "Trước: []\n",
      "Sau: ['cat', 'fish']\n"
     ]
    }
   ],
   "source": [
    "list_animals = []\n",
    "print(\"Trước:\", list_animals)\n",
    "\n",
    "list_animals.append(\"cat\")\n",
    "list_animals.append(\"fish\")\n",
    "\n",
    "print(\"Sau:\", list_animals)"
   ]
  },
  {
   "cell_type": "code",
   "execution_count": 24,
   "metadata": {},
   "outputs": [
    {
     "name": "stdout",
     "output_type": "stream",
     "text": [
      "1\n"
     ]
    }
   ],
   "source": [
    "list_6 = [4, 5, 6, 1, 2, 3, 7, 8, 9]\n",
    "print(list_6.count(8))"
   ]
  },
  {
   "cell_type": "code",
   "execution_count": 26,
   "metadata": {},
   "outputs": [
    {
     "name": "stdout",
     "output_type": "stream",
     "text": [
      "[4, 5, 6, 1, 2, 3, 7, 8, 9]\n"
     ]
    }
   ],
   "source": [
    "list_1 = [1, 2, 3]\n",
    "list_2 = [4, 5, 6]\n",
    "list_3 = [7, 8, 9]\n",
    "\n",
    "# [4, 5, 6, 1, 2, 3, 7, 8, 9]\n",
    "list_2.extend(list_1)\n",
    "list_2.extend(list_3)\n",
    "print(list_2)"
   ]
  },
  {
   "cell_type": "code",
   "execution_count": 28,
   "metadata": {},
   "outputs": [
    {
     "name": "stdout",
     "output_type": "stream",
     "text": [
      "2\n"
     ]
    }
   ],
   "source": [
    "list_8 = [4, 5, 6, 1, 2, 3, 7, 8, 9, 6]\n",
    "print(list_8.index(6))"
   ]
  },
  {
   "cell_type": "code",
   "execution_count": 31,
   "metadata": {},
   "outputs": [
    {
     "name": "stdout",
     "output_type": "stream",
     "text": [
      "Trước: ['dog', 'cat', 'fish', 'elephant', 'lion']\n",
      "fish\n",
      "Sau: ['dog', 'cat', 'elephant', 'lion']\n"
     ]
    }
   ],
   "source": [
    "list_animals = ['dog', 'cat', 'fish', 'elephant', 'lion']\n",
    "print(\"Trước:\", list_animals)\n",
    "\n",
    "print(list_animals.pop(2))\n",
    "\n",
    "print(\"Sau:\", list_animals)\n"
   ]
  },
  {
   "cell_type": "code",
   "execution_count": 32,
   "metadata": {},
   "outputs": [
    {
     "name": "stdout",
     "output_type": "stream",
     "text": [
      "Trước: ['dog', 'cat', 'fish', 'elephant', 'lion', 'fish']\n",
      "Sau: ['dog', 'cat', 'elephant', 'lion', 'fish']\n"
     ]
    }
   ],
   "source": [
    "list_animals = ['dog', 'cat', 'fish', 'elephant', 'lion', 'fish']\n",
    "print(\"Trước:\", list_animals)\n",
    "\n",
    "list_animals.remove('fish')\n",
    "\n",
    "print(\"Sau:\", list_animals)"
   ]
  },
  {
   "cell_type": "code",
   "execution_count": 33,
   "metadata": {},
   "outputs": [
    {
     "name": "stdout",
     "output_type": "stream",
     "text": [
      "Trước: ['dog', 'cat', 'fish', 'elephant', 'lion']\n",
      "Sau: ['lion', 'elephant', 'fish', 'cat', 'dog']\n"
     ]
    }
   ],
   "source": [
    "list_animals = ['dog', 'cat', 'fish', 'elephant', 'lion']\n",
    "print(\"Trước:\", list_animals)\n",
    "\n",
    "list_animals.reverse()\n",
    "\n",
    "print(\"Sau:\", list_animals)"
   ]
  },
  {
   "cell_type": "code",
   "execution_count": 39,
   "metadata": {},
   "outputs": [
    {
     "name": "stdout",
     "output_type": "stream",
     "text": [
      "Trước: ['dog', 'cat', 'fish', 'elephant', 'lion']\n",
      "Sau: ['cat', 'dog', 'elephant', 'fish', 'lion']\n"
     ]
    }
   ],
   "source": [
    "# Sắp xếp tăng dần\n",
    "list_animals = ['dog', 'cat', 'fish', 'elephant', 'lion']\n",
    "print(\"Trước:\", list_animals)\n",
    "\n",
    "list_animals.sort()\n",
    "\n",
    "print(\"Sau:\", list_animals)"
   ]
  },
  {
   "cell_type": "code",
   "execution_count": 38,
   "metadata": {},
   "outputs": [
    {
     "name": "stdout",
     "output_type": "stream",
     "text": [
      "Trước: ['dog', 'cat', 'fish', 'elephant', 'lion']\n",
      "Sau: ['lion', 'fish', 'elephant', 'dog', 'cat']\n"
     ]
    }
   ],
   "source": [
    "# Sắp xếp giảm dần\n",
    "list_animals = ['dog', 'cat', 'fish', 'elephant', 'lion']\n",
    "print(\"Trước:\", list_animals)\n",
    "\n",
    "list_animals.sort()\n",
    "list_animals.reverse()\n",
    "\n",
    "print(\"Sau:\", list_animals)"
   ]
  },
  {
   "cell_type": "code",
   "execution_count": 40,
   "metadata": {},
   "outputs": [
    {
     "name": "stdout",
     "output_type": "stream",
     "text": [
      "Trước: ['dog', 'cat', 'fish', 'elephant', 'lion']\n",
      "Sau: ['lion', 'fish', 'elephant', 'dog', 'cat']\n"
     ]
    }
   ],
   "source": [
    "# Sắp xếp giảm dần\n",
    "list_animals = ['dog', 'cat', 'fish', 'elephant', 'lion']\n",
    "print(\"Trước:\", list_animals)\n",
    "\n",
    "list_animals.sort(reverse=True)\n",
    "\n",
    "print(\"Sau:\", list_animals)"
   ]
  },
  {
   "cell_type": "code",
   "execution_count": 54,
   "metadata": {},
   "outputs": [
    {
     "name": "stdout",
     "output_type": "stream",
     "text": [
      "Nhập tháng: 8\n",
      "Nhập năm: 2020\n",
      "Tháng 8 năm 2020 có 31 ngày\n",
      "Năm 2020 là năm nhuận\n",
      "Thứ của ngày cuối cùng trong tháng 8 năm 2020 là Thứ hai\n"
     ]
    }
   ],
   "source": [
    "import calendar\n",
    "\n",
    "# thang = ?\n",
    "# nam = ?\n",
    "\n",
    "# 1. Tháng <thang> năm <nam> có <bao nhiêu> ngày?\n",
    "# 2. Năm <nam> có phải là năm nhuận không?\n",
    "# 3. Thứ của ngày cuối cùng trong tháng <thang>/<nam> là <thứ mấy>?\n",
    "\n",
    "thang = int(input(\"Nhập tháng: \"))\n",
    "nam = int(input(\"Nhập năm: \"))\n",
    "\n",
    "# 1\n",
    "so_ngay = calendar.monthrange(nam, thang)[1]\n",
    "print(\"Tháng %i năm %i có %i ngày\" % (thang, nam, so_ngay))\n",
    "\n",
    "# 2\n",
    "if calendar.isleap(nam):\n",
    "    print(\"Năm %i là năm nhuận\" %nam)\n",
    "else:\n",
    "    print(\"Năm %i không là năm nhuận\" %nam)\n",
    "    \n",
    "# 3\n",
    "thu = calendar.weekday(nam, thang, so_ngay)\n",
    "list_thu = [\"Thứ hai\", \"Thứ ba\", \"Thứ tư\", \"Thứ năm\", \"Thứ sáu\", \"Thứ bảy\", \"Chủ nhật\"]\n",
    "print(\"Thứ của ngày cuối cùng trong tháng %i năm %i là %s\" % (thang, nam, list_thu[thu]))"
   ]
  },
  {
   "cell_type": "code",
   "execution_count": 52,
   "metadata": {},
   "outputs": [
    {
     "name": "stdout",
     "output_type": "stream",
     "text": [
      "       DANH SÁCH CÁC PHIM (6)      \n",
      "----------------------------------------\n",
      "1. Cuốn theo chiều gió\n",
      "2. Chiến tranh và hòa bình\n",
      "3. Titanic\n",
      "4. The bad, the good and the ugly\n",
      "5. Star war\n",
      "6. Iron man\n"
     ]
    }
   ],
   "source": [
    "danhSachPhim = [\"Cuốn theo chiều gió\", \n",
    "                \"Chiến tranh và hòa bình\", \n",
    "                \"Titanic\", \n",
    "                \"The bad, the good and the ugly\", \n",
    "                \"Star war\", \n",
    "                \"Iron man\"]\n",
    "\n",
    "# i = 0\n",
    "# for phim in danhSachPhim:\n",
    "#     i += 1\n",
    "#     print(i)\n",
    "\n",
    "\n",
    "tieu_de = \"DANH SÁCH CÁC PHIM (%i)\" % len(danhSachPhim)\n",
    "print(tieu_de.center(35))\n",
    "print(\"-\" * 40)\n",
    "for phim in danhSachPhim:\n",
    "    stt = danhSachPhim.index(phim) + 1\n",
    "    print(str(stt) + \". \" + phim)\n",
    "    \n",
    "    \n"
   ]
  },
  {
   "cell_type": "code",
   "execution_count": 57,
   "metadata": {},
   "outputs": [
    {
     "name": "stdout",
     "output_type": "stream",
     "text": [
      "\n",
      "Bạn muốn làm gì?\n",
      "1. Hiển thị danh sách phim\n",
      "2. Thêm phim mới\n",
      "3. Cập nhật phim\n",
      "4. Xóa phim\n",
      "Mời bạn chọn: 4\n",
      "\n",
      "Bạn muốn xóa phim nào?\n",
      "Vui lòng nhập STT: 4\n",
      "Phim 'The bad, the good and the ugly' đã được xóa thành công.\n",
      "\n",
      "Bạn có muốn tiếp tục nữa không? (y/n)\n",
      "Mời bạn chọn: y\n",
      "\n",
      "Bạn muốn làm gì?\n",
      "1. Hiển thị danh sách phim\n",
      "2. Thêm phim mới\n",
      "3. Cập nhật phim\n",
      "4. Xóa phim\n",
      "Mời bạn chọn: 1\n",
      "       DANH SÁCH CÁC PHIM (5)      \n",
      "----------------------------------------\n",
      "1. Cuốn theo chiều gió\n",
      "2. Chiến tranh và hòa bình\n",
      "3. Titanic\n",
      "4. Star war\n",
      "5. Iron man\n",
      "\n",
      "Bạn có muốn tiếp tục nữa không? (y/n)\n",
      "Mời bạn chọn: n\n"
     ]
    }
   ],
   "source": [
    "danhSachPhim = [\"Cuốn theo chiều gió\", \n",
    "                \"Chiến tranh và hòa bình\", \n",
    "                \"Titanic\", \n",
    "                \"The bad, the good and the ugly\", \n",
    "                \"Star war\", \n",
    "                \"Iron man\"]\n",
    "\n",
    "dieu_kien = True\n",
    "while dieu_kien:\n",
    "    # ĐIỀU KIỆN 1: CHO NGƯỜI DÙNG CHỌN CHỨC NĂNG\n",
    "    chuc_nang = int(input(\"\\nBạn muốn làm gì?\\n1. Hiển thị danh sách phim\\n2. Thêm phim mới\\n3. Cập nhật phim\\n4. Xóa phim\\nMời bạn chọn: \"))\n",
    "    if chuc_nang == 1:\n",
    "        # Hiển thị danh sách phim\n",
    "        tieu_de = \"DANH SÁCH CÁC PHIM (%i)\" % len(danhSachPhim)\n",
    "        print(tieu_de.center(35))\n",
    "        print(\"-\" * 40)\n",
    "        for phim in danhSachPhim:\n",
    "            stt = danhSachPhim.index(phim) + 1\n",
    "            print(str(stt) + \". \" + phim)\n",
    "        \n",
    "    elif chuc_nang == 2:\n",
    "        # Thêm phim mới\n",
    "        ten_phim = input(\"\\nNhập tên phim: \")\n",
    "        danhSachPhim.append(ten_phim)\n",
    "    \n",
    "    elif chuc_nang == 3:\n",
    "        # Cập nhật phim\n",
    "        stt = int(input(\"\\nBạn muốn cập nhật phim nào?\\nVui lòng nhập STT: \"))\n",
    "        ten_phim = input(\"Nhập tên phim: \")\n",
    "        danhSachPhim[stt - 1] = ten_phim\n",
    "    \n",
    "    elif chuc_nang == 4:\n",
    "        # Xóa phim\n",
    "        stt = int(input(\"\\nBạn muốn xóa phim nào?\\nVui lòng nhập STT: \"))\n",
    "        print(\"Phim '\" + danhSachPhim.pop(stt - 1) + \"' đã được xóa thành công.\")\n",
    "    \n",
    "    else:\n",
    "        print(\"\\nChỉ được chọn 1, 2, 3 hoặc 4.\")\n",
    "        \n",
    "    # ĐIỀU KIỆN 2: HỎI NGƯỜI DÙNG CÓ MUỐN TIẾP TỤC SỬ DỤNG CHỨC NĂNG KHÁC HAY KHÔNG?\n",
    "    tiep_tuc = input(\"\\nBạn có muốn tiếp tục nữa không? (y/n)\\nMời bạn chọn: \").lower()\n",
    "    if tiep_tuc == 'y':\n",
    "        dieu_kien = True\n",
    "    else:\n",
    "        dieu_kien = False\n",
    "    "
   ]
  },
  {
   "cell_type": "code",
   "execution_count": null,
   "metadata": {},
   "outputs": [],
   "source": []
  }
 ],
 "metadata": {
  "kernelspec": {
   "display_name": "Python 3",
   "language": "python",
   "name": "python3"
  },
  "language_info": {
   "codemirror_mode": {
    "name": "ipython",
    "version": 3
   },
   "file_extension": ".py",
   "mimetype": "text/x-python",
   "name": "python",
   "nbconvert_exporter": "python",
   "pygments_lexer": "ipython3",
   "version": "3.6.8"
  }
 },
 "nbformat": 4,
 "nbformat_minor": 2
}
