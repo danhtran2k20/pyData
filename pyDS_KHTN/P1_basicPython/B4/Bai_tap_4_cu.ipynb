{
 "cells": [
  {
   "cell_type": "code",
   "execution_count": 5,
   "metadata": {},
   "outputs": [
    {
     "name": "stdout",
     "output_type": "stream",
     "text": [
      "Nhập a, b, c, d: 23, 54, 23, 45\n",
      "Số max: 54\n"
     ]
    }
   ],
   "source": [
    "# Bài 4.1\n",
    "\n",
    "\n",
    "a, b, c, d = eval(input(\"Nhập a, b, c, d: \"))\n",
    "\n",
    "#Tìm giá trị lớn nhất\n",
    "so_max = a\n",
    "if so_max < b:\n",
    "    so_max = b\n",
    "if so_max < c:\n",
    "    so_max = c\n",
    "if so_max < d:\n",
    "    somax = d\n",
    "print('Số max:', so_max)\n",
    "\n"
   ]
  },
  {
   "cell_type": "code",
   "execution_count": 6,
   "metadata": {},
   "outputs": [
    {
     "name": "stdout",
     "output_type": "stream",
     "text": [
      "Nhập loại xe (chỉ 4 hoặc 7 chỗ): 4\n",
      "Số km di chuyển: 213\n",
      "Thời gian chờ: 10\n",
      "Tiền chờ = (10 - 5) * 750đ = 3750\n",
      "Tiền di chuyển = 2675260.0\n",
      "Tiền cước = 2675260.0 + 3750 = 2679010.0\n"
     ]
    }
   ],
   "source": [
    "# Bài 4.3\n",
    "# Input\n",
    "loai_xe = int(input(\"Nhập loại xe (chỉ 4 hoặc 7 chỗ): \"))\n",
    "so_km = float(input(\"Số km di chuyển: \"))\n",
    "thoi_gian_cho = int(input(\"Thời gian chờ: \"))\n",
    "\n",
    "# Xử lý\n",
    "# Tính tiền chờ\n",
    "tien_cho = 0\n",
    "if thoi_gian_cho > 5:\n",
    "    tien_cho = (thoi_gian_cho - 5) * 750\n",
    "print(\"Tiền chờ = (%i - 5) * 750đ = %i\" % (thoi_gian_cho, tien_cho))\n",
    "\n",
    "# Tính tiền di chuyển\n",
    "if loai_xe == 4:\n",
    "    if so_km <= 0.8:\n",
    "        tien_di_chuyen = 11000\n",
    "    elif so_km <= 31:\n",
    "        tien_di_chuyen = 11000 + (so_km - 0.8) * 15300\n",
    "    else:\n",
    "        tien_di_chuyen = 11000 + (31 - 0.8) * 15300 + (so_km - 31) * 12100\n",
    "    print(\"Tiền di chuyển =\", tien_di_chuyen)\n",
    "    tien_cuoc = tien_di_chuyen + tien_cho\n",
    "    print(\"Tiền cước =\", tien_di_chuyen, \"+\", tien_cho, \"=\", tien_cuoc)\n",
    "elif loai_xe == 7:\n",
    "    pass\n",
    "else:\n",
    "    print(\"Chỉ được nhập 4 hoặc 7.\")"
   ]
  },
  {
   "cell_type": "code",
   "execution_count": null,
   "metadata": {},
   "outputs": [],
   "source": []
  }
 ],
 "metadata": {
  "kernelspec": {
   "display_name": "Python 3",
   "language": "python",
   "name": "python3"
  },
  "language_info": {
   "codemirror_mode": {
    "name": "ipython",
    "version": 3
   },
   "file_extension": ".py",
   "mimetype": "text/x-python",
   "name": "python",
   "nbconvert_exporter": "python",
   "pygments_lexer": "ipython3",
   "version": "3.6.8"
  }
 },
 "nbformat": 4,
 "nbformat_minor": 4
}
