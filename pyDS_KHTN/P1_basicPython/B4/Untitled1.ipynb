{
 "cells": [
  {
   "cell_type": "code",
   "execution_count": null,
   "metadata": {},
   "outputs": [],
   "source": [
    "a=int(input(\"Nhập a: \"))\n",
    "b=int(input(\"Nhập b: \"))\n",
    "\n",
    "if a != 0:\n",
    "    x = -b/a\n",
    "    print(\"Phương trình có 1 nghiệm x =\", x)\n",
    "else:\n",
    "    if b == 0:\n",
    "        print(\"Phương trình có vô số nghiệm\")\n",
    "    else:\n",
    "        print(\"Phương trình vô nghiệm\")"
   ]
  },
  {
   "cell_type": "code",
   "execution_count": null,
   "metadata": {},
   "outputs": [],
   "source": [
    "nam = int(input(\"Nhập năm: \"))\n",
    "if nam % 4 == 0 and nam % 100 != 0:\n",
    "    print(\"Nam %i là năm nhuần. \" %nam)\n",
    "elif nam % 400 == 0:\n",
    "    print(\"Nam %i là năm nhuần. \" %nam)\n",
    "else:\n",
    "    print(\"Nam %i không là năm nhuần. \" %nam)"
   ]
  },
  {
   "cell_type": "code",
   "execution_count": null,
   "metadata": {},
   "outputs": [],
   "source": []
  },
  {
   "cell_type": "code",
   "execution_count": null,
   "metadata": {},
   "outputs": [],
   "source": []
  },
  {
   "cell_type": "code",
   "execution_count": null,
   "metadata": {},
   "outputs": [],
   "source": []
  }
 ],
 "metadata": {
  "kernelspec": {
   "display_name": "Python 3",
   "language": "python",
   "name": "python3"
  },
  "language_info": {
   "codemirror_mode": {
    "name": "ipython",
    "version": 3
   },
   "file_extension": ".py",
   "mimetype": "text/x-python",
   "name": "python",
   "nbconvert_exporter": "python",
   "pygments_lexer": "ipython3",
   "version": "3.6.8"
  }
 },
 "nbformat": 4,
 "nbformat_minor": 4
}
