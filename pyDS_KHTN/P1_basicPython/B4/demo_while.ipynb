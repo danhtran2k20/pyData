{
 "cells": [
  {
   "cell_type": "code",
   "execution_count": null,
   "source": [
    "# Hãy in ra tất cả các ký tự trong chuỗi\r\n",
    "chuoi = 'Hello Python'\r\n",
    "\r\n",
    "\r\n",
    "\r\n"
   ],
   "outputs": [],
   "metadata": {}
  },
  {
   "cell_type": "code",
   "execution_count": 5,
   "source": [
    "# Vòng lặp WHILE\r\n",
    "chuoi = 'Hello Python'\r\n",
    "n = 0\r\n",
    "index_cuoi = len(chuoi) - 1\r\n",
    "while n <= index_cuoi:\r\n",
    "    print(chuoi[n])\r\n",
    "    n +=1 # n = n+1 # bước nhảy (step)\r\n",
    "\r\n",
    "    \r\n",
    "    "
   ],
   "outputs": [
    {
     "output_type": "stream",
     "name": "stdout",
     "text": [
      "H\n",
      "e\n",
      "l\n",
      "l\n",
      "o\n",
      " \n",
      "P\n",
      "y\n",
      "t\n",
      "h\n",
      "o\n",
      "n\n"
     ]
    }
   ],
   "metadata": {}
  },
  {
   "cell_type": "code",
   "execution_count": 13,
   "source": [
    "# Tính tổng các giá trị trong vòng lặp từ 1 đến 10\r\n",
    "\r\n",
    "i = 1\r\n",
    "tong = 0\r\n",
    "while i < 11:\r\n",
    "    tong = tong + i\r\n",
    "    i += 1\r\n",
    "print(tong)"
   ],
   "outputs": [
    {
     "output_type": "stream",
     "name": "stdout",
     "text": [
      "55\n"
     ]
    }
   ],
   "metadata": {}
  },
  {
   "cell_type": "code",
   "execution_count": 1,
   "source": [
    "# Cho người dùng nhập vào 1 số n\r\n",
    "# In ra cửu chương tương ứng\r\n",
    "# VD:\r\n",
    "# n = 5\r\n",
    "# 5 x 1 = 5\r\n",
    "# ....\r\n",
    "# 5 x 10 = 50\r\n",
    "n = int(input('Nhập n: '))\r\n",
    "a = 1\r\n",
    "while a <= 10:\r\n",
    "    print('%a x %a =%a' %(n, a,  n*a ))\r\n",
    "    a +=1"
   ],
   "outputs": [
    {
     "output_type": "stream",
     "name": "stdout",
     "text": [
      "7 x 1 =7\n",
      "7 x 2 =14\n",
      "7 x 3 =21\n",
      "7 x 4 =28\n",
      "7 x 5 =35\n",
      "7 x 6 =42\n",
      "7 x 7 =49\n",
      "7 x 8 =56\n",
      "7 x 9 =63\n",
      "7 x 10 =70\n"
     ]
    }
   ],
   "metadata": {}
  },
  {
   "cell_type": "code",
   "execution_count": 21,
   "source": [
    "# In tam giác vuông cân bằng dấu sao (*)\r\n",
    "\r\n",
    "a = int(input('Nhập chiều dài:'))\r\n",
    "b = int(input('Nhập chiều rộng:'))\r\n",
    "\r\n",
    "\r\n",
    "for i in range(b):\r\n",
    "    print('* ' *a)\r\n"
   ],
   "outputs": [
    {
     "output_type": "stream",
     "name": "stdout",
     "text": [
      "Nhập chiều dài:5\n",
      "Nhập chiều rộng:1\n",
      "* * * * * \n"
     ]
    }
   ],
   "metadata": {}
  },
  {
   "cell_type": "code",
   "execution_count": null,
   "source": [],
   "outputs": [],
   "metadata": {}
  }
 ],
 "metadata": {
  "kernelspec": {
   "name": "python3",
   "display_name": "Python 3.9.7 64-bit"
  },
  "language_info": {
   "codemirror_mode": {
    "name": "ipython",
    "version": 3
   },
   "file_extension": ".py",
   "mimetype": "text/x-python",
   "name": "python",
   "nbconvert_exporter": "python",
   "pygments_lexer": "ipython3",
   "version": "3.9.7"
  },
  "interpreter": {
   "hash": "fe93ddd766552dceea2d7f07abd21060b4ba8b277576c55d124449dd97658de9"
  }
 },
 "nbformat": 4,
 "nbformat_minor": 4
}