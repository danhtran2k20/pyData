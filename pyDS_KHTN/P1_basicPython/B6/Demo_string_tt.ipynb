{
 "cells": [
  {
   "cell_type": "code",
   "execution_count": 12,
   "metadata": {},
   "outputs": [
    {
     "name": "stdout",
     "output_type": "stream",
     "text": [
      "Trung Tâm Tin Học\n",
      "18\n",
      "17\n",
      "Trung Tâm Tin Học\n"
     ]
    }
   ],
   "source": [
    "chuoi = \"trung tâm tin học\"\n",
    "print(chuoi.title())\n",
    "# => Trung Tâm Tin Học\n",
    "\n",
    "cat_chuoi = chuoi.split()   # list: ['trung', 'tâm', 'tin', 'học']\n",
    "# print(cat_chuoi)\n",
    "\n",
    "chuoi_xu_ly = \"\"\n",
    "for phan_tu in cat_chuoi:\n",
    "    chuoi_xu_ly = chuoi_xu_ly + phan_tu.capitalize() + \" \"\n",
    "else:\n",
    "    print(len(chuoi_xu_ly))\n",
    "    print(len(chuoi_xu_ly.strip()))\n",
    "    print(chuoi_xu_ly.strip())"
   ]
  },
  {
   "cell_type": "code",
   "execution_count": 27,
   "metadata": {},
   "outputs": [
    {
     "name": "stdout",
     "output_type": "stream",
     "text": [
      "Họ: Nguyễn\n",
      "Tên: Ba\n",
      "Tên đệm: Thị Bé\n"
     ]
    }
   ],
   "source": [
    "ho_ten = \"Nguyễn Thị Bé Ba\"\n",
    "# Họ: Nguyễn\n",
    "# Tên: Ba\n",
    "# Tên lót: Thị Bé\n",
    "\n",
    "cat_chuoi = ho_ten.split()  # ['Nguyễn', 'Thị', 'Bé', 'Ba']    =>  ['Thị', 'Bé']\n",
    "# print(cat_chuoi)\n",
    "\n",
    "# Họ\n",
    "ho = cat_chuoi[0]\n",
    "print(\"Họ:\", ho)\n",
    "\n",
    "# Tên\n",
    "chieu_dai = len(cat_chuoi)\n",
    "ten = cat_chuoi[chieu_dai - 1]\n",
    "print(\"Tên:\", ten)\n",
    "\n",
    "# # Tên đệm\n",
    "# Cách 1\n",
    "# ten_dem = \"\"\n",
    "# for i in range(1, chieu_dai-1):\n",
    "#     ten_dem += cat_chuoi[i] + \" \"\n",
    "# else:\n",
    "#     print(\"Tên đệm:\", ten_dem.strip())\n",
    "\n",
    "# Cách 2\n",
    "list_con = cat_chuoi[1: chieu_dai-1]  # Lấy list con từ list lớn (giống thao tác trên string)\n",
    "ten_dem = \" \".join(list_con)\n",
    "print(\"Tên đệm:\", ten_dem)"
   ]
  },
  {
   "cell_type": "code",
   "execution_count": null,
   "metadata": {},
   "outputs": [],
   "source": []
  }
 ],
 "metadata": {
  "kernelspec": {
   "display_name": "Python 3",
   "language": "python",
   "name": "python3"
  },
  "language_info": {
   "codemirror_mode": {
    "name": "ipython",
    "version": 3
   },
   "file_extension": ".py",
   "mimetype": "text/x-python",
   "name": "python",
   "nbconvert_exporter": "python",
   "pygments_lexer": "ipython3",
   "version": "3.6.8"
  }
 },
 "nbformat": 4,
 "nbformat_minor": 2
}
