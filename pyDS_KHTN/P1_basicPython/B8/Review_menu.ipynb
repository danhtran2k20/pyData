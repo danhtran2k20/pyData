{
 "cells": [
  {
   "cell_type": "code",
   "execution_count": 1,
   "metadata": {},
   "outputs": [
    {
     "name": "stdout",
     "output_type": "stream",
     "text": [
      "Đang trong vòng lặp\n",
      "Tiếp tục nữa không? (y/n)\n",
      "=> y\n",
      "Đang trong vòng lặp\n",
      "Tiếp tục nữa không? (y/n)\n",
      "=> y\n",
      "Đang trong vòng lặp\n",
      "Tiếp tục nữa không? (y/n)\n",
      "=> n\n"
     ]
    }
   ],
   "source": [
    "dieu_kien = True\n",
    "while dieu_kien:\n",
    "    print(\"Đang trong vòng lặp\")\n",
    "    \n",
    "    tiep_tuc = input(\"Tiếp tục nữa không? (y/n)\\n=> \").lower()\n",
    "    if tiep_tuc == 'y':\n",
    "        dieu_kien = True\n",
    "    else:\n",
    "        dieu_kien = False"
   ]
  },
  {
   "cell_type": "code",
   "execution_count": null,
   "metadata": {},
   "outputs": [],
   "source": [
    "dieu_kien = 'y'\n",
    "while dieu_kien == 'y':\n",
    "    print(\"Đang trong vòng lặp\")\n",
    "    \n",
    "    dieu_kien = input(\"Tiếp tục nữa không? (y/n)\\n=> \").lower()"
   ]
  }
 ],
 "metadata": {
  "kernelspec": {
   "display_name": "Python 3",
   "language": "python",
   "name": "python3"
  },
  "language_info": {
   "codemirror_mode": {
    "name": "ipython",
    "version": 3
   },
   "file_extension": ".py",
   "mimetype": "text/x-python",
   "name": "python",
   "nbconvert_exporter": "python",
   "pygments_lexer": "ipython3",
   "version": "3.6.8"
  }
 },
 "nbformat": 4,
 "nbformat_minor": 2
}
