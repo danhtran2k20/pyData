{
 "cells": [
  {
   "cell_type": "code",
   "execution_count": 3,
   "metadata": {},
   "outputs": [
    {
     "name": "stdout",
     "output_type": "stream",
     "text": [
      "{'one': 1, 'two': 2, 'three': 3, 'four': 4, 'five': 5}\n",
      "<class 'dict'>\n",
      "5\n"
     ]
    }
   ],
   "source": [
    "dict_nums = {'one': 1, 'two': 2, 'three': 3, 'four': 4, 'five': 5}\n",
    "print(dict_nums)\n",
    "print(type(dict_nums))\n",
    "print(len(dict_nums))"
   ]
  },
  {
   "cell_type": "code",
   "execution_count": 4,
   "metadata": {},
   "outputs": [
    {
     "name": "stdout",
     "output_type": "stream",
     "text": [
      "{'one': 1, 'two': 6, 'three': 3, 'four': 4, 'five': 5}\n",
      "<class 'dict'>\n",
      "5\n"
     ]
    }
   ],
   "source": [
    "dict_nums = {'one': 1, 'two': 2, 'three': 3, 'four': 4, 'five': 5, 'two': 6}\n",
    "print(dict_nums)\n",
    "print(type(dict_nums))\n",
    "print(len(dict_nums))"
   ]
  },
  {
   "cell_type": "code",
   "execution_count": 6,
   "metadata": {},
   "outputs": [
    {
     "name": "stdout",
     "output_type": "stream",
     "text": [
      "{'one': 1, 'two': 2, 'three': 3, 'four': 4, 'five': 5}\n",
      "{'two': 2, 'three': 3, 'four': 4, 'five': 5}\n"
     ]
    }
   ],
   "source": [
    "dict_nums = {'one': 1, 'two': 2, 'three': 3, 'four': 4, 'five': 5}\n",
    "print(dict_nums)\n",
    "\n",
    "del dict_nums['one']\n",
    "\n",
    "print(dict_nums)"
   ]
  },
  {
   "cell_type": "code",
   "execution_count": 8,
   "metadata": {},
   "outputs": [
    {
     "name": "stdout",
     "output_type": "stream",
     "text": [
      "{'one': 1, 'two': 2, 'three': 3, 'four': 4, 'five': 5}\n",
      "{}\n"
     ]
    }
   ],
   "source": [
    "dict_nums = {'one': 1, 'two': 2, 'three': 3, 'four': 4, 'five': 5}\n",
    "print(dict_nums)\n",
    "\n",
    "dict_nums.clear()\n",
    "\n",
    "print(dict_nums)"
   ]
  },
  {
   "cell_type": "code",
   "execution_count": 12,
   "metadata": {},
   "outputs": [
    {
     "name": "stdout",
     "output_type": "stream",
     "text": [
      "Dict 1 {'one': 1, 'two': 2, 'three': 3, 'four': 4, 'five': 5}\n",
      "Dict 2 {'one': 100, 'two': 2, 'three': 3, 'four': 4, 'five': 5}\n",
      "Dict 1 {'one': 100, 'two': 2, 'three': 3, 'four': 4, 'five': 5}\n"
     ]
    }
   ],
   "source": [
    "dict_nums_1 = {'one': 1, 'two': 2, 'three': 3, 'four': 4, 'five': 5}\n",
    "print(\"Dict 1\", dict_nums_1)\n",
    "\n",
    "dict_nums_2 = dict_nums_1\n",
    "dict_nums_2['one'] = 100\n",
    "print(\"Dict 2\", dict_nums_2)\n",
    "\n",
    "\n",
    "print(\"Dict 1\", dict_nums_1)"
   ]
  },
  {
   "cell_type": "code",
   "execution_count": 15,
   "metadata": {},
   "outputs": [
    {
     "name": "stdout",
     "output_type": "stream",
     "text": [
      "Dict 1 {'one': 1, 'two': 2, 'three': 3, 'four': 4, 'five': 5}\n",
      "Dict 2 {'one': 100, 'two': 2, 'three': 3, 'four': 4, 'five': 5}\n",
      "Dict 1 {'one': 1, 'two': 2, 'three': 3, 'four': 4, 'five': 5}\n"
     ]
    }
   ],
   "source": [
    "dict_nums_1 = {'one': 1, 'two': 2, 'three': 3, 'four': 4, 'five': 5}\n",
    "print(\"Dict 1\", dict_nums_1)\n",
    "\n",
    "dict_nums_2 = dict_nums_1.copy()\n",
    "dict_nums_2['one'] = 100\n",
    "print(\"Dict 2\", dict_nums_2)\n",
    "\n",
    "\n",
    "print(\"Dict 1\", dict_nums_1)"
   ]
  },
  {
   "cell_type": "code",
   "execution_count": 19,
   "metadata": {},
   "outputs": [
    {
     "name": "stdout",
     "output_type": "stream",
     "text": [
      "{1: 'abc', 2: 'abc', 3: 'abc', 4: 'abc', 5: 'abc'}\n"
     ]
    }
   ],
   "source": [
    "list_so = [1, 2, 3, 4, 5]\n",
    "dict_1 = dict.fromkeys(list_so, \"abc\")\n",
    "print(dict_1)"
   ]
  },
  {
   "cell_type": "code",
   "execution_count": 20,
   "metadata": {},
   "outputs": [
    {
     "name": "stdout",
     "output_type": "stream",
     "text": [
      "3\n",
      "3\n"
     ]
    }
   ],
   "source": [
    "dict_nums = {'one': 1, 'two': 2, 'three': 3, 'four': 4, 'five': 5}\n",
    "print(dict_nums['three'])\n",
    "print(dict_nums.get('three'))"
   ]
  },
  {
   "cell_type": "code",
   "execution_count": 24,
   "metadata": {},
   "outputs": [
    {
     "name": "stdout",
     "output_type": "stream",
     "text": [
      "[('one', 1), ('two', 2), ('three', 3), ('four', 4), ('five', 5)]\n",
      "('three', 3)\n"
     ]
    }
   ],
   "source": [
    "dict_nums = {'one': 1, 'two': 2, 'three': 3, 'four': 4, 'five': 5}\n",
    "a = list(dict_nums.items())\n",
    "print(a)\n",
    "print(a[2])"
   ]
  },
  {
   "cell_type": "code",
   "execution_count": 27,
   "metadata": {
    "scrolled": true
   },
   "outputs": [
    {
     "name": "stdout",
     "output_type": "stream",
     "text": [
      "one - 1\n",
      "two - 2\n",
      "three - 3\n",
      "four - 4\n",
      "five - 5\n"
     ]
    }
   ],
   "source": [
    "dict_nums = {'one': 1, 'two': 2, 'three': 3, 'four': 4, 'five': 5}\n",
    "\n",
    "for key in dict_nums:\n",
    "    print(key, '-', dict_nums[key])"
   ]
  },
  {
   "cell_type": "code",
   "execution_count": 30,
   "metadata": {},
   "outputs": [
    {
     "name": "stdout",
     "output_type": "stream",
     "text": [
      "one - 1\n",
      "two - 2\n",
      "three - 3\n",
      "four - 4\n",
      "five - 5\n"
     ]
    }
   ],
   "source": [
    "dict_nums = {'one': 1, 'two': 2, 'three': 3, 'four': 4, 'five': 5}\n",
    "\n",
    "for key, value in dict_nums.items():\n",
    "    print(key, '-', value)"
   ]
  },
  {
   "cell_type": "code",
   "execution_count": null,
   "metadata": {},
   "outputs": [],
   "source": []
  }
 ],
 "metadata": {
  "kernelspec": {
   "display_name": "Python 3",
   "language": "python",
   "name": "python3"
  },
  "language_info": {
   "codemirror_mode": {
    "name": "ipython",
    "version": 3
   },
   "file_extension": ".py",
   "mimetype": "text/x-python",
   "name": "python",
   "nbconvert_exporter": "python",
   "pygments_lexer": "ipython3",
   "version": "3.6.8"
  }
 },
 "nbformat": 4,
 "nbformat_minor": 2
}
