{
 "cells": [
  {
   "cell_type": "code",
   "execution_count": 4,
   "metadata": {},
   "outputs": [
    {
     "name": "stdout",
     "output_type": "stream",
     "text": [
      "Bạn muốn làm gì?\n",
      "1. Xem danh bạ\n",
      "2. Tìm kiếm\n",
      "3. Thêm mới\n",
      "Chọn: 3\n",
      "Nhập tên: abc\n",
      "Nhập số điện thoại: 012\n",
      "Tiếp tục lựa chọn? (1. Có   0. Không)\n",
      "Chọn: 1\n",
      "Bạn muốn làm gì?\n",
      "1. Xem danh bạ\n",
      "2. Tìm kiếm\n",
      "3. Thêm mới\n",
      "Chọn: 1\n",
      "TÊN                 SĐT            \n",
      "----------------------------------------\n",
      "Johnny              0989741258     \n",
      "Katherine           0903852147     \n",
      "Misu                0913753951     \n",
      "Jack                0933753654     \n",
      "abc                 012            \n",
      "Tiếp tục lựa chọn? (1. Có   0. Không)\n",
      "Chọn: 0\n"
     ]
    }
   ],
   "source": [
    "danh_ba = {'Johnny': '0989741258', 'Katherine': '0903852147', 'Misu': '0913753951', 'Jack': '0933753654'}\n",
    "\n",
    "tiep_tuc = 1\n",
    "while tiep_tuc == 1:\n",
    "    chuc_nang = int(input(\"Bạn muốn làm gì?\\n1. Xem danh bạ\\n2. Tìm kiếm\\n3. Thêm mới\\nChọn: \"))\n",
    "    if chuc_nang == 1:\n",
    "        # Xem danh bạ\n",
    "        #for ten, sdt in danh_ba.items():\n",
    "        #    print(ten, '--', sdt)\n",
    "        \n",
    "        tieu_de = \"TÊN\".ljust(20) + \"SĐT\".ljust(15)\n",
    "        print(tieu_de)\n",
    "        print(\"-\" * 40)\n",
    "        for ten, sdt in danh_ba.items():\n",
    "            print(ten.ljust(20) + sdt.ljust(15))\n",
    "            \n",
    "    elif chuc_nang == 2:\n",
    "        ten = input(\"Nhập tên cần tìm: \")\n",
    "        if ten in danh_ba:  # Toán tử thành phần (in) tìm theo key\n",
    "            print(\"%s có số điện thoại là: %s\" % (ten, danh_ba[ten]))\n",
    "        else:\n",
    "            print(\"%s không tồn tại trong danh bạ\" % ten)\n",
    "        \n",
    "    elif chuc_nang == 3:\n",
    "        # Thêm mới\n",
    "        ten = input(\"Nhập tên: \")\n",
    "        if ten in danh_ba:\n",
    "            print(\"%s đã tồn tại trong danh bạ. Không thêm được\" % ten)\n",
    "        else:\n",
    "            sdt = input(\"Nhập số điện thoại: \")\n",
    "            \n",
    "            # Cách 1\n",
    "            # danh_ba[ten] = sdt\n",
    "            \n",
    "            # Cách 2\n",
    "            danh_ba_moi = {ten: sdt}\n",
    "            danh_ba.update(danh_ba_moi)\n",
    "        \n",
    "    else:\n",
    "        print(\"\\nChỉ được chọn 1, 2 hoặc 3.\")\n",
    "    \n",
    "    tiep_tuc = int(input(\"Tiếp tục lựa chọn? (1. Có   0. Không)\\nChọn: \"))"
   ]
  },
  {
   "cell_type": "code",
   "execution_count": null,
   "metadata": {},
   "outputs": [],
   "source": []
  }
 ],
 "metadata": {
  "kernelspec": {
   "display_name": "Python 3",
   "language": "python",
   "name": "python3"
  },
  "language_info": {
   "codemirror_mode": {
    "name": "ipython",
    "version": 3
   },
   "file_extension": ".py",
   "mimetype": "text/x-python",
   "name": "python",
   "nbconvert_exporter": "python",
   "pygments_lexer": "ipython3",
   "version": "3.6.8"
  }
 },
 "nbformat": 4,
 "nbformat_minor": 2
}
