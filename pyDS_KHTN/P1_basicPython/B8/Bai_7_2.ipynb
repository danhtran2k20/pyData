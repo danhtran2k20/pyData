{
 "cells": [
  {
   "cell_type": "code",
   "execution_count": 3,
   "metadata": {},
   "outputs": [
    {
     "name": "stdout",
     "output_type": "stream",
     "text": [
      "Nhập giá trị: 8\n",
      "Tiếp tục nhập giá trị?\t1. Có\t0. Không\t1\n",
      "Nhập giá trị: 7\n",
      "Tiếp tục nhập giá trị?\t1. Có\t0. Không\t1\n",
      "Nhập giá trị: 10\n",
      "Tiếp tục nhập giá trị?\t1. Có\t0. Không\t1\n",
      "Nhập giá trị: 15\n",
      "Tiếp tục nhập giá trị?\t1. Có\t0. Không\t1\n",
      "Nhập giá trị: 50\n",
      "Tiếp tục nhập giá trị?\t1. Có\t0. Không\t1\n",
      "Nhập giá trị: 1\n",
      "Tiếp tục nhập giá trị?\t1. Có\t0. Không\t1\n",
      "Nhập giá trị: 6\n",
      "Tiếp tục nhập giá trị?\t1. Có\t0. Không\t0\n",
      "--------------------------------------------------\n",
      "List số: [8, 7, 10, 15, 50, 1, 6]\n",
      "--------------------------------------------------\n",
      "Tổng các phần tử: 97\n",
      "Tổng các phần tử: 97\n",
      "--------------------------------------------------\n",
      "Nhập x: 7\n",
      "--------------------------------------------------\n",
      "7 có xuất hiện trong list.\n",
      "7 xuất hiện 1 lần trong list\n",
      "--------------------------------------------------\n",
      "7 không lớn hơn tất cả các số trong list\n",
      "Danh sách số lớn hơn x: [8, 10, 15, 50]\n"
     ]
    }
   ],
   "source": [
    "list_so = []\n",
    "\n",
    "# Tạo list\n",
    "dieu_kien = 1\n",
    "while dieu_kien == 1:\n",
    "    gia_tri = int(input(\"Nhập giá trị: \"))\n",
    "    list_so.append(gia_tri)\n",
    "    dieu_kien = int(input(\"Tiếp tục nhập giá trị?\\t1. Có\\t0. Không\\t\"))\n",
    "else:\n",
    "    print(\"-\" * 50)\n",
    "    # Hiển thị list\n",
    "    print(\"List số:\", list_so)\n",
    "    \n",
    "    print(\"-\" * 50)\n",
    "    # Tính tổng các phần tử trong list\n",
    "    # Cách 1: SUM\n",
    "    print(\"Tổng các phần tử:\", sum(list_so))\n",
    "    \n",
    "    # Cách 2: thực hiện bằng for\n",
    "    tong = 0\n",
    "    for so in list_so:\n",
    "        tong += so\n",
    "    else:\n",
    "        print(\"Tổng các phần tử:\", tong)\n",
    "    \n",
    "    print(\"-\" * 50)\n",
    "    # Nhập vào một số x\n",
    "    x = int(input(\"Nhập x: \"))\n",
    "    \n",
    "    print(\"-\" * 50)\n",
    "    # x có xuất hiện trong list hay không không? Nếu có thì cho biết x xuất hiện bao nhiêu lần?\n",
    "    if x in list_so:\n",
    "        print(\"%i có xuất hiện trong list.\" % x)\n",
    "        print(\"%i xuất hiện %i lần trong list\" % (x, list_so.count(x)))\n",
    "    else:\n",
    "        print(\"%i không xuất hiện trong list.\" % x)\n",
    "        \n",
    "    print(\"-\" * 50)\n",
    "    # x có lớn hơn tất cả các số trong list không?\n",
    "    so_max = max(list_so)\n",
    "    if x < so_max:\n",
    "        print(\"%i không lớn hơn tất cả các số trong list\" % x)\n",
    "        \n",
    "        # Nếu không thì x nhỏ hơn những số nào trong list? (In ra tất cả các số lớn hơn x)\n",
    "        list_so_lon_hon_x = []\n",
    "        for so in list_so:\n",
    "            if so > x:\n",
    "                list_so_lon_hon_x.append(so)\n",
    "        else:\n",
    "            print(\"Danh sách số lớn hơn x:\", list_so_lon_hon_x)\n",
    "            \n",
    "    else:\n",
    "        print(\"%i lớn hơn tất cả các số trong list\" % x)"
   ]
  },
  {
   "cell_type": "code",
   "execution_count": null,
   "metadata": {},
   "outputs": [],
   "source": []
  }
 ],
 "metadata": {
  "kernelspec": {
   "display_name": "Python 3",
   "language": "python",
   "name": "python3"
  },
  "language_info": {
   "codemirror_mode": {
    "name": "ipython",
    "version": 3
   },
   "file_extension": ".py",
   "mimetype": "text/x-python",
   "name": "python",
   "nbconvert_exporter": "python",
   "pygments_lexer": "ipython3",
   "version": "3.6.8"
  }
 },
 "nbformat": 4,
 "nbformat_minor": 2
}
