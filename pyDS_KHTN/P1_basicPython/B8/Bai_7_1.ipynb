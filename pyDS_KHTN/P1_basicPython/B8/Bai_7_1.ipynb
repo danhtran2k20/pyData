{
 "cells": [
  {
   "cell_type": "code",
   "execution_count": 3,
   "metadata": {},
   "outputs": [
    {
     "name": "stdout",
     "output_type": "stream",
     "text": [
      "Danh sách thú: ['ant', 'bear', 'cat', 'dog', 'elephant', 'fish', 'goat', 'hippo']\n",
      "Nhập thú cần tìm: ant\n",
      "Tìm thấy 'ant' có trong danh sách tại vị trí 1.\n"
     ]
    }
   ],
   "source": [
    "list_animals = [\"ant\", \"bear\", \"cat\", \"dog\", \"elephant\", \"fish\", \"goat\", \"hippo\"]\n",
    "print(\"Danh sách thú:\", list_animals)\n",
    "\n",
    "animal = input(\"Nhập thú cần tìm: \")\n",
    "if animal in list_animals:\n",
    "    print(\"Tìm thấy '\" + animal + \"' có trong danh sách tại vị trí \" + str(list_animals.index(animal) + 1) + \".\")\n",
    "else:\n",
    "    print(\"Không tìm thấy '\" + animal + \"' có trong danh sách.\")"
   ]
  },
  {
   "cell_type": "code",
   "execution_count": null,
   "metadata": {},
   "outputs": [],
   "source": []
  }
 ],
 "metadata": {
  "kernelspec": {
   "display_name": "Python 3",
   "language": "python",
   "name": "python3"
  },
  "language_info": {
   "codemirror_mode": {
    "name": "ipython",
    "version": 3
   },
   "file_extension": ".py",
   "mimetype": "text/x-python",
   "name": "python",
   "nbconvert_exporter": "python",
   "pygments_lexer": "ipython3",
   "version": "3.6.8"
  }
 },
 "nbformat": 4,
 "nbformat_minor": 2
}
