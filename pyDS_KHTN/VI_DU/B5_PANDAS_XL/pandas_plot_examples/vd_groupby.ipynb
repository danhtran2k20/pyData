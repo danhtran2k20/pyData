{
 "cells": [
  {
   "cell_type": "code",
   "execution_count": 42,
   "metadata": {},
   "outputs": [],
   "source": [
    "import numpy as np\n",
    "import pandas as pd"
   ]
  },
  {
   "cell_type": "code",
   "execution_count": 43,
   "metadata": {},
   "outputs": [],
   "source": [
    "df_emp = pd.read_excel('employees.xls')"
   ]
  },
  {
   "cell_type": "code",
   "execution_count": 44,
   "metadata": {},
   "outputs": [
    {
     "name": "stdout",
     "output_type": "stream",
     "text": [
      "WARNING *** OLE2 inconsistency: SSCS size is 0 but SSAT size is non-zero\n"
     ]
    }
   ],
   "source": [
    "df_dep = pd.read_excel('departments.xls')"
   ]
  },
  {
   "cell_type": "code",
   "execution_count": 45,
   "metadata": {},
   "outputs": [
    {
     "data": {
      "text/plain": [
       "(107, 11)"
      ]
     },
     "execution_count": 45,
     "metadata": {},
     "output_type": "execute_result"
    }
   ],
   "source": [
    "df_emp.shape"
   ]
  },
  {
   "cell_type": "code",
   "execution_count": 46,
   "metadata": {},
   "outputs": [
    {
     "data": {
      "text/html": [
       "<div>\n",
       "<style scoped>\n",
       "    .dataframe tbody tr th:only-of-type {\n",
       "        vertical-align: middle;\n",
       "    }\n",
       "\n",
       "    .dataframe tbody tr th {\n",
       "        vertical-align: top;\n",
       "    }\n",
       "\n",
       "    .dataframe thead th {\n",
       "        text-align: right;\n",
       "    }\n",
       "</style>\n",
       "<table border=\"1\" class=\"dataframe\">\n",
       "  <thead>\n",
       "    <tr style=\"text-align: right;\">\n",
       "      <th></th>\n",
       "      <th>EMPLOYEE_ID</th>\n",
       "      <th>FIRST_NAME</th>\n",
       "      <th>LAST_NAME</th>\n",
       "      <th>EMAIL</th>\n",
       "      <th>PHONE_NUMBER</th>\n",
       "      <th>HIRE_DATE</th>\n",
       "      <th>JOB_ID</th>\n",
       "      <th>SALARY</th>\n",
       "      <th>COMMISSION_PCT</th>\n",
       "      <th>MANAGER_ID</th>\n",
       "      <th>DEPARTMENT_ID</th>\n",
       "    </tr>\n",
       "  </thead>\n",
       "  <tbody>\n",
       "    <tr>\n",
       "      <th>0</th>\n",
       "      <td>100</td>\n",
       "      <td>Steven</td>\n",
       "      <td>King</td>\n",
       "      <td>SKING</td>\n",
       "      <td>515.123.4567</td>\n",
       "      <td>2003-06-17 00:00:00</td>\n",
       "      <td>AD_PRES</td>\n",
       "      <td>24000</td>\n",
       "      <td>NaN</td>\n",
       "      <td>NaN</td>\n",
       "      <td>90.0</td>\n",
       "    </tr>\n",
       "    <tr>\n",
       "      <th>1</th>\n",
       "      <td>101</td>\n",
       "      <td>Neena</td>\n",
       "      <td>Kochhar</td>\n",
       "      <td>NKOCHHAR</td>\n",
       "      <td>515.123.4568</td>\n",
       "      <td>2005-09-21 00:00:00</td>\n",
       "      <td>AD_VP</td>\n",
       "      <td>17000</td>\n",
       "      <td>NaN</td>\n",
       "      <td>100.0</td>\n",
       "      <td>90.0</td>\n",
       "    </tr>\n",
       "    <tr>\n",
       "      <th>2</th>\n",
       "      <td>102</td>\n",
       "      <td>Lex</td>\n",
       "      <td>De Haan</td>\n",
       "      <td>LDEHAAN</td>\n",
       "      <td>515.123.4569</td>\n",
       "      <td>2001-01-13 00:00:00</td>\n",
       "      <td>AD_VP</td>\n",
       "      <td>17000</td>\n",
       "      <td>NaN</td>\n",
       "      <td>100.0</td>\n",
       "      <td>90.0</td>\n",
       "    </tr>\n",
       "    <tr>\n",
       "      <th>3</th>\n",
       "      <td>103</td>\n",
       "      <td>Alexander</td>\n",
       "      <td>Hunold</td>\n",
       "      <td>AHUNOLD</td>\n",
       "      <td>590.423.4567</td>\n",
       "      <td>2006-01-03 00:00:00</td>\n",
       "      <td>IT_PROG</td>\n",
       "      <td>9000</td>\n",
       "      <td>NaN</td>\n",
       "      <td>102.0</td>\n",
       "      <td>60.0</td>\n",
       "    </tr>\n",
       "    <tr>\n",
       "      <th>4</th>\n",
       "      <td>104</td>\n",
       "      <td>Bruce</td>\n",
       "      <td>Ernst</td>\n",
       "      <td>BERNST</td>\n",
       "      <td>590.423.4568</td>\n",
       "      <td>2007-05-21 00:00:00</td>\n",
       "      <td>IT_PROG</td>\n",
       "      <td>6000</td>\n",
       "      <td>NaN</td>\n",
       "      <td>103.0</td>\n",
       "      <td>60.0</td>\n",
       "    </tr>\n",
       "  </tbody>\n",
       "</table>\n",
       "</div>"
      ],
      "text/plain": [
       "   EMPLOYEE_ID FIRST_NAME LAST_NAME     EMAIL  PHONE_NUMBER  \\\n",
       "0          100     Steven      King     SKING  515.123.4567   \n",
       "1          101      Neena   Kochhar  NKOCHHAR  515.123.4568   \n",
       "2          102        Lex   De Haan   LDEHAAN  515.123.4569   \n",
       "3          103  Alexander    Hunold   AHUNOLD  590.423.4567   \n",
       "4          104      Bruce     Ernst    BERNST  590.423.4568   \n",
       "\n",
       "             HIRE_DATE   JOB_ID  SALARY  COMMISSION_PCT  MANAGER_ID  \\\n",
       "0  2003-06-17 00:00:00  AD_PRES   24000             NaN         NaN   \n",
       "1  2005-09-21 00:00:00    AD_VP   17000             NaN       100.0   \n",
       "2  2001-01-13 00:00:00    AD_VP   17000             NaN       100.0   \n",
       "3  2006-01-03 00:00:00  IT_PROG    9000             NaN       102.0   \n",
       "4  2007-05-21 00:00:00  IT_PROG    6000             NaN       103.0   \n",
       "\n",
       "   DEPARTMENT_ID  \n",
       "0           90.0  \n",
       "1           90.0  \n",
       "2           90.0  \n",
       "3           60.0  \n",
       "4           60.0  "
      ]
     },
     "execution_count": 46,
     "metadata": {},
     "output_type": "execute_result"
    }
   ],
   "source": [
    "df_emp.head()"
   ]
  },
  {
   "cell_type": "code",
   "execution_count": 47,
   "metadata": {},
   "outputs": [
    {
     "data": {
      "text/plain": [
       "DEPARTMENT_ID\n",
       "10.0      4400.000000\n",
       "20.0      9500.000000\n",
       "30.0      4150.000000\n",
       "40.0      6500.000000\n",
       "50.0      3475.555556\n",
       "60.0      5760.000000\n",
       "70.0     10000.000000\n",
       "80.0      8955.882353\n",
       "90.0     19333.333333\n",
       "100.0     8601.333333\n",
       "110.0    10154.000000\n",
       "Name: SALARY, dtype: float64"
      ]
     },
     "execution_count": 47,
     "metadata": {},
     "output_type": "execute_result"
    }
   ],
   "source": [
    "df_emp.groupby('DEPARTMENT_ID')['SALARY'].mean()"
   ]
  },
  {
   "cell_type": "code",
   "execution_count": 48,
   "metadata": {},
   "outputs": [
    {
     "data": {
      "text/html": [
       "<div>\n",
       "<style scoped>\n",
       "    .dataframe tbody tr th:only-of-type {\n",
       "        vertical-align: middle;\n",
       "    }\n",
       "\n",
       "    .dataframe tbody tr th {\n",
       "        vertical-align: top;\n",
       "    }\n",
       "\n",
       "    .dataframe thead th {\n",
       "        text-align: right;\n",
       "    }\n",
       "</style>\n",
       "<table border=\"1\" class=\"dataframe\">\n",
       "  <thead>\n",
       "    <tr style=\"text-align: right;\">\n",
       "      <th></th>\n",
       "      <th>DEPARTMENT_ID</th>\n",
       "      <th>SALARY</th>\n",
       "    </tr>\n",
       "  </thead>\n",
       "  <tbody>\n",
       "    <tr>\n",
       "      <th>0</th>\n",
       "      <td>10.0</td>\n",
       "      <td>4400.000000</td>\n",
       "    </tr>\n",
       "    <tr>\n",
       "      <th>1</th>\n",
       "      <td>20.0</td>\n",
       "      <td>9500.000000</td>\n",
       "    </tr>\n",
       "    <tr>\n",
       "      <th>2</th>\n",
       "      <td>30.0</td>\n",
       "      <td>4150.000000</td>\n",
       "    </tr>\n",
       "    <tr>\n",
       "      <th>3</th>\n",
       "      <td>40.0</td>\n",
       "      <td>6500.000000</td>\n",
       "    </tr>\n",
       "    <tr>\n",
       "      <th>4</th>\n",
       "      <td>50.0</td>\n",
       "      <td>3475.555556</td>\n",
       "    </tr>\n",
       "    <tr>\n",
       "      <th>5</th>\n",
       "      <td>60.0</td>\n",
       "      <td>5760.000000</td>\n",
       "    </tr>\n",
       "    <tr>\n",
       "      <th>6</th>\n",
       "      <td>70.0</td>\n",
       "      <td>10000.000000</td>\n",
       "    </tr>\n",
       "    <tr>\n",
       "      <th>7</th>\n",
       "      <td>80.0</td>\n",
       "      <td>8955.882353</td>\n",
       "    </tr>\n",
       "    <tr>\n",
       "      <th>8</th>\n",
       "      <td>90.0</td>\n",
       "      <td>19333.333333</td>\n",
       "    </tr>\n",
       "    <tr>\n",
       "      <th>9</th>\n",
       "      <td>100.0</td>\n",
       "      <td>8601.333333</td>\n",
       "    </tr>\n",
       "    <tr>\n",
       "      <th>10</th>\n",
       "      <td>110.0</td>\n",
       "      <td>10154.000000</td>\n",
       "    </tr>\n",
       "  </tbody>\n",
       "</table>\n",
       "</div>"
      ],
      "text/plain": [
       "    DEPARTMENT_ID        SALARY\n",
       "0            10.0   4400.000000\n",
       "1            20.0   9500.000000\n",
       "2            30.0   4150.000000\n",
       "3            40.0   6500.000000\n",
       "4            50.0   3475.555556\n",
       "5            60.0   5760.000000\n",
       "6            70.0  10000.000000\n",
       "7            80.0   8955.882353\n",
       "8            90.0  19333.333333\n",
       "9           100.0   8601.333333\n",
       "10          110.0  10154.000000"
      ]
     },
     "execution_count": 48,
     "metadata": {},
     "output_type": "execute_result"
    }
   ],
   "source": [
    "df_emp.groupby('DEPARTMENT_ID')['SALARY'].mean().reset_index()"
   ]
  },
  {
   "cell_type": "code",
   "execution_count": 49,
   "metadata": {},
   "outputs": [
    {
     "data": {
      "text/html": [
       "<div>\n",
       "<style scoped>\n",
       "    .dataframe tbody tr th:only-of-type {\n",
       "        vertical-align: middle;\n",
       "    }\n",
       "\n",
       "    .dataframe tbody tr th {\n",
       "        vertical-align: top;\n",
       "    }\n",
       "\n",
       "    .dataframe thead th {\n",
       "        text-align: right;\n",
       "    }\n",
       "</style>\n",
       "<table border=\"1\" class=\"dataframe\">\n",
       "  <thead>\n",
       "    <tr style=\"text-align: right;\">\n",
       "      <th></th>\n",
       "      <th>count</th>\n",
       "      <th>sum</th>\n",
       "      <th>mean</th>\n",
       "      <th>min</th>\n",
       "      <th>max</th>\n",
       "    </tr>\n",
       "    <tr>\n",
       "      <th>DEPARTMENT_ID</th>\n",
       "      <th></th>\n",
       "      <th></th>\n",
       "      <th></th>\n",
       "      <th></th>\n",
       "      <th></th>\n",
       "    </tr>\n",
       "  </thead>\n",
       "  <tbody>\n",
       "    <tr>\n",
       "      <th>10.0</th>\n",
       "      <td>1</td>\n",
       "      <td>4400</td>\n",
       "      <td>4400.000000</td>\n",
       "      <td>4400</td>\n",
       "      <td>4400</td>\n",
       "    </tr>\n",
       "    <tr>\n",
       "      <th>20.0</th>\n",
       "      <td>2</td>\n",
       "      <td>19000</td>\n",
       "      <td>9500.000000</td>\n",
       "      <td>6000</td>\n",
       "      <td>13000</td>\n",
       "    </tr>\n",
       "    <tr>\n",
       "      <th>30.0</th>\n",
       "      <td>6</td>\n",
       "      <td>24900</td>\n",
       "      <td>4150.000000</td>\n",
       "      <td>2500</td>\n",
       "      <td>11000</td>\n",
       "    </tr>\n",
       "    <tr>\n",
       "      <th>40.0</th>\n",
       "      <td>1</td>\n",
       "      <td>6500</td>\n",
       "      <td>6500.000000</td>\n",
       "      <td>6500</td>\n",
       "      <td>6500</td>\n",
       "    </tr>\n",
       "    <tr>\n",
       "      <th>50.0</th>\n",
       "      <td>45</td>\n",
       "      <td>156400</td>\n",
       "      <td>3475.555556</td>\n",
       "      <td>2100</td>\n",
       "      <td>8200</td>\n",
       "    </tr>\n",
       "    <tr>\n",
       "      <th>60.0</th>\n",
       "      <td>5</td>\n",
       "      <td>28800</td>\n",
       "      <td>5760.000000</td>\n",
       "      <td>4200</td>\n",
       "      <td>9000</td>\n",
       "    </tr>\n",
       "    <tr>\n",
       "      <th>70.0</th>\n",
       "      <td>1</td>\n",
       "      <td>10000</td>\n",
       "      <td>10000.000000</td>\n",
       "      <td>10000</td>\n",
       "      <td>10000</td>\n",
       "    </tr>\n",
       "    <tr>\n",
       "      <th>80.0</th>\n",
       "      <td>34</td>\n",
       "      <td>304500</td>\n",
       "      <td>8955.882353</td>\n",
       "      <td>6100</td>\n",
       "      <td>14000</td>\n",
       "    </tr>\n",
       "    <tr>\n",
       "      <th>90.0</th>\n",
       "      <td>3</td>\n",
       "      <td>58000</td>\n",
       "      <td>19333.333333</td>\n",
       "      <td>17000</td>\n",
       "      <td>24000</td>\n",
       "    </tr>\n",
       "    <tr>\n",
       "      <th>100.0</th>\n",
       "      <td>6</td>\n",
       "      <td>51608</td>\n",
       "      <td>8601.333333</td>\n",
       "      <td>6900</td>\n",
       "      <td>12008</td>\n",
       "    </tr>\n",
       "    <tr>\n",
       "      <th>110.0</th>\n",
       "      <td>2</td>\n",
       "      <td>20308</td>\n",
       "      <td>10154.000000</td>\n",
       "      <td>8300</td>\n",
       "      <td>12008</td>\n",
       "    </tr>\n",
       "  </tbody>\n",
       "</table>\n",
       "</div>"
      ],
      "text/plain": [
       "               count     sum          mean    min    max\n",
       "DEPARTMENT_ID                                           \n",
       "10.0               1    4400   4400.000000   4400   4400\n",
       "20.0               2   19000   9500.000000   6000  13000\n",
       "30.0               6   24900   4150.000000   2500  11000\n",
       "40.0               1    6500   6500.000000   6500   6500\n",
       "50.0              45  156400   3475.555556   2100   8200\n",
       "60.0               5   28800   5760.000000   4200   9000\n",
       "70.0               1   10000  10000.000000  10000  10000\n",
       "80.0              34  304500   8955.882353   6100  14000\n",
       "90.0               3   58000  19333.333333  17000  24000\n",
       "100.0              6   51608   8601.333333   6900  12008\n",
       "110.0              2   20308  10154.000000   8300  12008"
      ]
     },
     "execution_count": 49,
     "metadata": {},
     "output_type": "execute_result"
    }
   ],
   "source": [
    "df_emp.groupby('DEPARTMENT_ID')['SALARY'].agg(['count','sum','mean','min','max'])"
   ]
  },
  {
   "cell_type": "code",
   "execution_count": 50,
   "metadata": {},
   "outputs": [
    {
     "data": {
      "text/html": [
       "<div>\n",
       "<style scoped>\n",
       "    .dataframe tbody tr th:only-of-type {\n",
       "        vertical-align: middle;\n",
       "    }\n",
       "\n",
       "    .dataframe tbody tr th {\n",
       "        vertical-align: top;\n",
       "    }\n",
       "\n",
       "    .dataframe thead th {\n",
       "        text-align: right;\n",
       "    }\n",
       "</style>\n",
       "<table border=\"1\" class=\"dataframe\">\n",
       "  <thead>\n",
       "    <tr style=\"text-align: right;\">\n",
       "      <th></th>\n",
       "      <th>DEPARTMENT_ID</th>\n",
       "      <th>count</th>\n",
       "      <th>sum</th>\n",
       "      <th>mean</th>\n",
       "      <th>min</th>\n",
       "      <th>max</th>\n",
       "    </tr>\n",
       "  </thead>\n",
       "  <tbody>\n",
       "    <tr>\n",
       "      <th>0</th>\n",
       "      <td>10.0</td>\n",
       "      <td>1</td>\n",
       "      <td>4400</td>\n",
       "      <td>4400.000000</td>\n",
       "      <td>4400</td>\n",
       "      <td>4400</td>\n",
       "    </tr>\n",
       "    <tr>\n",
       "      <th>1</th>\n",
       "      <td>20.0</td>\n",
       "      <td>2</td>\n",
       "      <td>19000</td>\n",
       "      <td>9500.000000</td>\n",
       "      <td>6000</td>\n",
       "      <td>13000</td>\n",
       "    </tr>\n",
       "    <tr>\n",
       "      <th>2</th>\n",
       "      <td>30.0</td>\n",
       "      <td>6</td>\n",
       "      <td>24900</td>\n",
       "      <td>4150.000000</td>\n",
       "      <td>2500</td>\n",
       "      <td>11000</td>\n",
       "    </tr>\n",
       "    <tr>\n",
       "      <th>3</th>\n",
       "      <td>40.0</td>\n",
       "      <td>1</td>\n",
       "      <td>6500</td>\n",
       "      <td>6500.000000</td>\n",
       "      <td>6500</td>\n",
       "      <td>6500</td>\n",
       "    </tr>\n",
       "    <tr>\n",
       "      <th>4</th>\n",
       "      <td>50.0</td>\n",
       "      <td>45</td>\n",
       "      <td>156400</td>\n",
       "      <td>3475.555556</td>\n",
       "      <td>2100</td>\n",
       "      <td>8200</td>\n",
       "    </tr>\n",
       "    <tr>\n",
       "      <th>5</th>\n",
       "      <td>60.0</td>\n",
       "      <td>5</td>\n",
       "      <td>28800</td>\n",
       "      <td>5760.000000</td>\n",
       "      <td>4200</td>\n",
       "      <td>9000</td>\n",
       "    </tr>\n",
       "    <tr>\n",
       "      <th>6</th>\n",
       "      <td>70.0</td>\n",
       "      <td>1</td>\n",
       "      <td>10000</td>\n",
       "      <td>10000.000000</td>\n",
       "      <td>10000</td>\n",
       "      <td>10000</td>\n",
       "    </tr>\n",
       "    <tr>\n",
       "      <th>7</th>\n",
       "      <td>80.0</td>\n",
       "      <td>34</td>\n",
       "      <td>304500</td>\n",
       "      <td>8955.882353</td>\n",
       "      <td>6100</td>\n",
       "      <td>14000</td>\n",
       "    </tr>\n",
       "    <tr>\n",
       "      <th>8</th>\n",
       "      <td>90.0</td>\n",
       "      <td>3</td>\n",
       "      <td>58000</td>\n",
       "      <td>19333.333333</td>\n",
       "      <td>17000</td>\n",
       "      <td>24000</td>\n",
       "    </tr>\n",
       "    <tr>\n",
       "      <th>9</th>\n",
       "      <td>100.0</td>\n",
       "      <td>6</td>\n",
       "      <td>51608</td>\n",
       "      <td>8601.333333</td>\n",
       "      <td>6900</td>\n",
       "      <td>12008</td>\n",
       "    </tr>\n",
       "    <tr>\n",
       "      <th>10</th>\n",
       "      <td>110.0</td>\n",
       "      <td>2</td>\n",
       "      <td>20308</td>\n",
       "      <td>10154.000000</td>\n",
       "      <td>8300</td>\n",
       "      <td>12008</td>\n",
       "    </tr>\n",
       "  </tbody>\n",
       "</table>\n",
       "</div>"
      ],
      "text/plain": [
       "    DEPARTMENT_ID  count     sum          mean    min    max\n",
       "0            10.0      1    4400   4400.000000   4400   4400\n",
       "1            20.0      2   19000   9500.000000   6000  13000\n",
       "2            30.0      6   24900   4150.000000   2500  11000\n",
       "3            40.0      1    6500   6500.000000   6500   6500\n",
       "4            50.0     45  156400   3475.555556   2100   8200\n",
       "5            60.0      5   28800   5760.000000   4200   9000\n",
       "6            70.0      1   10000  10000.000000  10000  10000\n",
       "7            80.0     34  304500   8955.882353   6100  14000\n",
       "8            90.0      3   58000  19333.333333  17000  24000\n",
       "9           100.0      6   51608   8601.333333   6900  12008\n",
       "10          110.0      2   20308  10154.000000   8300  12008"
      ]
     },
     "execution_count": 50,
     "metadata": {},
     "output_type": "execute_result"
    }
   ],
   "source": [
    "df_emp.groupby('DEPARTMENT_ID')['SALARY'].agg(['count','sum','mean','min','max']).reset_index()"
   ]
  },
  {
   "cell_type": "code",
   "execution_count": 51,
   "metadata": {},
   "outputs": [],
   "source": [
    "emp = df_emp[['EMPLOYEE_ID', 'FIRST_NAME', 'SALARY', 'JOB_ID', 'DEPARTMENT_ID']]"
   ]
  },
  {
   "cell_type": "code",
   "execution_count": 52,
   "metadata": {},
   "outputs": [],
   "source": [
    "emp = pd.merge(emp, df_dep[['DEPARTMENT_ID','DEPARTMENT_NAME']])"
   ]
  },
  {
   "cell_type": "code",
   "execution_count": 53,
   "metadata": {},
   "outputs": [
    {
     "data": {
      "text/html": [
       "<div>\n",
       "<style scoped>\n",
       "    .dataframe tbody tr th:only-of-type {\n",
       "        vertical-align: middle;\n",
       "    }\n",
       "\n",
       "    .dataframe tbody tr th {\n",
       "        vertical-align: top;\n",
       "    }\n",
       "\n",
       "    .dataframe thead th {\n",
       "        text-align: right;\n",
       "    }\n",
       "</style>\n",
       "<table border=\"1\" class=\"dataframe\">\n",
       "  <thead>\n",
       "    <tr style=\"text-align: right;\">\n",
       "      <th></th>\n",
       "      <th>EMPLOYEE_ID</th>\n",
       "      <th>FIRST_NAME</th>\n",
       "      <th>SALARY</th>\n",
       "      <th>JOB_ID</th>\n",
       "      <th>DEPARTMENT_ID</th>\n",
       "      <th>DEPARTMENT_NAME</th>\n",
       "    </tr>\n",
       "  </thead>\n",
       "  <tbody>\n",
       "    <tr>\n",
       "      <th>0</th>\n",
       "      <td>100</td>\n",
       "      <td>Steven</td>\n",
       "      <td>24000</td>\n",
       "      <td>AD_PRES</td>\n",
       "      <td>90.0</td>\n",
       "      <td>Executive</td>\n",
       "    </tr>\n",
       "    <tr>\n",
       "      <th>1</th>\n",
       "      <td>101</td>\n",
       "      <td>Neena</td>\n",
       "      <td>17000</td>\n",
       "      <td>AD_VP</td>\n",
       "      <td>90.0</td>\n",
       "      <td>Executive</td>\n",
       "    </tr>\n",
       "    <tr>\n",
       "      <th>2</th>\n",
       "      <td>102</td>\n",
       "      <td>Lex</td>\n",
       "      <td>17000</td>\n",
       "      <td>AD_VP</td>\n",
       "      <td>90.0</td>\n",
       "      <td>Executive</td>\n",
       "    </tr>\n",
       "    <tr>\n",
       "      <th>3</th>\n",
       "      <td>103</td>\n",
       "      <td>Alexander</td>\n",
       "      <td>9000</td>\n",
       "      <td>IT_PROG</td>\n",
       "      <td>60.0</td>\n",
       "      <td>IT</td>\n",
       "    </tr>\n",
       "    <tr>\n",
       "      <th>4</th>\n",
       "      <td>104</td>\n",
       "      <td>Bruce</td>\n",
       "      <td>6000</td>\n",
       "      <td>IT_PROG</td>\n",
       "      <td>60.0</td>\n",
       "      <td>IT</td>\n",
       "    </tr>\n",
       "  </tbody>\n",
       "</table>\n",
       "</div>"
      ],
      "text/plain": [
       "   EMPLOYEE_ID FIRST_NAME  SALARY   JOB_ID  DEPARTMENT_ID DEPARTMENT_NAME\n",
       "0          100     Steven   24000  AD_PRES           90.0       Executive\n",
       "1          101      Neena   17000    AD_VP           90.0       Executive\n",
       "2          102        Lex   17000    AD_VP           90.0       Executive\n",
       "3          103  Alexander    9000  IT_PROG           60.0              IT\n",
       "4          104      Bruce    6000  IT_PROG           60.0              IT"
      ]
     },
     "execution_count": 53,
     "metadata": {},
     "output_type": "execute_result"
    }
   ],
   "source": [
    "emp.head()"
   ]
  },
  {
   "cell_type": "code",
   "execution_count": 54,
   "metadata": {},
   "outputs": [
    {
     "data": {
      "text/plain": [
       "DEPARTMENT_ID  DEPARTMENT_NAME \n",
       "10.0           Administration       4400.000000\n",
       "20.0           Marketing            9500.000000\n",
       "30.0           Purchasing           4150.000000\n",
       "40.0           Human Resources      6500.000000\n",
       "50.0           Shipping             3475.555556\n",
       "60.0           IT                   5760.000000\n",
       "70.0           Public Relations    10000.000000\n",
       "80.0           Sales                8955.882353\n",
       "90.0           Executive           19333.333333\n",
       "100.0          Finance              8601.333333\n",
       "110.0          Accounting          10154.000000\n",
       "Name: SALARY, dtype: float64"
      ]
     },
     "execution_count": 54,
     "metadata": {},
     "output_type": "execute_result"
    }
   ],
   "source": [
    "emp_ = emp.groupby(['DEPARTMENT_ID','DEPARTMENT_NAME'])['SALARY'].mean()\n",
    "emp_"
   ]
  },
  {
   "cell_type": "code",
   "execution_count": 55,
   "metadata": {},
   "outputs": [
    {
     "data": {
      "text/plain": [
       "DEPARTMENT_NAME\n",
       "Sales    8955.882353\n",
       "Name: SALARY, dtype: float64"
      ]
     },
     "execution_count": 55,
     "metadata": {},
     "output_type": "execute_result"
    }
   ],
   "source": [
    "emp_.loc[(80,)]"
   ]
  },
  {
   "cell_type": "code",
   "execution_count": 56,
   "metadata": {},
   "outputs": [
    {
     "data": {
      "text/plain": [
       "4150.0"
      ]
     },
     "execution_count": 56,
     "metadata": {},
     "output_type": "execute_result"
    }
   ],
   "source": [
    "emp_.loc[(30,'Purchasing')]"
   ]
  },
  {
   "cell_type": "code",
   "execution_count": 57,
   "metadata": {},
   "outputs": [
    {
     "data": {
      "text/plain": [
       "4150.0"
      ]
     },
     "execution_count": 57,
     "metadata": {},
     "output_type": "execute_result"
    }
   ],
   "source": [
    "emp_.iloc[2]"
   ]
  },
  {
   "cell_type": "code",
   "execution_count": 58,
   "metadata": {},
   "outputs": [
    {
     "data": {
      "text/plain": [
       "DEPARTMENT_ID  JOB_ID    \n",
       "10.0           AD_ASST        4400.000000\n",
       "20.0           MK_MAN        13000.000000\n",
       "               MK_REP         6000.000000\n",
       "30.0           PU_CLERK       2780.000000\n",
       "               PU_MAN        11000.000000\n",
       "40.0           HR_REP         6500.000000\n",
       "50.0           SH_CLERK       3215.000000\n",
       "               ST_CLERK       2785.000000\n",
       "               ST_MAN         7280.000000\n",
       "60.0           IT_PROG        5760.000000\n",
       "70.0           PR_REP        10000.000000\n",
       "80.0           SA_MAN        12200.000000\n",
       "               SA_REP         8396.551724\n",
       "90.0           AD_PRES       24000.000000\n",
       "               AD_VP         17000.000000\n",
       "100.0          FI_ACCOUNT     7920.000000\n",
       "               FI_MGR        12008.000000\n",
       "110.0          AC_ACCOUNT     8300.000000\n",
       "               AC_MGR        12008.000000\n",
       "Name: SALARY, dtype: float64"
      ]
     },
     "execution_count": 58,
     "metadata": {},
     "output_type": "execute_result"
    }
   ],
   "source": [
    "emp_ = emp.groupby(['DEPARTMENT_ID','JOB_ID'])['SALARY'].mean()\n",
    "emp_"
   ]
  },
  {
   "cell_type": "code",
   "execution_count": 59,
   "metadata": {},
   "outputs": [
    {
     "data": {
      "text/plain": [
       "6000.0"
      ]
     },
     "execution_count": 59,
     "metadata": {},
     "output_type": "execute_result"
    }
   ],
   "source": [
    "emp_.iloc[2]"
   ]
  },
  {
   "cell_type": "code",
   "execution_count": 60,
   "metadata": {},
   "outputs": [
    {
     "data": {
      "text/plain": [
       "11000.0"
      ]
     },
     "execution_count": 60,
     "metadata": {},
     "output_type": "execute_result"
    }
   ],
   "source": [
    "emp_.loc[(30,'PU_MAN')]"
   ]
  },
  {
   "cell_type": "code",
   "execution_count": null,
   "metadata": {},
   "outputs": [],
   "source": []
  }
 ],
 "metadata": {
  "kernelspec": {
   "display_name": "Python 3",
   "language": "python",
   "name": "python3"
  },
  "language_info": {
   "codemirror_mode": {
    "name": "ipython",
    "version": 3
   },
   "file_extension": ".py",
   "mimetype": "text/x-python",
   "name": "python",
   "nbconvert_exporter": "python",
   "pygments_lexer": "ipython3",
   "version": "3.8.5"
  }
 },
 "nbformat": 4,
 "nbformat_minor": 2
}
