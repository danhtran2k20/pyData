{
 "cells": [
  {
   "cell_type": "code",
   "execution_count": 1,
   "metadata": {},
   "outputs": [],
   "source": [
    "import folium\n",
    "import pandas as pd\n",
    "import numpy as np\n",
    "import matplotlib.pyplot as plt"
   ]
  },
  {
   "cell_type": "code",
   "execution_count": 2,
   "metadata": {},
   "outputs": [],
   "source": [
    "# 10 quán café xung quanh 137E Nguyễn Chí Thanh với bán kính 1km\n",
    "df = pd.read_csv('data/coffeePlace.csv')"
   ]
  },
  {
   "cell_type": "code",
   "execution_count": 3,
   "metadata": {},
   "outputs": [
    {
     "data": {
      "text/html": [
       "<div>\n",
       "<style scoped>\n",
       "    .dataframe tbody tr th:only-of-type {\n",
       "        vertical-align: middle;\n",
       "    }\n",
       "\n",
       "    .dataframe tbody tr th {\n",
       "        vertical-align: top;\n",
       "    }\n",
       "\n",
       "    .dataframe thead th {\n",
       "        text-align: right;\n",
       "    }\n",
       "</style>\n",
       "<table border=\"1\" class=\"dataframe\">\n",
       "  <thead>\n",
       "    <tr style=\"text-align: right;\">\n",
       "      <th></th>\n",
       "      <th>Unnamed: 0</th>\n",
       "      <th>name</th>\n",
       "      <th>checkins</th>\n",
       "      <th>location</th>\n",
       "      <th>id</th>\n",
       "      <th>lat</th>\n",
       "      <th>lng</th>\n",
       "    </tr>\n",
       "  </thead>\n",
       "  <tbody>\n",
       "    <tr>\n",
       "      <th>0</th>\n",
       "      <td>0</td>\n",
       "      <td>Passio Coffee Vietnam</td>\n",
       "      <td>41</td>\n",
       "      <td>{'city': 'Ho Chi Minh City', 'country': 'Vietn...</td>\n",
       "      <td>105142024251290</td>\n",
       "      <td>10.759100</td>\n",
       "      <td>106.664600</td>\n",
       "    </tr>\n",
       "    <tr>\n",
       "      <th>1</th>\n",
       "      <td>1</td>\n",
       "      <td>Coffee Phố Hương Thành Phố Hồ Chí Minh</td>\n",
       "      <td>299</td>\n",
       "      <td>{'city': 'Ho Chi Minh City', 'country': 'Vietn...</td>\n",
       "      <td>100549471341440</td>\n",
       "      <td>10.754696</td>\n",
       "      <td>106.666548</td>\n",
       "    </tr>\n",
       "    <tr>\n",
       "      <th>2</th>\n",
       "      <td>2</td>\n",
       "      <td>Sama coffee</td>\n",
       "      <td>293</td>\n",
       "      <td>{'city': 'Ho Chi Minh City', 'country': 'Vietn...</td>\n",
       "      <td>209070719490589</td>\n",
       "      <td>10.758920</td>\n",
       "      <td>106.664260</td>\n",
       "    </tr>\n",
       "    <tr>\n",
       "      <th>3</th>\n",
       "      <td>3</td>\n",
       "      <td>Coffee Thềm Xưa Nguyễn Cảnh Chân Q1</td>\n",
       "      <td>69</td>\n",
       "      <td>{'city': 'Ho Chi Minh City', 'country': 'Vietn...</td>\n",
       "      <td>1623765911195368</td>\n",
       "      <td>10.754438</td>\n",
       "      <td>106.671120</td>\n",
       "    </tr>\n",
       "    <tr>\n",
       "      <th>4</th>\n",
       "      <td>4</td>\n",
       "      <td>Coffee Bida 68</td>\n",
       "      <td>10</td>\n",
       "      <td>{'city': 'Ho Chi Minh City', 'country': 'Vietn...</td>\n",
       "      <td>114125302473404</td>\n",
       "      <td>10.760650</td>\n",
       "      <td>106.665290</td>\n",
       "    </tr>\n",
       "    <tr>\n",
       "      <th>5</th>\n",
       "      <td>5</td>\n",
       "      <td>Check In Coffee</td>\n",
       "      <td>5</td>\n",
       "      <td>{'city': 'Quận 12', 'country': 'Vietnam', 'lat...</td>\n",
       "      <td>103366044776121</td>\n",
       "      <td>10.758265</td>\n",
       "      <td>106.664487</td>\n",
       "    </tr>\n",
       "    <tr>\n",
       "      <th>6</th>\n",
       "      <td>6</td>\n",
       "      <td>Bida 336</td>\n",
       "      <td>416</td>\n",
       "      <td>{'city': 'Ho Chi Minh City', 'country': 'Vietn...</td>\n",
       "      <td>582592282100399</td>\n",
       "      <td>10.759540</td>\n",
       "      <td>106.666700</td>\n",
       "    </tr>\n",
       "    <tr>\n",
       "      <th>7</th>\n",
       "      <td>7</td>\n",
       "      <td>Oval Coffee 68 Đào Duy Từ</td>\n",
       "      <td>1095</td>\n",
       "      <td>{'city': 'Ho Chi Minh City', 'country': 'Vietn...</td>\n",
       "      <td>466298203476956</td>\n",
       "      <td>10.760286</td>\n",
       "      <td>106.666327</td>\n",
       "    </tr>\n",
       "  </tbody>\n",
       "</table>\n",
       "</div>"
      ],
      "text/plain": [
       "   Unnamed: 0                                    name  checkins  \\\n",
       "0           0                   Passio Coffee Vietnam        41   \n",
       "1           1  Coffee Phố Hương Thành Phố Hồ Chí Minh       299   \n",
       "2           2                             Sama coffee       293   \n",
       "3           3     Coffee Thềm Xưa Nguyễn Cảnh Chân Q1        69   \n",
       "4           4                          Coffee Bida 68        10   \n",
       "5           5                         Check In Coffee         5   \n",
       "6           6                                Bida 336       416   \n",
       "7           7               Oval Coffee 68 Đào Duy Từ      1095   \n",
       "\n",
       "                                            location                id  \\\n",
       "0  {'city': 'Ho Chi Minh City', 'country': 'Vietn...   105142024251290   \n",
       "1  {'city': 'Ho Chi Minh City', 'country': 'Vietn...   100549471341440   \n",
       "2  {'city': 'Ho Chi Minh City', 'country': 'Vietn...   209070719490589   \n",
       "3  {'city': 'Ho Chi Minh City', 'country': 'Vietn...  1623765911195368   \n",
       "4  {'city': 'Ho Chi Minh City', 'country': 'Vietn...   114125302473404   \n",
       "5  {'city': 'Quận 12', 'country': 'Vietnam', 'lat...   103366044776121   \n",
       "6  {'city': 'Ho Chi Minh City', 'country': 'Vietn...   582592282100399   \n",
       "7  {'city': 'Ho Chi Minh City', 'country': 'Vietn...   466298203476956   \n",
       "\n",
       "         lat         lng  \n",
       "0  10.759100  106.664600  \n",
       "1  10.754696  106.666548  \n",
       "2  10.758920  106.664260  \n",
       "3  10.754438  106.671120  \n",
       "4  10.760650  106.665290  \n",
       "5  10.758265  106.664487  \n",
       "6  10.759540  106.666700  \n",
       "7  10.760286  106.666327  "
      ]
     },
     "execution_count": 3,
     "metadata": {},
     "output_type": "execute_result"
    }
   ],
   "source": [
    "df"
   ]
  },
  {
   "cell_type": "code",
   "execution_count": 4,
   "metadata": {},
   "outputs": [
    {
     "data": {
      "text/html": [
       "<div style=\"width:100%;\"><div style=\"position:relative;width:100%;height:0;padding-bottom:60%;\"><iframe src=\"data:text/html;charset=utf-8;base64,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\" style=\"position:absolute;width:100%;height:100%;left:0;top:0;border:none !important;\" allowfullscreen webkitallowfullscreen mozallowfullscreen></iframe></div></div>"
      ],
      "text/plain": [
       "<folium.folium.Map at 0x18ff74ea0f0>"
      ]
     },
     "execution_count": 4,
     "metadata": {},
     "output_type": "execute_result"
    }
   ],
   "source": [
    "cen_latitude = 10.7590685\n",
    "cen_longitude = 106.6644998\n",
    "hcm_map = folium.Map(location=[cen_latitude, cen_longitude], zoom_start=15)\n",
    "for lat, lng, label in zip(df.lat, df.lng, df.name):\n",
    "    folium.Marker(location=[lat, lng], tooltip=label).add_to(hcm_map)\n",
    "hcm_map"
   ]
  },
  {
   "cell_type": "code",
   "execution_count": 5,
   "metadata": {},
   "outputs": [
    {
     "data": {
      "text/html": [
       "<div style=\"width:100%;\"><div style=\"position:relative;width:100%;height:0;padding-bottom:60%;\"><iframe src=\"data:text/html;charset=utf-8;base64,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\" style=\"position:absolute;width:100%;height:100%;left:0;top:0;border:none !important;\" allowfullscreen webkitallowfullscreen mozallowfullscreen></iframe></div></div>"
      ],
      "text/plain": [
       "<folium.folium.Map at 0x18ff750d128>"
      ]
     },
     "execution_count": 5,
     "metadata": {},
     "output_type": "execute_result"
    }
   ],
   "source": [
    "# vi tri 137E Nguyen Chi Thanh\n",
    "cen_latitude = 10.7590685\n",
    "cen_longitude = 106.6644998\n",
    "hcm_map = folium.Map(location=[cen_latitude, cen_longitude], zoom_start=15)\n",
    "# tao cac marker (la cac popup)\n",
    "for lat, lng, label in zip(df.lat, df.lng, df.name):\n",
    "    text = '<b>'+label+'</b>'\n",
    "    folium.Marker(location=[lat, lng], tooltip=text).add_to(hcm_map)\n",
    "# ve ban do\n",
    "hcm_map"
   ]
  },
  {
   "cell_type": "code",
   "execution_count": null,
   "metadata": {},
   "outputs": [],
   "source": []
  }
 ],
 "metadata": {
  "kernelspec": {
   "display_name": "Python 3",
   "language": "python",
   "name": "python3"
  },
  "language_info": {
   "codemirror_mode": {
    "name": "ipython",
    "version": 3
   },
   "file_extension": ".py",
   "mimetype": "text/x-python",
   "name": "python",
   "nbconvert_exporter": "python",
   "pygments_lexer": "ipython3",
   "version": "3.6.8"
  }
 },
 "nbformat": 4,
 "nbformat_minor": 2
}
