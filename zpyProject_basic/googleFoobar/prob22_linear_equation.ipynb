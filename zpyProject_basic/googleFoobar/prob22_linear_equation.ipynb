{
 "cells": [
  {
   "cell_type": "code",
   "execution_count": 9,
   "metadata": {},
   "outputs": [],
   "source": [
    "import numpy as np\n",
    "from fractions import Fraction"
   ]
  },
  {
   "cell_type": "code",
   "execution_count": 6,
   "metadata": {},
   "outputs": [
    {
     "name": "stdout",
     "output_type": "stream",
     "text": [
      "arrGrear pre mod:\n",
      " [[2. 1. 0.]\n",
      " [0. 1. 1.]\n",
      " [0. 0. 1.]]\n",
      "[[ 1.  1.  0.]\n",
      " [ 0.  1.  1.]\n",
      " [ 1.  0. -2.]]\n"
     ]
    }
   ],
   "source": [
    "n = 3\n",
    "\n",
    "arrGear = np.eye(n)\n",
    "arrGear += np.roll(arrGear, 1)\n",
    "print(\"arrGrear pre mod:\\n\", arrGear)\n",
    "\n",
    "# Khi shift thì ma trận được flat -> convert ngược \n",
    "# nên phải chỉnh tay hàng đầu, cuối\n",
    "\n",
    "arrGear[0][0] = 1\n",
    "arrGear[n - 1][0] = 1\n",
    "arrGear[n - 1][n - 1] = -2\n",
    "print(arrGear)\n"
   ]
  },
  {
   "cell_type": "code",
   "execution_count": 3,
   "metadata": {},
   "outputs": [
    {
     "name": "stdout",
     "output_type": "stream",
     "text": [
      "[26, 0]\n"
     ]
    }
   ],
   "source": [
    "pegs = [4, 30, 50]\n",
    "arrGearEx = [(pegs[i+1] - pegs[i]) for i in range(len(pegs)-1)]\n",
    "arrGearEx[-1] = 0\n",
    "print(arrGearEx)"
   ]
  },
  {
   "cell_type": "code",
   "execution_count": 16,
   "metadata": {},
   "outputs": [
    {
     "name": "stdout",
     "output_type": "stream",
     "text": [
      "detA:  -29\n",
      "detArrA:  -29\n",
      "col2:  [ 0  3 -1]\n"
     ]
    }
   ],
   "source": [
    "# demo numpy linear algebra determinant of a matrix\n",
    "arrA = np.array([[2,1,0],[1,0,3],[0,5,-1]])\n",
    "detA = round(np.linalg.det(arrA))\n",
    "print('detA: ', detA)\n",
    "detArrA = Fraction(detA)\n",
    "print('detArrA: ', detArrA)\n",
    "print('col2: ',arrA[:,2])"
   ]
  },
  {
   "cell_type": "code",
   "execution_count": 17,
   "metadata": {},
   "outputs": [
    {
     "name": "stdout",
     "output_type": "stream",
     "text": [
      "[Fraction(1, 1), Fraction(3, 1), Fraction(5, 1)]\n"
     ]
    }
   ],
   "source": [
    "arrResult = []\n",
    "arrA_ext = [5, 16, 10]\n",
    "for i in range(3):\n",
    "    arrA_ext_temp = np.copy(arrA)\n",
    "    arrA_ext_temp[:, i] = arrA_ext\n",
    "    arrResult.append(Fraction(round(np.linalg.det(arrA_ext_temp))) / detArrA)\n",
    "print(arrResult)"
   ]
  }
 ],
 "metadata": {
  "interpreter": {
   "hash": "fe93ddd766552dceea2d7f07abd21060b4ba8b277576c55d124449dd97658de9"
  },
  "kernelspec": {
   "display_name": "Python 3.9.7 64-bit",
   "language": "python",
   "name": "python3"
  },
  "language_info": {
   "codemirror_mode": {
    "name": "ipython",
    "version": 3
   },
   "file_extension": ".py",
   "mimetype": "text/x-python",
   "name": "python",
   "nbconvert_exporter": "python",
   "pygments_lexer": "ipython3",
   "version": "3.9.7"
  },
  "orig_nbformat": 4
 },
 "nbformat": 4,
 "nbformat_minor": 2
}
